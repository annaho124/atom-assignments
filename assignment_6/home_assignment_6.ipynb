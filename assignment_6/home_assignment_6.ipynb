{
  "nbformat": 4,
  "nbformat_minor": 0,
  "metadata": {
    "colab": {
      "name": "home_assignment_5.ipynb",
      "provenance": [],
      "toc_visible": true
    },
    "kernelspec": {
      "name": "python374jvsc74a57bd06ad2903d9f8eb78095a8e1054d3b7d96029c25240c1559c5c7674409ebbac066",
      "display_name": "Python 3.7.4 64-bit ('base': conda)"
    },
    "language_info": {
      "name": "python",
      "version": "3.7.4"
    }
  },
  "cells": [
    {
      "cell_type": "markdown",
      "metadata": {
        "id": "sQ8jh5aiy8zo"
      },
      "source": [
        "# HOME ASSIGNMENT #6: CLOUD FUNCTION & STREAMLIT\n",
        "\n",
        "**Mục đích của bài Assignment**\n",
        "> *  [Optional] Data Deploy Cloud Function \n",
        "> *  Tạo Data Apps với Streamlit\n",
        "> *  Thao tác với data bằng Pandas\n",
        "> *  Data Visualization\n",
        "\n",
        "**Các kiến thức áp dụng**\n",
        "* Slack API, JSON to DataFrame\n",
        "* GCP Cloud Function\n",
        "* Streamlit\n",
        "* Python Pandas\n",
        "* Python Data Visualization\n",
        "\n",
        "**Lời Khuyên**\n",
        "* Các bạn dành thời gian ôn lại và xâu chuỗi kiến thức\n",
        "* Review Assignment 1-5 cho ít nhất 2 bạn học viên khác"
      ]
    },
    {
      "cell_type": "code",
      "execution_count": 2,
      "metadata": {},
      "outputs": [
        {
          "output_type": "stream",
          "name": "stdout",
          "text": [
            " Volume in drive C is System\n Volume Serial Number is 140C-D8FD\n\n Directory of c:\\Users\\Admin\\OneDrive\\Documents\\GitHub\\atom-assignments\\assignment_6\n\n06/12/2021  01:30 AM    <DIR>          .\n06/12/2021  01:30 AM    <DIR>          ..\n06/11/2021  12:18 AM               224 env_variable.json\n06/12/2021  12:43 AM            10,348 home_assignment_6.ipynb\n06/06/2021  05:36 PM               549 README.md\n               3 File(s)         11,121 bytes\n               2 Dir(s)   5,703,331,840 bytes free\n"
          ]
        }
      ],
      "source": [
        "!dir"
      ]
    },
    {
      "source": [
        "# TODO 1: Python Data Viz\n",
        "Hoàn tất các sets bài tập trên [Kaggle Data Visualization](https://www.kaggle.com/learn/data-visualization) - Nếu chưa hoàn thành trong [Assignment 5](https://github.com/anhdanggit/atom-assignments/blob/main/assignment_5/home_assignment_5.ipynb)"
      ],
      "cell_type": "markdown",
      "metadata": {}
    },
    {
      "cell_type": "code",
      "execution_count": 14,
      "metadata": {},
      "outputs": [],
      "source": [
        "# Copy các link Kaggle sau:\n",
        "## 1. Link tới Kaggle Account của bạn -----> https://www.kaggle.com/baonganho/account\n",
        "## 2. Link tới các bài tập\n",
        "## DataViz 1: ---> https://www.kaggle.com/baonganho/exercise-hello-seaborn\n",
        "## DataViz 2: ---> https://www.kaggle.com/baonganho/exercise-line-charts\n",
        "## DataViz 3: ---> https://www.kaggle.com/baonganho/exercise-bar-charts-and-heatmaps\n",
        "## DataViz 4: ---> https://www.kaggle.com/baonganho/exercise-scatter-plots\n",
        "## DataViz 5: ---> https://www.kaggle.com/baonganho/exercise-distributions\n",
        "## DataViz 6: ---> https://www.kaggle.com/baonganho/exercise-choosing-plot-types-and-custom-styles\n",
        "## DataViz 7: ---> https://www.kaggle.com/baonganho/exercise-final-project"
      ]
    },
    {
      "cell_type": "markdown",
      "metadata": {
        "id": "t28PUQoNzy1k"
      },
      "source": [
        "# TODO 2 (OPTIONAL): DEPLOY GOOGLE CLOUD FUNCTION\n",
        "* Làm theo Lab của Week 6: [HERE](https://anhdang.gitbook.io/datacracy/atom/6-cloud-function-and-streamlit/6.2-lab-cloud-function-hands-on)\n",
        "* Click đôi vào các tab Markdown bên dưới để trả lời các câu hỏi ([Markdown Cheatsheet](https://guides.github.com/features/mastering-markdown/))"
      ]
    },
    {
      "source": [
        "## Screenshot Cloud Function on GCP\n",
        "> *Copy Screenshot vào folder img trong repo, và đổi link bên dưới*\n",
        "\n",
        "![Cloud Function Deployed](/img/yourscreenshot.png)"
      ],
      "cell_type": "markdown",
      "metadata": {}
    },
    {
      "cell_type": "code",
      "execution_count": null,
      "metadata": {},
      "outputs": [],
      "source": []
    },
    {
      "source": [
        "## Screenshot Cloud Function Testing on GCP\n",
        "> *Copy Screenshot vào folder img trong repo, và đổi link bên dưới*\n",
        "\n",
        "![\bCloud Function Testing](../img/yourscreenshot.png)"
      ],
      "cell_type": "markdown",
      "metadata": {}
    },
    {
      "cell_type": "code",
      "execution_count": null,
      "metadata": {},
      "outputs": [],
      "source": []
    },
    {
      "source": [
        "## Screenshot Cloud Function Call on Postman\n",
        "> *Copy Screenshot vào folder img trong repo, và đổi link bên dưới*\n",
        "\n",
        "![\bCloud Function on Postman](../img/yourscreenshot.png)"
      ],
      "cell_type": "markdown",
      "metadata": {
        "id": "2QUVZlLm00PG"
      }
    },
    {
      "cell_type": "code",
      "execution_count": null,
      "metadata": {},
      "outputs": [],
      "source": []
    },
    {
      "source": [
        "## Các lỗi gặp trong quá trình thực hiện \n",
        "*Liên kê bên dưới các lỗi bạn gặp và các giải quyết*\n",
        "\n",
        "1. \n",
        "2. \n",
        "3. "
      ],
      "cell_type": "markdown",
      "metadata": {
        "id": "u5c_Lx9MyzSF"
      }
    },
    {
      "cell_type": "code",
      "execution_count": null,
      "metadata": {},
      "outputs": [],
      "source": []
    },
    {
      "source": [
        "# TODO 3: HIỂU & DIAGRAM CODE STREAMLIT \n",
        "Mình thường khuyên các bạn mới học code rằng:\n",
        "\n",
        "> Hãy code với một cây bút chì và tờ giấy\n",
        "\n",
        "Như thế nào?\n",
        "\n",
        "1. Đầu tiên, là hình dung trong đầu: Bạn sẽ bắt đầu từ gì (`inputs`) và cho ra những gì (`output`)\n",
        "2. Rồi, để đi từ inputs đến outputs thì bạn cần thực hiện những bước nào (các `functions`)\n",
        "\n",
        "Bạn có thể vẽ ra một diagram như vậy giúp bạn:\n",
        "* Nhìn bức tranh lớn, và không bị sa đà vào tiểu tiết, syntax\n",
        "* Rõ ràng hơn về flow \n",
        "* Giúp bạn tối ưu flow trước, rồi sau đó code sẽ thuận lợi hơn\n",
        "* Rất hiệu quả để bạn debugs trong tương lai\n",
        "\n",
        "Tham khảo Diagram sau của [streamlit/data_glimpse.py](https://github.com/anhdanggit/atom-assignments/blob/main/streamlit/data_glimpse.py) và vẽ diagram theo cách hiểu của bạn cho [streamlit/datacracy_slack.py](https://github.com/anhdanggit/atom-assignments/blob/main/streamlit/datacracy_slack.py)"
      ],
      "cell_type": "markdown",
      "metadata": {
        "id": "bT_ziqVJ1COI"
      }
    },
    {
      "source": [
        "## Diagram Data Glimpse Apps\n",
        "> Bên dưới là ví dụ Diagram của app [streamlit/data_glimpse.py](https://github.com/anhdanggit/atom-assignments/blob/main/streamlit/data_glimpse.py)\n",
        "\n",
        "![data-glimpse-diagream](../img/streamlit-Data-Glimpse-Diagram.png)"
      ],
      "cell_type": "markdown",
      "metadata": {}
    },
    {
      "source": [
        "## DataCracy Slack \n",
        "> Là apps để tổng hợp lịch sử nộp bài, review và discussion của Datacracy Learners\n",
        "![Datacracy-slack-streamlit](../img/dataCracy-slack-streamlit.png)"
      ],
      "cell_type": "markdown",
      "metadata": {}
    },
    {
      "source": [
        "## Diagram DataCracy Slack Apps\n",
        "* Xem code của app [streamlit/datacracy_slack.py](https://github.com/anhdanggit/atom-assignments/blob/main/streamlit/datacracy_slack.py)\n",
        "> *Copy Diagram bạn vẽ vào folder img trong repo, và đổi link bên dưới*\n",
        "\n",
        "![Datacracy-slack-streamlit](../img\\Process_data_slack.jpg)"
      ],
      "cell_type": "markdown",
      "metadata": {}
    },
    {
      "cell_type": "code",
      "execution_count": null,
      "metadata": {},
      "outputs": [],
      "source": []
    },
    {
      "source": [
        "## Giải thích \n",
        "Xem code của app [streamlit/datacracy_slack.py](https://github.com/anhdanggit/atom-assignments/blob/main/streamlit/datacracy_slack.py):\n",
        "\n",
        "1. Trong mỗi function (steps) trong Diagram của bạn, giải thích function làm những việc gì?\n",
        "2. Liệt kê các logics được áp dụng để xử lý data?"
      ],
      "cell_type": "markdown",
      "metadata": {}
    },
    {
      "cell_type": "code",
      "execution_count": 17,
      "metadata": {},
      "outputs": [],
      "source": [
        "## YOUR ANSWER\n",
        "'''\n",
        "1. Function process_msg_df():\n",
        "Input: user_df, channel_df, msg_df\n",
        "Process:\n",
        "- Tách 2 giá trị trong cột reply_user thành hai cột reply_user_1 và reply_user_2\n",
        "- Merge user_df và msg_df để lấy thông tin tên của learner nộp bài, reply_1 và reply_2\n",
        "- Merge channel_df và msg_df để lấy tên của channel.\n",
        "- Format lại các cột có giá trị datetime.\n",
        "Output: process_msg_df có các thông tin từ user_df, channel_df và msg_df\n",
        "2. Các logic được áp dụng:\n",
        "- Đầu tiên, các bảng dữ liệu được load vào trong app.\n",
        "- Tiếp theo, khi user vào app và nhập vào id của mình, lệnh if valid_user_id sẽ kiểm tra xem đây có phải là user_id trong bảng user_df hay không => Nếu không sẽ print thông báo \"Không phải user_id\"\n",
        "- Nếu là user_id, các câu lệnh tiếp theo sẽ lấy các thông tin nộp bài của user_id trên các channel nộp bài atom.\n",
        "- Sau đó, các câu lệnh được thực hiện để kiểm tra xem user_id đã review bài tập của user nào khác.\n",
        "- Cuối cùng là sẽ xem các msg của user_id trong các channel discussion_group."
      ]
    },
    {
      "cell_type": "code",
      "metadata": {
        "id": "UccXW_FH4Glg"
      },
      "source": [],
      "execution_count": null,
      "outputs": []
    },
    {
      "source": [
        "# TODO 4: VISUALIZATION ON STREAMLIT\n",
        "Áp dụng kiến thức đã học trong *TODO 1* + Pandas thực hiện các tasks sau:\n",
        "\n",
        "1. Tổng hợp cho tất cả learners các chỉ số sau: \n",
        "    * Số assignment đã nộp\n",
        "    * % bài được review \n",
        "    * Số workcount đã thảo luận \n",
        "    * Extract thứ trong tuần (weekday) của ngày nộp bài \n",
        "    * Extract giờ trong ngày nộp bài (hour)\n",
        "    \n",
        "4. Vẽ biểu đồ thể hiện phân phối (Distribution - [Kaggle Tutorial](https://www.kaggle.com/alexisbcook/distributions)) của các thông số trên và add vào app Streamlit"
      ],
      "cell_type": "markdown",
      "metadata": {}
    },
    {
      "cell_type": "code",
      "execution_count": 3,
      "metadata": {},
      "outputs": [],
      "source": [
        "import json\n",
        "import requests\n",
        "import sys\n",
        "import os\n",
        "import pandas as pd\n",
        "import numpy as np\n",
        "import re\n",
        "from datetime import datetime as dt"
      ]
    },
    {
      "cell_type": "code",
      "execution_count": 4,
      "metadata": {},
      "outputs": [],
      "source": [
        "with open('env_variable.json','r') as j:\n",
        "    json_data = json.load(j)\n",
        "os.environ['SLACK_BEARER_TOKEN'] = json_data['SLACK_BEARER_TOKEN'] \n",
        "DTC_GROUPS_URL = ('https://raw.githubusercontent.com/anhdanggit/atom-assignments/main/data/datacracy_groups.csv')"
      ]
    },
    {
      "cell_type": "code",
      "execution_count": 30,
      "metadata": {},
      "outputs": [
        {
          "output_type": "execute_result",
          "data": {
            "text/plain": [
              "       user_id               name       display_name           real_name  \\\n",
              "0    USLACKBOT           slackbot           Slackbot            Slackbot   \n",
              "1  U01AT4T75JB     loclexuan26392        Loc Le Xuan         Loc Le Xuan   \n",
              "2  U01AVDY7JET           locle.ds        Loc Le Xuan         Loc Le Xuan   \n",
              "3  U01BE2PR6LU     maianhdang.ftu                MAD  Dặng Huỳnh Mai Anh   \n",
              "4  U01C48T7S1J  huyenhoang.design  Thanh Huyen Hoang   Thanh Huyen Hoang   \n",
              "\n",
              "                title  is_bot DataCracy_role  \n",
              "0                           0            BTC  \n",
              "1                           0            BTC  \n",
              "2                           0            BTC  \n",
              "3  Technical Contents       0            BTC  \n",
              "4                           0            BTC  "
            ],
            "text/html": "<div>\n<style scoped>\n    .dataframe tbody tr th:only-of-type {\n        vertical-align: middle;\n    }\n\n    .dataframe tbody tr th {\n        vertical-align: top;\n    }\n\n    .dataframe thead th {\n        text-align: right;\n    }\n</style>\n<table border=\"1\" class=\"dataframe\">\n  <thead>\n    <tr style=\"text-align: right;\">\n      <th></th>\n      <th>user_id</th>\n      <th>name</th>\n      <th>display_name</th>\n      <th>real_name</th>\n      <th>title</th>\n      <th>is_bot</th>\n      <th>DataCracy_role</th>\n    </tr>\n  </thead>\n  <tbody>\n    <tr>\n      <td>0</td>\n      <td>USLACKBOT</td>\n      <td>slackbot</td>\n      <td>Slackbot</td>\n      <td>Slackbot</td>\n      <td></td>\n      <td>0</td>\n      <td>BTC</td>\n    </tr>\n    <tr>\n      <td>1</td>\n      <td>U01AT4T75JB</td>\n      <td>loclexuan26392</td>\n      <td>Loc Le Xuan</td>\n      <td>Loc Le Xuan</td>\n      <td></td>\n      <td>0</td>\n      <td>BTC</td>\n    </tr>\n    <tr>\n      <td>2</td>\n      <td>U01AVDY7JET</td>\n      <td>locle.ds</td>\n      <td>Loc Le Xuan</td>\n      <td>Loc Le Xuan</td>\n      <td></td>\n      <td>0</td>\n      <td>BTC</td>\n    </tr>\n    <tr>\n      <td>3</td>\n      <td>U01BE2PR6LU</td>\n      <td>maianhdang.ftu</td>\n      <td>MAD</td>\n      <td>Dặng Huỳnh Mai Anh</td>\n      <td>Technical Contents</td>\n      <td>0</td>\n      <td>BTC</td>\n    </tr>\n    <tr>\n      <td>4</td>\n      <td>U01C48T7S1J</td>\n      <td>huyenhoang.design</td>\n      <td>Thanh Huyen Hoang</td>\n      <td>Thanh Huyen Hoang</td>\n      <td></td>\n      <td>0</td>\n      <td>BTC</td>\n    </tr>\n  </tbody>\n</table>\n</div>"
          },
          "metadata": {},
          "execution_count": 30
        }
      ],
      "source": [
        "def load_user_df():\n",
        "    # Slack API User Data\n",
        "    endpoint = \"https://slack.com/api/users.list\"\n",
        "    headers = {\"Authorization\": \"Bearer {}\".format(json_data['SLACK_BEARER_TOKEN'])}\n",
        "    response_json = requests.post(endpoint, headers=headers).json() \n",
        "    user_dat = response_json['members']\n",
        "\n",
        "    # Convert to CSV\n",
        "    user_dict = {'user_id':[],'name':[],'display_name':[],'real_name':[],'title':[],'is_bot':[]}\n",
        "    for i in range(len(user_dat)):\n",
        "      user_dict['user_id'].append(user_dat[i]['id'])\n",
        "      user_dict['name'].append(user_dat[i]['name'])\n",
        "      user_dict['display_name'].append(user_dat[i]['profile']['display_name'])\n",
        "      user_dict['real_name'].append(user_dat[i]['profile']['real_name_normalized'])\n",
        "      user_dict['title'].append(user_dat[i]['profile']['title'])\n",
        "      user_dict['is_bot'].append(int(user_dat[i]['is_bot']))\n",
        "    user_df = pd.DataFrame(user_dict) \n",
        "    # Read dtc_group hosted in github\n",
        "    dtc_groups = pd.read_csv(DTC_GROUPS_URL)\n",
        "    user_df = user_df.merge(dtc_groups, how='left', on='name')\n",
        "    return user_df\n",
        "\n",
        "user_df = load_user_df()\n",
        "user_df.head()"
      ]
    },
    {
      "cell_type": "code",
      "execution_count": 31,
      "metadata": {},
      "outputs": [
        {
          "output_type": "execute_result",
          "data": {
            "text/plain": [
              "    channel_id      channel_name  is_channel      creator          created_at  \\\n",
              "0  C01B4PVGLVB           general        True  U01BE2PR6LU 2020-09-23 17:25:03   \n",
              "1  C01BYH7JHB5          contents        True  U01BE2PR6LU 2020-10-05 14:28:09   \n",
              "2  C01CAMNCJJV   branding-design        True  U01AVDY7JET 2020-10-05 10:16:30   \n",
              "3  C01U6P7LZ8F  atom-assignment1        True  U01BE2PR6LU 2021-04-17 14:00:04   \n",
              "4  C01UL6K1C7L        atom-week1        True  U01BE2PR6LU 2021-04-17 00:44:32   \n",
              "\n",
              "                                              topics  \\\n",
              "0                                                      \n",
              "1                                                      \n",
              "2                                                      \n",
              "3  Assigment#1 - Python Basics &amp; Spreadsheet ...   \n",
              "4  TOPIC: Data Strategy. Metrics Design. Spreadsh...   \n",
              "\n",
              "                                             purpose  num_members  \n",
              "0  This is the one channel that will always inclu...           66  \n",
              "1                                                              13  \n",
              "2                                                               9  \n",
              "3  Where learners submit assignments and give rev...           44  \n",
              "4  TOPIC: Data Strategy. Metrics Design. Spreadsh...           43  "
            ],
            "text/html": "<div>\n<style scoped>\n    .dataframe tbody tr th:only-of-type {\n        vertical-align: middle;\n    }\n\n    .dataframe tbody tr th {\n        vertical-align: top;\n    }\n\n    .dataframe thead th {\n        text-align: right;\n    }\n</style>\n<table border=\"1\" class=\"dataframe\">\n  <thead>\n    <tr style=\"text-align: right;\">\n      <th></th>\n      <th>channel_id</th>\n      <th>channel_name</th>\n      <th>is_channel</th>\n      <th>creator</th>\n      <th>created_at</th>\n      <th>topics</th>\n      <th>purpose</th>\n      <th>num_members</th>\n    </tr>\n  </thead>\n  <tbody>\n    <tr>\n      <td>0</td>\n      <td>C01B4PVGLVB</td>\n      <td>general</td>\n      <td>True</td>\n      <td>U01BE2PR6LU</td>\n      <td>2020-09-23 17:25:03</td>\n      <td></td>\n      <td>This is the one channel that will always inclu...</td>\n      <td>66</td>\n    </tr>\n    <tr>\n      <td>1</td>\n      <td>C01BYH7JHB5</td>\n      <td>contents</td>\n      <td>True</td>\n      <td>U01BE2PR6LU</td>\n      <td>2020-10-05 14:28:09</td>\n      <td></td>\n      <td></td>\n      <td>13</td>\n    </tr>\n    <tr>\n      <td>2</td>\n      <td>C01CAMNCJJV</td>\n      <td>branding-design</td>\n      <td>True</td>\n      <td>U01AVDY7JET</td>\n      <td>2020-10-05 10:16:30</td>\n      <td></td>\n      <td></td>\n      <td>9</td>\n    </tr>\n    <tr>\n      <td>3</td>\n      <td>C01U6P7LZ8F</td>\n      <td>atom-assignment1</td>\n      <td>True</td>\n      <td>U01BE2PR6LU</td>\n      <td>2021-04-17 14:00:04</td>\n      <td>Assigment#1 - Python Basics &amp;amp; Spreadsheet ...</td>\n      <td>Where learners submit assignments and give rev...</td>\n      <td>44</td>\n    </tr>\n    <tr>\n      <td>4</td>\n      <td>C01UL6K1C7L</td>\n      <td>atom-week1</td>\n      <td>True</td>\n      <td>U01BE2PR6LU</td>\n      <td>2021-04-17 00:44:32</td>\n      <td>TOPIC: Data Strategy. Metrics Design. Spreadsh...</td>\n      <td>TOPIC: Data Strategy. Metrics Design. Spreadsh...</td>\n      <td>43</td>\n    </tr>\n  </tbody>\n</table>\n</div>"
          },
          "metadata": {},
          "execution_count": 31
        }
      ],
      "source": [
        "def load_channel_df():\n",
        "    endpoint2 = \"https://slack.com/api/conversations.list\"\n",
        "    data = {'types': 'public_channel,private_channel'} # -> CHECK: API Docs https://api.slack.com/methods/conversations.list/test\n",
        "    headers = {\"Authorization\": \"Bearer {}\".format(json_data['SLACK_BEARER_TOKEN'])}\n",
        "    response_json = requests.post(endpoint2, headers=headers, data=data).json() \n",
        "    channel_dat = response_json['channels']\n",
        "    channel_dict = {'channel_id':[], 'channel_name':[], 'is_channel':[],'creator':[],'created_at':[],'topics':[],'purpose':[],'num_members':[]}\n",
        "    for i in range(len(channel_dat)):\n",
        "        channel_dict['channel_id'].append(channel_dat[i]['id'])\n",
        "        channel_dict['channel_name'].append(channel_dat[i]['name'])\n",
        "        channel_dict['is_channel'].append(channel_dat[i]['is_channel'])\n",
        "        channel_dict['creator'].append(channel_dat[i]['creator'])\n",
        "        channel_dict['created_at'].append(dt.fromtimestamp(float(channel_dat[i]['created'])))\n",
        "        channel_dict['topics'].append(channel_dat[i]['topic']['value'])\n",
        "        channel_dict['purpose'].append(channel_dat[i]['purpose']['value'])\n",
        "        channel_dict['num_members'].append(channel_dat[i]['num_members'])\n",
        "    channel_df = pd.DataFrame(channel_dict) \n",
        "    return channel_df    \n",
        "\n",
        "channel_df = load_channel_df()\n",
        "channel_df.head()"
      ]
    },
    {
      "cell_type": "code",
      "execution_count": 32,
      "metadata": {},
      "outputs": [
        {
          "output_type": "stream",
          "name": "stdout",
          "text": [
            "Channel ID: C01B4PVGLVB - Channel Name: general\n",
            "====> {'ok': False, 'error': 'not_in_channel'}\n",
            "Channel ID: C01BYH7JHB5 - Channel Name: contents\n",
            "====> {'ok': False, 'error': 'not_in_channel'}\n",
            "Channel ID: C01CAMNCJJV - Channel Name: branding-design\n",
            "====> {'ok': False, 'error': 'not_in_channel'}\n",
            "Channel ID: C01U6P7LZ8F - Channel Name: atom-assignment1\n",
            "Channel ID: C01UL6K1C7L - Channel Name: atom-week1\n",
            "Channel ID: C01ULCHGN75 - Channel Name: atom-general\n",
            "====> {'ok': False, 'error': 'not_in_channel'}\n",
            "Channel ID: C020VMT58JK - Channel Name: topics-data-analytics\n",
            "====> {'ok': False, 'error': 'not_in_channel'}\n",
            "Channel ID: C0213MNH9L6 - Channel Name: topics-python\n",
            "====> {'ok': False, 'error': 'not_in_channel'}\n",
            "Channel ID: C0213N56M2A - Channel Name: topics-materials\n",
            "====> {'ok': False, 'error': 'not_in_channel'}\n",
            "Channel ID: C021FSDN7LJ - Channel Name: atom-assignment2\n",
            "Channel ID: C021KLB0DSB - Channel Name: discuss-group3\n",
            "Channel ID: C021KLB90GP - Channel Name: discuss-group4\n",
            "Channel ID: C02204B2CD6 - Channel Name: atom-week2\n",
            "Channel ID: C0220KU9399 - Channel Name: discuss-group1\n",
            "Channel ID: C0226D3LEQ4 - Channel Name: atom-week3\n",
            "Channel ID: C0227A51SAY - Channel Name: atom-assignment3\n",
            "Channel ID: C022Q7TGRLG - Channel Name: discuss-group2\n",
            "Channel ID: C022RRWQ6US - Channel Name: atom-assignment4\n",
            "Channel ID: C022Y1FUETE - Channel Name: atom-week4\n",
            "Channel ID: C023UJGMDND - Channel Name: atom-assignment5\n",
            "Channel ID: C0245PZUFSL - Channel Name: atom-week5\n",
            "Channel ID: C024B4980DA - Channel Name: atom-week6\n",
            "Channel ID: C024UNTHPB2 - Channel Name: atom-assignment6\n"
          ]
        },
        {
          "output_type": "execute_result",
          "data": {
            "text/plain": [
              "    channel_id                                msg_id  \\\n",
              "0  C01U6P7LZ8F  005AD620-BD06-4123-BC42-6118DAA73BA4   \n",
              "1  C01U6P7LZ8F  D86A48D2-D953-4504-92BF-D9240B2549A8   \n",
              "2  C01U6P7LZ8F  246fb20c-8739-4664-9bcf-14f57aee17f7   \n",
              "3  C01U6P7LZ8F  4214088f-ccdc-4e8e-9c19-677ae3f439a1   \n",
              "4  C01U6P7LZ8F  cfad12f7-bf9c-4209-b563-f495f378fb1f   \n",
              "\n",
              "                      msg_ts      user_id               latest_reply  \\\n",
              "0 2021-05-13 21:09:48.011000  U01UTGRMGEQ 2021-05-14 01:01:34.021400   \n",
              "1 2021-05-10 11:51:46.004700  U01UJ9LG5U5 2021-05-15 16:14:31.003600   \n",
              "2 2021-05-10 11:35:39.003800  U01UMC08KL2 2021-05-18 15:09:59.000800   \n",
              "3 2021-05-10 10:07:35.001200  U01UTGRQS9J 2021-05-15 16:28:16.004000   \n",
              "4 2021-05-08 13:43:25.006900  U01BE2PR6LU 1970-01-01 07:00:00.000000   \n",
              "\n",
              "   reply_user_count                                        reply_users  \\\n",
              "0                 4  [U01V00P4S2V, U01UTGRMGEQ, U01UMJ451V1, U01V00...   \n",
              "1                 2                         [U01USGKQ771, U01V00KHHHP]   \n",
              "2                 2                         [U01UTGS5ZNY, U01UMC08KL2]   \n",
              "3                 2                         [U01VB632FPS, U01V00KHHHP]   \n",
              "4                 0                                                  0   \n",
              "\n",
              "                        github_link  \\\n",
              "0                              None   \n",
              "1       https://github.com/danhpcv/   \n",
              "2  https://github.com/auslynnguyen/   \n",
              "3                              None   \n",
              "4                              None   \n",
              "\n",
              "                                                text  \n",
              "0  Em xin chào mọi người ạ. Híc, em bị stuck ở ph...  \n",
              "1  Hi all,\\nMình gửi lại assignment phần 1 nhé\\nT...  \n",
              "2  Mình xin phép gửi bài Assignment 1 ạ. :D\\nTask...  \n",
              "3  Em xin phép nộp lại bài ạ. Hôm bữa em hơi lag ...  \n",
              "4  <https://datacracy.slack.com/archives/C01B4PVG...  "
            ],
            "text/html": "<div>\n<style scoped>\n    .dataframe tbody tr th:only-of-type {\n        vertical-align: middle;\n    }\n\n    .dataframe tbody tr th {\n        vertical-align: top;\n    }\n\n    .dataframe thead th {\n        text-align: right;\n    }\n</style>\n<table border=\"1\" class=\"dataframe\">\n  <thead>\n    <tr style=\"text-align: right;\">\n      <th></th>\n      <th>channel_id</th>\n      <th>msg_id</th>\n      <th>msg_ts</th>\n      <th>user_id</th>\n      <th>latest_reply</th>\n      <th>reply_user_count</th>\n      <th>reply_users</th>\n      <th>github_link</th>\n      <th>text</th>\n    </tr>\n  </thead>\n  <tbody>\n    <tr>\n      <td>0</td>\n      <td>C01U6P7LZ8F</td>\n      <td>005AD620-BD06-4123-BC42-6118DAA73BA4</td>\n      <td>2021-05-13 21:09:48.011000</td>\n      <td>U01UTGRMGEQ</td>\n      <td>2021-05-14 01:01:34.021400</td>\n      <td>4</td>\n      <td>[U01V00P4S2V, U01UTGRMGEQ, U01UMJ451V1, U01V00...</td>\n      <td>None</td>\n      <td>Em xin chào mọi người ạ. Híc, em bị stuck ở ph...</td>\n    </tr>\n    <tr>\n      <td>1</td>\n      <td>C01U6P7LZ8F</td>\n      <td>D86A48D2-D953-4504-92BF-D9240B2549A8</td>\n      <td>2021-05-10 11:51:46.004700</td>\n      <td>U01UJ9LG5U5</td>\n      <td>2021-05-15 16:14:31.003600</td>\n      <td>2</td>\n      <td>[U01USGKQ771, U01V00KHHHP]</td>\n      <td>https://github.com/danhpcv/</td>\n      <td>Hi all,\\nMình gửi lại assignment phần 1 nhé\\nT...</td>\n    </tr>\n    <tr>\n      <td>2</td>\n      <td>C01U6P7LZ8F</td>\n      <td>246fb20c-8739-4664-9bcf-14f57aee17f7</td>\n      <td>2021-05-10 11:35:39.003800</td>\n      <td>U01UMC08KL2</td>\n      <td>2021-05-18 15:09:59.000800</td>\n      <td>2</td>\n      <td>[U01UTGS5ZNY, U01UMC08KL2]</td>\n      <td>https://github.com/auslynnguyen/</td>\n      <td>Mình xin phép gửi bài Assignment 1 ạ. :D\\nTask...</td>\n    </tr>\n    <tr>\n      <td>3</td>\n      <td>C01U6P7LZ8F</td>\n      <td>4214088f-ccdc-4e8e-9c19-677ae3f439a1</td>\n      <td>2021-05-10 10:07:35.001200</td>\n      <td>U01UTGRQS9J</td>\n      <td>2021-05-15 16:28:16.004000</td>\n      <td>2</td>\n      <td>[U01VB632FPS, U01V00KHHHP]</td>\n      <td>None</td>\n      <td>Em xin phép nộp lại bài ạ. Hôm bữa em hơi lag ...</td>\n    </tr>\n    <tr>\n      <td>4</td>\n      <td>C01U6P7LZ8F</td>\n      <td>cfad12f7-bf9c-4209-b563-f495f378fb1f</td>\n      <td>2021-05-08 13:43:25.006900</td>\n      <td>U01BE2PR6LU</td>\n      <td>1970-01-01 07:00:00.000000</td>\n      <td>0</td>\n      <td>0</td>\n      <td>None</td>\n      <td>&lt;https://datacracy.slack.com/archives/C01B4PVG...</td>\n    </tr>\n  </tbody>\n</table>\n</div>"
          },
          "metadata": {},
          "execution_count": 32
        }
      ],
      "source": [
        "def load_msg_df():\n",
        "    endpoint3 = \"https://slack.com/api/conversations.history\"\n",
        "    headers = {\"Authorization\": \"Bearer {}\".format(json_data['SLACK_BEARER_TOKEN'])}\n",
        "    msg_dict = {'channel_id':[],'msg_id':[], 'msg_ts':[], 'user_id':[], 'latest_reply':[],'reply_user_count':[],'reply_users':[],'github_link':[],'text':[]}\n",
        "    for channel_id, channel_name in zip(channel_df['channel_id'], channel_df['channel_name']):\n",
        "        print('Channel ID: {} - Channel Name: {}'.format(channel_id, channel_name))\n",
        "        try:\n",
        "            data = {\"channel\": channel_id} \n",
        "            response_json = requests.post(endpoint3, data=data, headers=headers).json()\n",
        "            msg_ls = response_json['messages']\n",
        "            for i in range(len(msg_ls)):\n",
        "                if 'client_msg_id' in msg_ls[i].keys():\n",
        "                    msg_dict['channel_id'].append(channel_id)\n",
        "                    msg_dict['msg_id'].append(msg_ls[i]['client_msg_id'])\n",
        "                    msg_dict['msg_ts'].append(dt.fromtimestamp(float(msg_ls[i]['ts'])))\n",
        "                    msg_dict['latest_reply'].append(dt.fromtimestamp(float(msg_ls[i]['latest_reply'] if 'latest_reply' in msg_ls[i].keys() else 0))) ## -> No reply: 1970-01-01\n",
        "                    msg_dict['user_id'].append(msg_ls[i]['user'])\n",
        "                    msg_dict['reply_user_count'].append(msg_ls[i]['reply_users_count'] if 'reply_users_count' in msg_ls[i].keys() else 0)\n",
        "                    msg_dict['reply_users'].append(msg_ls[i]['reply_users'] if 'reply_users' in msg_ls[i].keys() else 0) \n",
        "                    msg_dict['text'].append(msg_ls[i]['text'] if 'text' in msg_ls[i].keys() else 0) \n",
        "                    ## -> Censor message contains tokens\n",
        "                    text = msg_ls[i]['text']\n",
        "                    github_link = re.findall('(?:https?://)?(?:www[.])?github[.]com/[\\w-]+/?', text)\n",
        "                    msg_dict['github_link'].append(github_link[0] if len(github_link) > 0 else None)\n",
        "        except:\n",
        "            print('====> '+ str(response_json))\n",
        "    msg_df = pd.DataFrame(msg_dict)\n",
        "    return msg_df  \n",
        "\n",
        "msg_df = load_msg_df()\n",
        "msg_df.head()  "
      ]
    },
    {
      "cell_type": "code",
      "execution_count": 37,
      "metadata": {},
      "outputs": [
        {
          "output_type": "execute_result",
          "data": {
            "text/plain": [
              "    channel_id                                msg_id  \\\n",
              "0  C01U6P7LZ8F  005AD620-BD06-4123-BC42-6118DAA73BA4   \n",
              "1  C01U6P7LZ8F  D86A48D2-D953-4504-92BF-D9240B2549A8   \n",
              "2  C01U6P7LZ8F  246fb20c-8739-4664-9bcf-14f57aee17f7   \n",
              "3  C01U6P7LZ8F  4214088f-ccdc-4e8e-9c19-677ae3f439a1   \n",
              "4  C01U6P7LZ8F  cfad12f7-bf9c-4209-b563-f495f378fb1f   \n",
              "\n",
              "                      msg_ts      user_id               latest_reply  \\\n",
              "0 2021-05-13 21:09:48.011000  U01UTGRMGEQ 2021-05-14 01:01:34.021400   \n",
              "1 2021-05-10 11:51:46.004700  U01UJ9LG5U5 2021-05-15 16:14:31.003600   \n",
              "2 2021-05-10 11:35:39.003800  U01UMC08KL2 2021-05-18 15:09:59.000800   \n",
              "3 2021-05-10 10:07:35.001200  U01UTGRQS9J 2021-05-15 16:28:16.004000   \n",
              "4 2021-05-08 13:43:25.006900  U01BE2PR6LU 1970-01-01 07:00:00.000000   \n",
              "\n",
              "   reply_user_count                                        reply_users  \\\n",
              "0                 4  [U01V00P4S2V, U01UTGRMGEQ, U01UMJ451V1, U01V00...   \n",
              "1                 2                         [U01USGKQ771, U01V00KHHHP]   \n",
              "2                 2                         [U01UTGS5ZNY, U01UMC08KL2]   \n",
              "3                 2                         [U01VB632FPS, U01V00KHHHP]   \n",
              "4                 0                                                  0   \n",
              "\n",
              "                        github_link  \\\n",
              "0                              None   \n",
              "1       https://github.com/danhpcv/   \n",
              "2  https://github.com/auslynnguyen/   \n",
              "3                              None   \n",
              "4                              None   \n",
              "\n",
              "                                                text  reply_user1  ...  \\\n",
              "0  Em xin chào mọi người ạ. Híc, em bị stuck ở ph...  U01V00P4S2V  ...   \n",
              "1  Hi all,\\nMình gửi lại assignment phần 1 nhé\\nT...  U01USGKQ771  ...   \n",
              "2  Mình xin phép gửi bài Assignment 1 ạ. :D\\nTask...  U01UTGS5ZNY  ...   \n",
              "3  Em xin phép nộp lại bài ạ. Hôm bữa em hơi lag ...  U01VB632FPS  ...   \n",
              "4  <https://datacracy.slack.com/archives/C01B4PVG...               ...   \n",
              "\n",
              "  msg_time wordcount        submit_name_y DataCracy_role_y  reply1_id_y  \\\n",
              "0    21:09       117  hanh.nguyenhong2511      Learner_Gr4  U01V00P4S2V   \n",
              "1    11:51        18              danhpcv      Learner_Gr3  U01USGKQ771   \n",
              "2    11:35        18        auslyn.nguyen      Learner_Gr4  U01UTGS5ZNY   \n",
              "3    10:07        18     vukhanhlinh.3526      Learner_Gr4  U01VB632FPS   \n",
              "4    13:43         1       maianhdang.ftu              BTC          NaN   \n",
              "\n",
              "   reply1_name_y  reply2_id_y        reply2_name_y    channel_name_y  \\\n",
              "0    datvt19414c  U01UTGRMGEQ  hanh.nguyenhong2511  atom-assignment1   \n",
              "1  trang.ngo1709  U01V00KHHHP      phuongttn50.hrc  atom-assignment1   \n",
              "2  ngocha.nt1476  U01UMC08KL2        auslyn.nguyen  atom-assignment1   \n",
              "3  huynhanh.ha94  U01V00KHHHP      phuongttn50.hrc  atom-assignment1   \n",
              "4            NaN          NaN                  NaN  atom-assignment1   \n",
              "\n",
              "         created_at_y  \n",
              "0 2021-04-17 14:00:04  \n",
              "1 2021-04-17 14:00:04  \n",
              "2 2021-04-17 14:00:04  \n",
              "3 2021-04-17 14:00:04  \n",
              "4 2021-04-17 14:00:04  \n",
              "\n",
              "[5 rows x 30 columns]"
            ],
            "text/html": "<div>\n<style scoped>\n    .dataframe tbody tr th:only-of-type {\n        vertical-align: middle;\n    }\n\n    .dataframe tbody tr th {\n        vertical-align: top;\n    }\n\n    .dataframe thead th {\n        text-align: right;\n    }\n</style>\n<table border=\"1\" class=\"dataframe\">\n  <thead>\n    <tr style=\"text-align: right;\">\n      <th></th>\n      <th>channel_id</th>\n      <th>msg_id</th>\n      <th>msg_ts</th>\n      <th>user_id</th>\n      <th>latest_reply</th>\n      <th>reply_user_count</th>\n      <th>reply_users</th>\n      <th>github_link</th>\n      <th>text</th>\n      <th>reply_user1</th>\n      <th>...</th>\n      <th>msg_time</th>\n      <th>wordcount</th>\n      <th>submit_name_y</th>\n      <th>DataCracy_role_y</th>\n      <th>reply1_id_y</th>\n      <th>reply1_name_y</th>\n      <th>reply2_id_y</th>\n      <th>reply2_name_y</th>\n      <th>channel_name_y</th>\n      <th>created_at_y</th>\n    </tr>\n  </thead>\n  <tbody>\n    <tr>\n      <td>0</td>\n      <td>C01U6P7LZ8F</td>\n      <td>005AD620-BD06-4123-BC42-6118DAA73BA4</td>\n      <td>2021-05-13 21:09:48.011000</td>\n      <td>U01UTGRMGEQ</td>\n      <td>2021-05-14 01:01:34.021400</td>\n      <td>4</td>\n      <td>[U01V00P4S2V, U01UTGRMGEQ, U01UMJ451V1, U01V00...</td>\n      <td>None</td>\n      <td>Em xin chào mọi người ạ. Híc, em bị stuck ở ph...</td>\n      <td>U01V00P4S2V</td>\n      <td>...</td>\n      <td>21:09</td>\n      <td>117</td>\n      <td>hanh.nguyenhong2511</td>\n      <td>Learner_Gr4</td>\n      <td>U01V00P4S2V</td>\n      <td>datvt19414c</td>\n      <td>U01UTGRMGEQ</td>\n      <td>hanh.nguyenhong2511</td>\n      <td>atom-assignment1</td>\n      <td>2021-04-17 14:00:04</td>\n    </tr>\n    <tr>\n      <td>1</td>\n      <td>C01U6P7LZ8F</td>\n      <td>D86A48D2-D953-4504-92BF-D9240B2549A8</td>\n      <td>2021-05-10 11:51:46.004700</td>\n      <td>U01UJ9LG5U5</td>\n      <td>2021-05-15 16:14:31.003600</td>\n      <td>2</td>\n      <td>[U01USGKQ771, U01V00KHHHP]</td>\n      <td>https://github.com/danhpcv/</td>\n      <td>Hi all,\\nMình gửi lại assignment phần 1 nhé\\nT...</td>\n      <td>U01USGKQ771</td>\n      <td>...</td>\n      <td>11:51</td>\n      <td>18</td>\n      <td>danhpcv</td>\n      <td>Learner_Gr3</td>\n      <td>U01USGKQ771</td>\n      <td>trang.ngo1709</td>\n      <td>U01V00KHHHP</td>\n      <td>phuongttn50.hrc</td>\n      <td>atom-assignment1</td>\n      <td>2021-04-17 14:00:04</td>\n    </tr>\n    <tr>\n      <td>2</td>\n      <td>C01U6P7LZ8F</td>\n      <td>246fb20c-8739-4664-9bcf-14f57aee17f7</td>\n      <td>2021-05-10 11:35:39.003800</td>\n      <td>U01UMC08KL2</td>\n      <td>2021-05-18 15:09:59.000800</td>\n      <td>2</td>\n      <td>[U01UTGS5ZNY, U01UMC08KL2]</td>\n      <td>https://github.com/auslynnguyen/</td>\n      <td>Mình xin phép gửi bài Assignment 1 ạ. :D\\nTask...</td>\n      <td>U01UTGS5ZNY</td>\n      <td>...</td>\n      <td>11:35</td>\n      <td>18</td>\n      <td>auslyn.nguyen</td>\n      <td>Learner_Gr4</td>\n      <td>U01UTGS5ZNY</td>\n      <td>ngocha.nt1476</td>\n      <td>U01UMC08KL2</td>\n      <td>auslyn.nguyen</td>\n      <td>atom-assignment1</td>\n      <td>2021-04-17 14:00:04</td>\n    </tr>\n    <tr>\n      <td>3</td>\n      <td>C01U6P7LZ8F</td>\n      <td>4214088f-ccdc-4e8e-9c19-677ae3f439a1</td>\n      <td>2021-05-10 10:07:35.001200</td>\n      <td>U01UTGRQS9J</td>\n      <td>2021-05-15 16:28:16.004000</td>\n      <td>2</td>\n      <td>[U01VB632FPS, U01V00KHHHP]</td>\n      <td>None</td>\n      <td>Em xin phép nộp lại bài ạ. Hôm bữa em hơi lag ...</td>\n      <td>U01VB632FPS</td>\n      <td>...</td>\n      <td>10:07</td>\n      <td>18</td>\n      <td>vukhanhlinh.3526</td>\n      <td>Learner_Gr4</td>\n      <td>U01VB632FPS</td>\n      <td>huynhanh.ha94</td>\n      <td>U01V00KHHHP</td>\n      <td>phuongttn50.hrc</td>\n      <td>atom-assignment1</td>\n      <td>2021-04-17 14:00:04</td>\n    </tr>\n    <tr>\n      <td>4</td>\n      <td>C01U6P7LZ8F</td>\n      <td>cfad12f7-bf9c-4209-b563-f495f378fb1f</td>\n      <td>2021-05-08 13:43:25.006900</td>\n      <td>U01BE2PR6LU</td>\n      <td>1970-01-01 07:00:00.000000</td>\n      <td>0</td>\n      <td>0</td>\n      <td>None</td>\n      <td>&lt;https://datacracy.slack.com/archives/C01B4PVG...</td>\n      <td></td>\n      <td>...</td>\n      <td>13:43</td>\n      <td>1</td>\n      <td>maianhdang.ftu</td>\n      <td>BTC</td>\n      <td>NaN</td>\n      <td>NaN</td>\n      <td>NaN</td>\n      <td>NaN</td>\n      <td>atom-assignment1</td>\n      <td>2021-04-17 14:00:04</td>\n    </tr>\n  </tbody>\n</table>\n<p>5 rows × 30 columns</p>\n</div>"
          },
          "metadata": {},
          "execution_count": 37
        }
      ],
      "source": [
        "def process_msg_data(msg_df, user_df, channel_df):\n",
        "    ## Extract 2 reply_users\n",
        "    msg_df['reply_user1'] = msg_df['reply_users'].apply(lambda x: x[0] if x != 0 else '')\n",
        "    msg_df['reply_user2'] = msg_df['reply_users'].apply(lambda x: x[1] if x != 0 and len(x) > 1 else '')\n",
        "    ## Merge to have a nice name displayed\n",
        "    msg_df = msg_df.merge(user_df[['user_id','name','DataCracy_role']].rename(columns={'name':'submit_name'}), \\\n",
        "        how='left',on='user_id')\n",
        "    msg_df = msg_df.merge(user_df[['user_id','name']].rename(columns={'name':'reply1_name','user_id':'reply1_id'}), \\\n",
        "        how='left', left_on='reply_user1', right_on='reply1_id')\n",
        "    msg_df = msg_df.merge(user_df[['user_id','name']].rename(columns={'name':'reply2_name','user_id':'reply2_id'}), \\\n",
        "        how='left', left_on='reply_user2', right_on='reply2_id')\n",
        "    ## Merge for nice channel name\n",
        "    msg_df = msg_df.merge(channel_df[['channel_id','channel_name','created_at']], how='left',on='channel_id')\n",
        "    ## Format datetime cols\n",
        "    msg_df['msg_date'] = msg_df['msg_ts'].dt.strftime('%Y-%m-%d')\n",
        "    msg_df['msg_time'] = msg_df['msg_ts'].dt.strftime('%H:%M')\n",
        "    msg_df['wordcount'] = msg_df.text.apply(lambda s: len(s.split()))\n",
        "    return msg_df\n",
        "\n",
        "msg_df = process_msg_data(msg_df, user_df, channel_df)\n",
        "msg_df.head()"
      ]
    },
    {
      "cell_type": "code",
      "execution_count": 38,
      "metadata": {},
      "outputs": [],
      "source": [
        "def get_submit_df(p_msg_df, user_id):\n",
        "    ## Submission\n",
        "    submit_df = p_msg_df[p_msg_df.channel_name.str.contains('assignment')]\n",
        "    submit_df = submit_df[submit_df.DataCracy_role.str.contains('Learner')]\n",
        "    submit_df = submit_df[submit_df.user_id == user_id]\n",
        "    latest_ts = submit_df.groupby(['channel_name', 'user_id']).msg_ts.idxmax() ## -> Latest ts\n",
        "    submit_df = submit_df.loc[latest_ts]\n",
        "    dis_cols1 = ['channel_name', 'created_at','msg_date','msg_time','reply_user_count', 'reply1_name']\n",
        "    return submit_df[dis_cols1] \n",
        "def get_review_df(p_msg_df, user_id):\n",
        "    # Review\n",
        "    review_df = p_msg_df[p_msg_df.user_id != user_id] ##-> Remove the case self-reply\n",
        "    review_df = review_df[review_df.channel_name.str.contains('assignment')]\n",
        "    review_df = review_df[review_df.DataCracy_role.str.contains('Learner')]\n",
        "    dis_cols2 = ['channel_name', 'created_at','msg_date','msg_time','reply_user_count','submit_name']\n",
        "    return review_df[dis_cols2]\n",
        "def get_discussion_df(p_msg_df):\n",
        "    ## Discussion\n",
        "    discuss_df = p_msg_df[p_msg_df.channel_name.str.contains('discuss')]\n",
        "    discuss_df = discuss_df.sort_values(['msg_date','msg_time'])\n",
        "    dis_cols3 = ['channel_name','msg_date', 'msg_time','wordcount','reply_user_count','reply1_name']\n",
        "    return discuss_df[dis_cols3]    "
      ]
    },
    {
      "cell_type": "code",
      "execution_count": 39,
      "metadata": {},
      "outputs": [],
      "source": [
        "user_id = input()\n",
        "valid_user_id = user_df['user_id'].str.contains(user_id).any()\n",
        "if valid_user_id:\n",
        "    p_msg_df = process_msg_data(msg_df, user_df, channel_df)\n",
        "    submit_df = get_submit_df(p_msg_df, user_id)\n",
        "    review_df = get_review_df(p_msg_df, user_id)\n",
        "    discussion_df = get_discussion_df(p_msg_df)\n",
        "else:\n",
        "    print(\"Không tìm thấy user này!\")"
      ]
    },
    {
      "cell_type": "code",
      "execution_count": 45,
      "metadata": {},
      "outputs": [
        {
          "output_type": "execute_result",
          "data": {
            "text/plain": [
              "         channel_name          created_at    msg_date msg_time  \\\n",
              "21   atom-assignment1 2021-04-17 14:00:04  2021-04-23    23:45   \n",
              "72   atom-assignment2 2021-05-11 03:05:42  2021-05-14    23:57   \n",
              "207  atom-assignment3 2021-05-16 07:39:33  2021-05-21    03:11   \n",
              "264  atom-assignment4 2021-05-23 06:21:49  2021-05-28    21:30   \n",
              "286  atom-assignment5 2021-05-30 08:54:00  2021-06-05    03:12   \n",
              "\n",
              "     reply_user_count      reply1_name  \n",
              "21                  3    baongoc.vuthi  \n",
              "72                  3        nganho124  \n",
              "207                 0              NaN  \n",
              "264                 0              NaN  \n",
              "286                 2  phuongttn50.hrc  "
            ],
            "text/html": "<div>\n<style scoped>\n    .dataframe tbody tr th:only-of-type {\n        vertical-align: middle;\n    }\n\n    .dataframe tbody tr th {\n        vertical-align: top;\n    }\n\n    .dataframe thead th {\n        text-align: right;\n    }\n</style>\n<table border=\"1\" class=\"dataframe\">\n  <thead>\n    <tr style=\"text-align: right;\">\n      <th></th>\n      <th>channel_name</th>\n      <th>created_at</th>\n      <th>msg_date</th>\n      <th>msg_time</th>\n      <th>reply_user_count</th>\n      <th>reply1_name</th>\n    </tr>\n  </thead>\n  <tbody>\n    <tr>\n      <td>21</td>\n      <td>atom-assignment1</td>\n      <td>2021-04-17 14:00:04</td>\n      <td>2021-04-23</td>\n      <td>23:45</td>\n      <td>3</td>\n      <td>baongoc.vuthi</td>\n    </tr>\n    <tr>\n      <td>72</td>\n      <td>atom-assignment2</td>\n      <td>2021-05-11 03:05:42</td>\n      <td>2021-05-14</td>\n      <td>23:57</td>\n      <td>3</td>\n      <td>nganho124</td>\n    </tr>\n    <tr>\n      <td>207</td>\n      <td>atom-assignment3</td>\n      <td>2021-05-16 07:39:33</td>\n      <td>2021-05-21</td>\n      <td>03:11</td>\n      <td>0</td>\n      <td>NaN</td>\n    </tr>\n    <tr>\n      <td>264</td>\n      <td>atom-assignment4</td>\n      <td>2021-05-23 06:21:49</td>\n      <td>2021-05-28</td>\n      <td>21:30</td>\n      <td>0</td>\n      <td>NaN</td>\n    </tr>\n    <tr>\n      <td>286</td>\n      <td>atom-assignment5</td>\n      <td>2021-05-30 08:54:00</td>\n      <td>2021-06-05</td>\n      <td>03:12</td>\n      <td>2</td>\n      <td>phuongttn50.hrc</td>\n    </tr>\n  </tbody>\n</table>\n</div>"
          },
          "metadata": {},
          "execution_count": 45
        }
      ],
      "source": []
    }
  ]
}