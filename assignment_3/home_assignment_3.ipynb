{
  "nbformat": 4,
  "nbformat_minor": 0,
  "metadata": {
    "colab": {
      "name": "Slack-Data.ipynb",
      "provenance": [],
      "collapsed_sections": []
    },
    "kernelspec": {
      "name": "python374jvsc74a57bd06ad2903d9f8eb78095a8e1054d3b7d96029c25240c1559c5c7674409ebbac066",
      "display_name": "Python 3.7.4 64-bit ('base': conda)"
    },
    "language_info": {
      "name": "python",
      "version": "3.7.4"
    }
  },
  "cells": [
    {
      "cell_type": "markdown",
      "metadata": {
        "id": "4w2e0D-hni2p"
      },
      "source": [
        "# HOME ASSIGNMENT #3: SLACK API - TO GSHEET\n",
        "**Mục đích của bài Assignment**\n",
        "- Lấy thông tin các Users từ Slack của DataCracy (BTC, Mentors và Learners)\n",
        "- `**[Optional 1]**` Đưa danh sách Users lên Google Spreadsheet, để theo dõi \n",
        "- `**[Optional 2]**` Lấy thông tin Assignment Submission và số Reviews trên `#atom-assignmentnt2` và cập nhật lên Spreadsheet, để theo dõi các học viên đã nộp bài và được review\n",
        "\n",
        "**Các kiến thức sẽ áp dụng**\n",
        "- Ôn lại và luyện tập thêm về concept API (cụ thể sử dụng API Slack)\n",
        "- Trích xuất thông tin từ JSON\n",
        "- Dùng module gspread để đưa thông tin lên Google Spreadsheet"
      ]
    },
    {
      "cell_type": "markdown",
      "metadata": {
        "id": "yitICPVzpRI2"
      },
      "source": [
        "## 0. Load Modules"
      ]
    },
    {
      "cell_type": "code",
      "metadata": {
        "id": "G_HCucZ5rSHq"
      },
      "source": [
        "import requests #Để gọi API\n",
        "import re #Để xử lý data dạng string\n",
        "from datetime import datetime as dt #Để xử lý data dạng datetime\n",
        "!pip install gspread as gspread\n",
        "#Để update data lên Google Spreadsheet\n",
        "!pip install gspread_dataframe \n",
        "from gspread_dataframe import set_with_dataframe \n",
        "#Để update data lên Google Spreadsheet\n",
        "import pandas as pd # Để update data dạng bản\n",
        "import json \n",
        "!pip install oauth2client\n",
        "from oauth2client.service_account import ServiceAccountCredentials \n",
        "#Để nhập Google Spreadsheet Credentials\n",
        "import os"
      ],
      "execution_count": 1,
      "outputs": [
        {
          "output_type": "stream",
          "name": "stdout",
          "text": [
            "Requirement already satisfied: gspread in c:\\users\\admin\\anaconda3\\lib\\site-packages (3.7.0)\n",
            "Requirement already satisfied: as in c:\\users\\admin\\anaconda3\\lib\\site-packages (0.1)\n",
            "Requirement already satisfied: google-auth-oauthlib>=0.4.1 in c:\\users\\admin\\anaconda3\\lib\\site-packages (from gspread) (0.4.4)\n",
            "Requirement already satisfied: google-auth>=1.12.0 in c:\\users\\admin\\anaconda3\\lib\\site-packages (from gspread) (1.30.0)\n",
            "Requirement already satisfied: requests-oauthlib>=0.7.0 in c:\\users\\admin\\anaconda3\\lib\\site-packages (from google-auth-oauthlib>=0.4.1->gspread) (1.3.0)\n",
            "Requirement already satisfied: setuptools>=40.3.0 in c:\\users\\admin\\anaconda3\\lib\\site-packages (from google-auth>=1.12.0->gspread) (41.4.0)\n",
            "Requirement already satisfied: six>=1.9.0 in c:\\users\\admin\\anaconda3\\lib\\site-packages (from google-auth>=1.12.0->gspread) (1.12.0)\n",
            "Requirement already satisfied: rsa<5,>=3.1.4; python_version >= \"3.6\" in c:\\users\\admin\\anaconda3\\lib\\site-packages (from google-auth>=1.12.0->gspread) (4.7.2)\n",
            "Requirement already satisfied: cachetools<5.0,>=2.0.0 in c:\\users\\admin\\anaconda3\\lib\\site-packages (from google-auth>=1.12.0->gspread) (4.2.2)\n",
            "Requirement already satisfied: pyasn1-modules>=0.2.1 in c:\\users\\admin\\anaconda3\\lib\\site-packages (from google-auth>=1.12.0->gspread) (0.2.8)\n",
            "Requirement already satisfied: oauthlib>=3.0.0 in c:\\users\\admin\\anaconda3\\lib\\site-packages (from requests-oauthlib>=0.7.0->google-auth-oauthlib>=0.4.1->gspread) (3.1.0)\n",
            "Requirement already satisfied: requests>=2.0.0 in c:\\users\\admin\\anaconda3\\lib\\site-packages (from requests-oauthlib>=0.7.0->google-auth-oauthlib>=0.4.1->gspread) (2.22.0)\n",
            "Requirement already satisfied: pyasn1>=0.1.3 in c:\\users\\admin\\anaconda3\\lib\\site-packages (from rsa<5,>=3.1.4; python_version >= \"3.6\"->google-auth>=1.12.0->gspread) (0.4.8)\n",
            "Requirement already satisfied: chardet<3.1.0,>=3.0.2 in c:\\users\\admin\\anaconda3\\lib\\site-packages (from requests>=2.0.0->requests-oauthlib>=0.7.0->google-auth-oauthlib>=0.4.1->gspread) (3.0.4)\n",
            "Requirement already satisfied: urllib3!=1.25.0,!=1.25.1,<1.26,>=1.21.1 in c:\\users\\admin\\anaconda3\\lib\\site-packages (from requests>=2.0.0->requests-oauthlib>=0.7.0->google-auth-oauthlib>=0.4.1->gspread) (1.24.2)\n",
            "Requirement already satisfied: idna<2.9,>=2.5 in c:\\users\\admin\\anaconda3\\lib\\site-packages (from requests>=2.0.0->requests-oauthlib>=0.7.0->google-auth-oauthlib>=0.4.1->gspread) (2.8)\n",
            "Requirement already satisfied: certifi>=2017.4.17 in c:\\users\\admin\\anaconda3\\lib\\site-packages (from requests>=2.0.0->requests-oauthlib>=0.7.0->google-auth-oauthlib>=0.4.1->gspread) (2019.9.11)\n",
            "Requirement already satisfied: gspread_dataframe in c:\\users\\admin\\anaconda3\\lib\\site-packages (3.2.1)\n",
            "Requirement already satisfied: six>=1.12.0 in c:\\users\\admin\\anaconda3\\lib\\site-packages (from gspread_dataframe) (1.12.0)\n",
            "Requirement already satisfied: pandas>=0.24.0 in c:\\users\\admin\\anaconda3\\lib\\site-packages (from gspread_dataframe) (0.25.1)\n",
            "Requirement already satisfied: gspread>=3.0.0 in c:\\users\\admin\\anaconda3\\lib\\site-packages (from gspread_dataframe) (3.7.0)\n",
            "Requirement already satisfied: python-dateutil>=2.6.1 in c:\\users\\admin\\anaconda3\\lib\\site-packages (from pandas>=0.24.0->gspread_dataframe) (2.8.0)\n",
            "Requirement already satisfied: numpy>=1.13.3 in c:\\users\\admin\\anaconda3\\lib\\site-packages (from pandas>=0.24.0->gspread_dataframe) (1.16.5)\n",
            "Requirement already satisfied: pytz>=2017.2 in c:\\users\\admin\\anaconda3\\lib\\site-packages (from pandas>=0.24.0->gspread_dataframe) (2019.3)\n",
            "Requirement already satisfied: google-auth-oauthlib>=0.4.1 in c:\\users\\admin\\anaconda3\\lib\\site-packages (from gspread>=3.0.0->gspread_dataframe) (0.4.4)\n",
            "Requirement already satisfied: google-auth>=1.12.0 in c:\\users\\admin\\anaconda3\\lib\\site-packages (from gspread>=3.0.0->gspread_dataframe) (1.30.0)\n",
            "Requirement already satisfied: requests-oauthlib>=0.7.0 in c:\\users\\admin\\anaconda3\\lib\\site-packages (from google-auth-oauthlib>=0.4.1->gspread>=3.0.0->gspread_dataframe) (1.3.0)\n",
            "Requirement already satisfied: pyasn1-modules>=0.2.1 in c:\\users\\admin\\anaconda3\\lib\\site-packages (from google-auth>=1.12.0->gspread>=3.0.0->gspread_dataframe) (0.2.8)\n",
            "Requirement already satisfied: setuptools>=40.3.0 in c:\\users\\admin\\anaconda3\\lib\\site-packages (from google-auth>=1.12.0->gspread>=3.0.0->gspread_dataframe) (41.4.0)\n",
            "Requirement already satisfied: cachetools<5.0,>=2.0.0 in c:\\users\\admin\\anaconda3\\lib\\site-packages (from google-auth>=1.12.0->gspread>=3.0.0->gspread_dataframe) (4.2.2)\n",
            "Requirement already satisfied: rsa<5,>=3.1.4; python_version >= \"3.6\" in c:\\users\\admin\\anaconda3\\lib\\site-packages (from google-auth>=1.12.0->gspread>=3.0.0->gspread_dataframe) (4.7.2)\n",
            "Requirement already satisfied: oauthlib>=3.0.0 in c:\\users\\admin\\anaconda3\\lib\\site-packages (from requests-oauthlib>=0.7.0->google-auth-oauthlib>=0.4.1->gspread>=3.0.0->gspread_dataframe) (3.1.0)\n",
            "Requirement already satisfied: requests>=2.0.0 in c:\\users\\admin\\anaconda3\\lib\\site-packages (from requests-oauthlib>=0.7.0->google-auth-oauthlib>=0.4.1->gspread>=3.0.0->gspread_dataframe) (2.22.0)\n",
            "Requirement already satisfied: pyasn1<0.5.0,>=0.4.6 in c:\\users\\admin\\anaconda3\\lib\\site-packages (from pyasn1-modules>=0.2.1->google-auth>=1.12.0->gspread>=3.0.0->gspread_dataframe) (0.4.8)\n",
            "Requirement already satisfied: certifi>=2017.4.17 in c:\\users\\admin\\anaconda3\\lib\\site-packages (from requests>=2.0.0->requests-oauthlib>=0.7.0->google-auth-oauthlib>=0.4.1->gspread>=3.0.0->gspread_dataframe) (2019.9.11)\n",
            "Requirement already satisfied: chardet<3.1.0,>=3.0.2 in c:\\users\\admin\\anaconda3\\lib\\site-packages (from requests>=2.0.0->requests-oauthlib>=0.7.0->google-auth-oauthlib>=0.4.1->gspread>=3.0.0->gspread_dataframe) (3.0.4)\n",
            "Requirement already satisfied: idna<2.9,>=2.5 in c:\\users\\admin\\anaconda3\\lib\\site-packages (from requests>=2.0.0->requests-oauthlib>=0.7.0->google-auth-oauthlib>=0.4.1->gspread>=3.0.0->gspread_dataframe) (2.8)\n",
            "Requirement already satisfied: urllib3!=1.25.0,!=1.25.1,<1.26,>=1.21.1 in c:\\users\\admin\\anaconda3\\lib\\site-packages (from requests>=2.0.0->requests-oauthlib>=0.7.0->google-auth-oauthlib>=0.4.1->gspread>=3.0.0->gspread_dataframe) (1.24.2)\n",
            "Requirement already satisfied: oauth2client in c:\\users\\admin\\anaconda3\\lib\\site-packages (4.1.3)\n",
            "Requirement already satisfied: six>=1.6.1 in c:\\users\\admin\\anaconda3\\lib\\site-packages (from oauth2client) (1.12.0)\n",
            "Requirement already satisfied: pyasn1>=0.1.7 in c:\\users\\admin\\anaconda3\\lib\\site-packages (from oauth2client) (0.4.8)\n",
            "Requirement already satisfied: pyasn1-modules>=0.0.5 in c:\\users\\admin\\anaconda3\\lib\\site-packages (from oauth2client) (0.2.8)\n",
            "Requirement already satisfied: httplib2>=0.9.1 in c:\\users\\admin\\anaconda3\\lib\\site-packages (from oauth2client) (0.19.1)\n",
            "Requirement already satisfied: rsa>=3.1.4 in c:\\users\\admin\\anaconda3\\lib\\site-packages (from oauth2client) (4.7.2)\n",
            "Requirement already satisfied: pyparsing<3,>=2.4.2 in c:\\users\\admin\\anaconda3\\lib\\site-packages (from httplib2>=0.9.1->oauth2client) (2.4.2)\n"
          ]
        }
      ]
    },
    {
      "cell_type": "markdown",
      "metadata": {
        "id": "z7HOk6uMp2K2"
      },
      "source": [
        "## 1. Slack API: User List\n",
        "* Bạn có thể đọc lại về concept API [HERE](https://anhdang.gitbook.io/datacracy/atom/3-data-tools-2/3.2-spotify-api-and-postman)\n",
        "* Assignment này sẽ dùng Slack API để lấy thông tin về Learners và theo dõi các bài tập đã nộp và được review (sau đó cập nhật lên Google Spreadsheet)\n",
        "* ===> **NOTICE**: Slack API authorize bằng Bearer Token `xoxb-...-...-...` (Sẽ được cung cấp riêng)\n",
        "* Update file `env_variable.json` như trong [Assignment#2](../assignment_2/home_assignment_2.ipynb)\n",
        "* ==> Nếu bạn dùng Google Colab, upload file vào Colab ([Hướng dẫn](https://colab.research.google.com/notebooks/io.ipynb))"
      ]
    },
    {
      "cell_type": "code",
      "metadata": {
        "colab": {
          "base_uri": "https://localhost:8080/"
        },
        "id": "YoSEHfdTwYRj",
        "outputId": "02b1f5e1-6f9a-4c2b-a481-33284324d1cc"
      },
      "source": [
        "!dir"
      ],
      "execution_count": 16,
      "outputs": [
        {
          "output_type": "stream",
          "name": "stdout",
          "text": [
            " Volume in drive C is System\n Volume Serial Number is 140C-D8FD\n\n Directory of c:\\Users\\Admin\\OneDrive\\Documents\\GitHub\\atom-assignments\\assignment_3\n\n05/19/2021  11:19 PM    <DIR>          .\n05/19/2021  11:19 PM    <DIR>          ..\n05/21/2021  12:11 AM               224 env_variable.json\n05/20/2021  08:14 PM            82,711 home_assignment_3.ipynb\n05/19/2021  11:19 PM             2,326 my_project_1.json\n05/18/2021  09:59 PM               238 README.md\n               4 File(s)         85,499 bytes\n               2 Dir(s)  10,429,677,568 bytes free\n"
          ]
        }
      ]
    },
    {
      "cell_type": "code",
      "metadata": {
        "id": "tFPqT2pirhy4"
      },
      "source": [
        "with open('env_variable.json', 'r') as j:\n",
        "    json_data = json.load(j)"
      ],
      "execution_count": 17,
      "outputs": []
    },
    {
      "cell_type": "code",
      "metadata": {
        "id": "wAzmaVTLrpvH"
      },
      "source": [
        "## Load SLACK_BEARER_TOKEN\n",
        "os.environ['SLACK_BEARER_TOKEN'] = json_data['SLACK_BEARER_TOKEN'] "
      ],
      "execution_count": 18,
      "outputs": []
    },
    {
      "cell_type": "code",
      "metadata": {
        "id": "K_TrDTx138jD"
      },
      "source": [
        "## Gọi API từ Endpoints (Input - Token được đưa vào Headers)\n",
        "## Challenge: Thử gọi API này bằng Postman\n",
        "endpoint = \"https://slack.com/api/users.list\"\n",
        "headers = {\"Authorization\": \"Bearer {}\".format(os.environ['SLACK_BEARER_TOKEN'])}\n",
        "response_json = requests.post(endpoint, headers=headers).json() \n",
        "response_json"
      ],
      "execution_count": 19,
      "outputs": [
        {
          "output_type": "execute_result",
          "data": {
            "text/plain": [
              "  'image_192': 'https://avatars.slack-edge.com/2021-04-23/2003495440980_4ae805304d8761161cf6_192.png',\n",
              "    'image_512': 'https://avatars.slack-edge.com/2021-04-23/2003495440980_4ae805304d8761161cf6_512.png',\n",
              "    'image_1024': 'https://avatars.slack-edge.com/2021-04-23/2003495440980_4ae805304d8761161cf6_1024.png',\n",
              "    'status_text_canonical': '',\n",
              "    'team': 'T01B7SGGMLJ'},\n",
              "   'is_admin': False,\n",
              "   'is_owner': False,\n",
              "   'is_primary_owner': False,\n",
              "   'is_restricted': False,\n",
              "   'is_ultra_restricted': False,\n",
              "   'is_bot': False,\n",
              "   'is_app_user': False,\n",
              "   'updated': 1619221313,\n",
              "   'is_email_confirmed': True},\n",
              "  {'id': 'U01VBGPP1EU',\n",
              "   'team_id': 'T01B7SGGMLJ',\n",
              "   'name': 'tranctan96',\n",
              "   'deleted': False,\n",
              "   'color': 'bc3663',\n",
              "   'real_name': 'Tân Trần',\n",
              "   'tz': 'Asia/Bangkok',\n",
              "   'tz_label': 'Indochina Time',\n",
              "   'tz_offset': 25200,\n",
              "   'profile': {'title': '',\n",
              "    'phone': '',\n",
              "    'skype': '',\n",
              "    'real_name': 'Tân Trần',\n",
              "    'real_name_normalized': 'Tan Trần',\n",
              "    'display_name': 'Tân Trần',\n",
              "    'display_name_normalized': 'Tan Trần',\n",
              "    'fields': None,\n",
              "    'status_text': '',\n",
              "    'status_emoji': '',\n",
              "    'status_expiration': 0,\n",
              "    'avatar_hash': 'd644939f2f60',\n",
              "    'image_original': 'https://avatars.slack-edge.com/2021-05-16/2066274457621_d644939f2f60396e291d_original.jpg',\n",
              "    'is_custom_image': True,\n",
              "    'image_24': 'https://avatars.slack-edge.com/2021-05-16/2066274457621_d644939f2f60396e291d_24.jpg',\n",
              "    'image_32': 'https://avatars.slack-edge.com/2021-05-16/2066274457621_d644939f2f60396e291d_32.jpg',\n",
              "    'image_48': 'https://avatars.slack-edge.com/2021-05-16/2066274457621_d644939f2f60396e291d_48.jpg',\n",
              "    'image_72': 'https://avatars.slack-edge.com/2021-05-16/2066274457621_d644939f2f60396e291d_72.jpg',\n",
              "    'image_192': 'https://avatars.slack-edge.com/2021-05-16/2066274457621_d644939f2f60396e291d_192.jpg',\n",
              "    'image_512': 'https://avatars.slack-edge.com/2021-05-16/2066274457621_d644939f2f60396e291d_512.jpg',\n",
              "    'image_1024': 'https://avatars.slack-edge.com/2021-05-16/2066274457621_d644939f2f60396e291d_1024.jpg',\n",
              "    'status_text_canonical': '',\n",
              "    'team': 'T01B7SGGMLJ'},\n",
              "   'is_admin': False,\n",
              "   'is_owner': False,\n",
              "   'is_primary_owner': False,\n",
              "   'is_restricted': False,\n",
              "   'is_ultra_restricted': False,\n",
              "   'is_bot': False,\n",
              "   'is_app_user': False,\n",
              "   'updated': 1621145504,\n",
              "   'is_email_confirmed': True},\n",
              "  {'id': 'U020P6WPAQJ',\n",
              "   'team_id': 'T01B7SGGMLJ',\n",
              "   'name': 'thuynh.386',\n",
              "   'deleted': False,\n",
              "   'color': 'e96699',\n",
              "   'real_name': 'Thuy Nguyen',\n",
              "   'tz': 'Asia/Bangkok',\n",
              "   'tz_label': 'Indochina Time',\n",
              "   'tz_offset': 25200,\n",
              "   'profile': {'title': '',\n",
              "    'phone': '',\n",
              "    'skype': '',\n",
              "    'real_name': 'Thuy Nguyen',\n",
              "    'real_name_normalized': 'Thuy Nguyen',\n",
              "    'display_name': '',\n",
              "    'display_name_normalized': '',\n",
              "    'fields': None,\n",
              "    'status_text': '',\n",
              "    'status_emoji': '',\n",
              "    'status_expiration': 0,\n",
              "    'avatar_hash': 'g48e7e77be67',\n",
              "    'image_24': 'https://secure.gravatar.com/avatar/48e7e77be6779108e10abe917d5dbaba.jpg?s=24&d=https%3A%2F%2Fa.slack-edge.com%2Fdf10d%2Fimg%2Favatars%2Fava_0006-24.png',\n",
              "    'image_32': 'https://secure.gravatar.com/avatar/48e7e77be6779108e10abe917d5dbaba.jpg?s=32&d=https%3A%2F%2Fa.slack-edge.com%2Fdf10d%2Fimg%2Favatars%2Fava_0006-32.png',\n",
              "    'image_48': 'https://secure.gravatar.com/avatar/48e7e77be6779108e10abe917d5dbaba.jpg?s=48&d=https%3A%2F%2Fa.slack-edge.com%2Fdf10d%2Fimg%2Favatars%2Fava_0006-48.png',\n",
              "    'image_72': 'https://secure.gravatar.com/avatar/48e7e77be6779108e10abe917d5dbaba.jpg?s=72&d=https%3A%2F%2Fa.slack-edge.com%2Fdf10d%2Fimg%2Favatars%2Fava_0006-72.png',\n",
              "    'image_192': 'https://secure.gravatar.com/avatar/48e7e77be6779108e10abe917d5dbaba.jpg?s=192&d=https%3A%2F%2Fa.slack-edge.com%2Fdf10d%2Fimg%2Favatars%2Fava_0006-192.png',\n",
              "    'image_512': 'https://secure.gravatar.com/avatar/48e7e77be6779108e10abe917d5dbaba.jpg?s=512&d=https%3A%2F%2Fa.slack-edge.com%2Fdf10d%2Fimg%2Favatars%2Fava_0006-512.png',\n",
              "    'status_text_canonical': '',\n",
              "    'team': 'T01B7SGGMLJ'},\n",
              "   'is_admin': False,\n",
              "   'is_owner': False,\n",
              "   'is_primary_owner': False,\n",
              "   'is_restricted': False,\n",
              "   'is_ultra_restricted': False,\n",
              "   'is_bot': False,\n",
              "   'is_app_user': False,\n",
              "   'updated': 1620009844,\n",
              "   'is_email_confirmed': True},\n",
              "  {'id': 'U020P877V88',\n",
              "   'team_id': 'T01B7SGGMLJ',\n",
              "   'name': 'huongntn2202',\n",
              "   'deleted': False,\n",
              "   'color': '674b1b',\n",
              "   'real_name': 'Huong Nguyen Thi Nhi',\n",
              "   'tz': 'Asia/Bangkok',\n",
              "   'tz_label': 'Indochina Time',\n",
              "   'tz_offset': 25200,\n",
              "   'profile': {'title': '',\n",
              "    'phone': '',\n",
              "    'skype': '',\n",
              "    'real_name': 'Huong Nguyen Thi Nhi',\n",
              "    'real_name_normalized': 'Huong Nguyen Thi Nhi',\n",
              "    'display_name': '',\n",
              "    'display_name_normalized': '',\n",
              "    'fields': None,\n",
              "    'status_text': '',\n",
              "    'status_emoji': '',\n",
              "    'status_expiration': 0,\n",
              "    'avatar_hash': 'g8113195cce9',\n",
              "    'image_24': 'https://secure.gravatar.com/avatar/8113195cce95637d2736ea73399168d8.jpg?s=24&d=https%3A%2F%2Fa.slack-edge.com%2Fdf10d%2Fimg%2Favatars%2Fava_0007-24.png',\n",
              "    'image_32': 'https://secure.gravatar.com/avatar/8113195cce95637d2736ea73399168d8.jpg?s=32&d=https%3A%2F%2Fa.slack-edge.com%2Fdf10d%2Fimg%2Favatars%2Fava_0007-32.png',\n",
              "    'image_48': 'https://secure.gravatar.com/avatar/8113195cce95637d2736ea73399168d8.jpg?s=48&d=https%3A%2F%2Fa.slack-edge.com%2Fdf10d%2Fimg%2Favatars%2Fava_0007-48.png',\n",
              "    'image_72': 'https://secure.gravatar.com/avatar/8113195cce95637d2736ea73399168d8.jpg?s=72&d=https%3A%2F%2Fa.slack-edge.com%2Fdf10d%2Fimg%2Favatars%2Fava_0007-72.png',\n",
              "    'image_192': 'https://secure.gravatar.com/avatar/8113195cce95637d2736ea73399168d8.jpg?s=192&d=https%3A%2F%2Fa.slack-edge.com%2Fdf10d%2Fimg%2Favatars%2Fava_0007-192.png',\n",
              "    'image_512': 'https://secure.gravatar.com/avatar/8113195cce95637d2736ea73399168d8.jpg?s=512&d=https%3A%2F%2Fa.slack-edge.com%2Fdf10d%2Fimg%2Favatars%2Fava_0007-512.png',\n",
              "    'status_text_canonical': '',\n",
              "    'team': 'T01B7SGGMLJ'},\n",
              "   'is_admin': False,\n",
              "   'is_owner': False,\n",
              "   'is_primary_owner': False,\n",
              "   'is_restricted': False,\n",
              "   'is_ultra_restricted': False,\n",
              "   'is_bot': False,\n",
              "   'is_app_user': False,\n",
              "   'updated': 1619409574,\n",
              "   'is_email_confirmed': True},\n",
              "  {'id': 'U021NF9FMPH',\n",
              "   'team_id': 'T01B7SGGMLJ',\n",
              "   'name': 'ngochant',\n",
              "   'deleted': False,\n",
              "   'color': '2b6836',\n",
              "   'real_name': 'ngochant',\n",
              "   'tz': 'America/Los_Angeles',\n",
              "   'tz_label': 'Pacific Daylight Time',\n",
              "   'tz_offset': -25200,\n",
              "   'profile': {'title': '',\n",
              "    'phone': '',\n",
              "    'skype': '',\n",
              "    'real_name': 'ngochant',\n",
              "    'real_name_normalized': 'ngochant',\n",
              "    'display_name': '',\n",
              "    'display_name_normalized': '',\n",
              "    'fields': None,\n",
              "    'status_text': '',\n",
              "    'status_emoji': '',\n",
              "    'status_expiration': 0,\n",
              "    'avatar_hash': 'g0823dc0128f',\n",
              "    'api_app_id': 'A021NCWKYR5',\n",
              "    'always_active': False,\n",
              "    'bot_id': 'B0223ET64SF',\n",
              "    'first_name': 'ngochant',\n",
              "    'last_name': '',\n",
              "    'image_24': 'https://secure.gravatar.com/avatar/0823dc0128f48c06a4c0e2ea08784b6d.jpg?s=24&d=https%3A%2F%2Fa.slack-edge.com%2Fdf10d%2Fimg%2Favatars%2Fava_0007-24.png',\n",
              "    'image_32': 'https://secure.gravatar.com/avatar/0823dc0128f48c06a4c0e2ea08784b6d.jpg?s=32&d=https%3A%2F%2Fa.slack-edge.com%2Fdf10d%2Fimg%2Favatars%2Fava_0007-32.png',\n",
              "    'image_48': 'https://secure.gravatar.com/avatar/0823dc0128f48c06a4c0e2ea08784b6d.jpg?s=48&d=https%3A%2F%2Fa.slack-edge.com%2Fdf10d%2Fimg%2Favatars%2Fava_0007-48.png',\n",
              "    'image_72': 'https://secure.gravatar.com/avatar/0823dc0128f48c06a4c0e2ea08784b6d.jpg?s=72&d=https%3A%2F%2Fa.slack-edge.com%2Fdf10d%2Fimg%2Favatars%2Fava_0007-72.png',\n",
              "    'image_192': 'https://secure.gravatar.com/avatar/0823dc0128f48c06a4c0e2ea08784b6d.jpg?s=192&d=https%3A%2F%2Fa.slack-edge.com%2Fdf10d%2Fimg%2Favatars%2Fava_0007-192.png',\n",
              "    'image_512': 'https://secure.gravatar.com/avatar/0823dc0128f48c06a4c0e2ea08784b6d.jpg?s=512&d=https%3A%2F%2Fa.slack-edge.com%2Fdf10d%2Fimg%2Favatars%2Fava_0007-512.png',\n",
              "    'status_text_canonical': '',\n",
              "    'team': 'T01B7SGGMLJ'},\n",
              "   'is_admin': False,\n",
              "   'is_owner': False,\n",
              "   'is_primary_owner': False,\n",
              "   'is_restricted': False,\n",
              "   'is_ultra_restricted': False,\n",
              "   'is_bot': True,\n",
              "   'is_app_user': False,\n",
              "   'updated': 1621251673,\n",
              "   'is_email_confirmed': False},\n",
              "  {'id': 'U021TFMH1RU',\n",
              "   'team_id': 'T01B7SGGMLJ',\n",
              "   'name': 'mquang.151999',\n",
              "   'deleted': False,\n",
              "   'color': 'e0a729',\n",
              "   'real_name': 'Quang Nguyen',\n",
              "   'tz': 'Asia/Bangkok',\n",
              "   'tz_label': 'Indochina Time',\n",
              "   'tz_offset': 25200,\n",
              "   'profile': {'title': '',\n",
              "    'phone': '',\n",
              "    'skype': '',\n",
              "    'real_name': 'Quang Nguyen',\n",
              "    'real_name_normalized': 'Quang Nguyen',\n",
              "    'display_name': 'Quang Nguyen',\n",
              "    'display_name_normalized': 'Quang Nguyen',\n",
              "    'fields': None,\n",
              "    'status_text': '',\n",
              "    'status_emoji': '',\n",
              "    'status_expiration': 0,\n",
              "    'avatar_hash': 'g1c0825ac54f',\n",
              "    'image_24': 'https://secure.gravatar.com/avatar/1c0825ac54fb81361b0d6c82bb67fc66.jpg?s=24&d=https%3A%2F%2Fa.slack-edge.com%2Fdf10d%2Fimg%2Favatars%2Fava_0026-24.png',\n",
              "    'image_32': 'https://secure.gravatar.com/avatar/1c0825ac54fb81361b0d6c82bb67fc66.jpg?s=32&d=https%3A%2F%2Fa.slack-edge.com%2Fdf10d%2Fimg%2Favatars%2Fava_0026-32.png',\n",
              "    'image_48': 'https://secure.gravatar.com/avatar/1c0825ac54fb81361b0d6c82bb67fc66.jpg?s=48&d=https%3A%2F%2Fa.slack-edge.com%2Fdf10d%2Fimg%2Favatars%2Fava_0026-48.png',\n",
              "    'image_72': 'https://secure.gravatar.com/avatar/1c0825ac54fb81361b0d6c82bb67fc66.jpg?s=72&d=https%3A%2F%2Fa.slack-edge.com%2Fdf10d%2Fimg%2Favatars%2Fava_0026-72.png',\n",
              "    'image_192': 'https://secure.gravatar.com/avatar/1c0825ac54fb81361b0d6c82bb67fc66.jpg?s=192&d=https%3A%2F%2Fa.slack-edge.com%2Fdf10d%2Fimg%2Favatars%2Fava_0026-192.png',\n",
              "    'image_512': 'https://secure.gravatar.com/avatar/1c0825ac54fb81361b0d6c82bb67fc66.jpg?s=512&d=https%3A%2F%2Fa.slack-edge.com%2Fdf10d%2Fimg%2Favatars%2Fava_0026-512.png',\n",
              "    'status_text_canonical': '',\n",
              "    'team': 'T01B7SGGMLJ'},\n",
              "   'is_admin': False,\n",
              "   'is_owner': False,\n",
              "   'is_primary_owner': False,\n",
              "   'is_restricted': False,\n",
              "   'is_ultra_restricted': False,\n",
              "   'is_bot': False,\n",
              "   'is_app_user': False,\n",
              "   'updated': 1621046249,\n",
              "   'is_email_confirmed': True},\n",
              "  {'id': 'U021Y57RMN1',\n",
              "   'team_id': 'T01B7SGGMLJ',\n",
              "   'name': 'lamlv723',\n",
              "   'deleted': False,\n",
              "   'color': '5b89d5',\n",
              "   'real_name': 'Lâm Lê',\n",
              "   'tz': 'Asia/Bangkok',\n",
              "   'tz_label': 'Indochina Time',\n",
              "   'tz_offset': 25200,\n",
              "   'profile': {'title': '',\n",
              "    'phone': '',\n",
              "    'skype': '',\n",
              "    'real_name': 'Lâm Lê',\n",
              "    'real_name_normalized': 'Lam Le',\n",
              "    'display_name': 'Lâm Lê',\n",
              "    'display_name_normalized': 'Lam Le',\n",
              "    'fields': None,\n",
              "    'status_text': '',\n",
              "    'status_emoji': '',\n",
              "    'status_expiration': 0,\n",
              "    'avatar_hash': '73cf448f226a',\n",
              "    'image_original': 'https://avatars.slack-edge.com/2021-05-15/2054484743655_73cf448f226a25744ba9_original.jpg',\n",
              "    'is_custom_image': True,\n",
              "    'image_24': 'https://avatars.slack-edge.com/2021-05-15/2054484743655_73cf448f226a25744ba9_24.jpg',\n",
              "    'image_32': 'https://avatars.slack-edge.com/2021-05-15/2054484743655_73cf448f226a25744ba9_32.jpg',\n",
              "    'image_48': 'https://avatars.slack-edge.com/2021-05-15/2054484743655_73cf448f226a25744ba9_48.jpg',\n",
              "    'image_72': 'https://avatars.slack-edge.com/2021-05-15/2054484743655_73cf448f226a25744ba9_72.jpg',\n",
              "    'image_192': 'https://avatars.slack-edge.com/2021-05-15/2054484743655_73cf448f226a25744ba9_192.jpg',\n",
              "    'image_512': 'https://avatars.slack-edge.com/2021-05-15/2054484743655_73cf448f226a25744ba9_512.jpg',\n",
              "    'image_1024': 'https://avatars.slack-edge.com/2021-05-15/2054484743655_73cf448f226a25744ba9_1024.jpg',\n",
              "    'status_text_canonical': '',\n",
              "    'team': 'T01B7SGGMLJ'},\n",
              "   'is_admin': False,\n",
              "   'is_owner': False,\n",
              "   'is_primary_owner': False,\n",
              "   'is_restricted': False,\n",
              "   'is_ultra_restricted': False,\n",
              "   'is_bot': False,\n",
              "   'is_app_user': False,\n",
              "   'updated': 1621134074,\n",
              "   'is_email_confirmed': True},\n",
              "  {'id': 'U02246KN5D1',\n",
              "   'team_id': 'T01B7SGGMLJ',\n",
              "   'name': 'conversationslist',\n",
              "   'deleted': False,\n",
              "   'color': '99a949',\n",
              "   'real_name': '/conversations.list',\n",
              "   'tz': 'America/Los_Angeles',\n",
              "   'tz_label': 'Pacific Daylight Time',\n",
              "   'tz_offset': -25200,\n",
              "   'profile': {'title': '',\n",
              "    'phone': '',\n",
              "    'skype': '',\n",
              "    'real_name': '/conversations.list',\n",
              "    'real_name_normalized': '/conversations.list',\n",
              "    'display_name': '',\n",
              "    'display_name_normalized': '',\n",
              "    'fields': None,\n",
              "    'status_text': '',\n",
              "    'status_emoji': '',\n",
              "    'status_expiration': 0,\n",
              "    'avatar_hash': 'gf455d759ea9',\n",
              "    'api_app_id': 'A02246BLA1Z',\n",
              "    'always_active': False,\n",
              "    'bot_id': 'B02240BHX5G',\n",
              "    'first_name': '/conversations.list',\n",
              "    'last_name': '',\n",
              "    'image_24': 'https://secure.gravatar.com/avatar/f455d759ea9019fc97f9257dd56b34aa.jpg?s=24&d=https%3A%2F%2Fa.slack-edge.com%2Fdf10d%2Fimg%2Favatars%2Fava_0008-24.png',\n",
              "    'image_32': 'https://secure.gravatar.com/avatar/f455d759ea9019fc97f9257dd56b34aa.jpg?s=32&d=https%3A%2F%2Fa.slack-edge.com%2Fdf10d%2Fimg%2Favatars%2Fava_0008-32.png',\n",
              "    'image_48': 'https://secure.gravatar.com/avatar/f455d759ea9019fc97f9257dd56b34aa.jpg?s=48&d=https%3A%2F%2Fa.slack-edge.com%2Fdf10d%2Fimg%2Favatars%2Fava_0008-48.png',\n",
              "    'image_72': 'https://secure.gravatar.com/avatar/f455d759ea9019fc97f9257dd56b34aa.jpg?s=72&d=https%3A%2F%2Fa.slack-edge.com%2Fdf10d%2Fimg%2Favatars%2Fava_0008-72.png',\n",
              "    'image_192': 'https://secure.gravatar.com/avatar/f455d759ea9019fc97f9257dd56b34aa.jpg?s=192&d=https%3A%2F%2Fa.slack-edge.com%2Fdf10d%2Fimg%2Favatars%2Fava_0008-192.png',\n",
              "    'image_512': 'https://secure.gravatar.com/avatar/f455d759ea9019fc97f9257dd56b34aa.jpg?s=512&d=https%3A%2F%2Fa.slack-edge.com%2Fdf10d%2Fimg%2Favatars%2Fava_0008-512.png',\n",
              "    'status_text_canonical': '',\n",
              "    'team': 'T01B7SGGMLJ'},\n",
              "   'is_admin': False,\n",
              "   'is_owner': False,\n",
              "   'is_primary_owner': False,\n",
              "   'is_restricted': False,\n",
              "   'is_ultra_restricted': False,\n",
              "   'is_bot': True,\n",
              "   'is_app_user': False,\n",
              "   'updated': 1621390880,\n",
              "   'is_email_confirmed': False},\n",
              "  {'id': 'U0226MQ73MJ',\n",
              "   'team_id': 'T01B7SGGMLJ',\n",
              "   'name': 'mad',\n",
              "   'deleted': False,\n",
              "   'color': '684b6c',\n",
              "   'real_name': 'MAD',\n",
              "   'tz': 'America/Los_Angeles',\n",
              "   'tz_label': 'Pacific Daylight Time',\n",
              "   'tz_offset': -25200,\n",
              "   'profile': {'title': '',\n",
              "    'phone': '',\n",
              "    'skype': '',\n",
              "    'real_name': 'MAD',\n",
              "    'real_name_normalized': 'MAD',\n",
              "    'display_name': '',\n",
              "    'display_name_normalized': '',\n",
              "    'fields': None,\n",
              "    'status_text': '',\n",
              "    'status_emoji': '',\n",
              "    'status_expiration': 0,\n",
              "    'avatar_hash': 'ga147329c4ca',\n",
              "    'api_app_id': 'A0220GDHWJW',\n",
              "    'always_active': False,\n",
              "    'bot_id': 'B022QB4TL9W',\n",
              "    'first_name': 'MAD',\n",
              "    'last_name': '',\n",
              "    'image_24': 'https://secure.gravatar.com/avatar/a147329c4ca6735286d053d06784665c.jpg?s=24&d=https%3A%2F%2Fa.slack-edge.com%2Fdf10d%2Fimg%2Favatars%2Fava_0001-24.png',\n",
              "    'image_32': 'https://secure.gravatar.com/avatar/a147329c4ca6735286d053d06784665c.jpg?s=32&d=https%3A%2F%2Fa.slack-edge.com%2Fdf10d%2Fimg%2Favatars%2Fava_0001-32.png',\n",
              "    'image_48': 'https://secure.gravatar.com/avatar/a147329c4ca6735286d053d06784665c.jpg?s=48&d=https%3A%2F%2Fa.slack-edge.com%2Fdf10d%2Fimg%2Favatars%2Fava_0001-48.png',\n",
              "    'image_72': 'https://secure.gravatar.com/avatar/a147329c4ca6735286d053d06784665c.jpg?s=72&d=https%3A%2F%2Fa.slack-edge.com%2Fdf10d%2Fimg%2Favatars%2Fava_0001-72.png',\n",
              "    'image_192': 'https://secure.gravatar.com/avatar/a147329c4ca6735286d053d06784665c.jpg?s=192&d=https%3A%2F%2Fa.slack-edge.com%2Fdf10d%2Fimg%2Favatars%2Fava_0001-192.png',\n",
              "    'image_512': 'https://secure.gravatar.com/avatar/a147329c4ca6735286d053d06784665c.jpg?s=512&d=https%3A%2F%2Fa.slack-edge.com%2Fdf10d%2Fimg%2Favatars%2Fava_0001-512.png',\n",
              "    'status_text_canonical': '',\n",
              "    'team': 'T01B7SGGMLJ'},\n",
              "   'is_admin': False,\n",
              "   'is_owner': False,\n",
              "   'is_primary_owner': False,\n",
              "   'is_restricted': False,\n",
              "   'is_ultra_restricted': False,\n",
              "   'is_bot': True,\n",
              "   'is_app_user': False,\n",
              "   'updated': 1621528958,\n",
              "   'is_email_confirmed': False},\n",
              "  {'id': 'U022BEV3FEW',\n",
              "   'team_id': 'T01B7SGGMLJ',\n",
              "   'name': 'convhist',\n",
              "   'deleted': False,\n",
              "   'color': 'df3dc0',\n",
              "   'real_name': 'conv.hist',\n",
              "   'tz': 'America/Los_Angeles',\n",
              "   'tz_label': 'Pacific Daylight Time',\n",
              "   'tz_offset': -25200,\n",
              "   'profile': {'title': '',\n",
              "    'phone': '',\n",
              "    'skype': '',\n",
              "    'real_name': 'conv.hist',\n",
              "    'real_name_normalized': 'conv.hist',\n",
              "    'display_name': '',\n",
              "    'display_name_normalized': '',\n",
              "    'fields': None,\n",
              "    'status_text': '',\n",
              "    'status_emoji': '',\n",
              "    'status_expiration': 0,\n",
              "    'avatar_hash': 'ga71d9b3bda0',\n",
              "    'api_app_id': 'A022Q3GUJTB',\n",
              "    'always_active': False,\n",
              "    'bot_id': 'B022BM39LSF',\n",
              "    'first_name': 'conv.hist',\n",
              "    'last_name': '',\n",
              "    'image_24': 'https://secure.gravatar.com/avatar/a71d9b3bda0aecbd692b6eb0de33f162.jpg?s=24&d=https%3A%2F%2Fa.slack-edge.com%2Fdf10d%2Fimg%2Favatars%2Fava_0002-24.png',\n",
              "    'image_32': 'https://secure.gravatar.com/avatar/a71d9b3bda0aecbd692b6eb0de33f162.jpg?s=32&d=https%3A%2F%2Fa.slack-edge.com%2Fdf10d%2Fimg%2Favatars%2Fava_0002-32.png',\n",
              "    'image_48': 'https://secure.gravatar.com/avatar/a71d9b3bda0aecbd692b6eb0de33f162.jpg?s=48&d=https%3A%2F%2Fa.slack-edge.com%2Fdf10d%2Fimg%2Favatars%2Fava_0002-48.png',\n",
              "    'image_72': 'https://secure.gravatar.com/avatar/a71d9b3bda0aecbd692b6eb0de33f162.jpg?s=72&d=https%3A%2F%2Fa.slack-edge.com%2Fdf10d%2Fimg%2Favatars%2Fava_0002-72.png',\n",
              "    'image_192': 'https://secure.gravatar.com/avatar/a71d9b3bda0aecbd692b6eb0de33f162.jpg?s=192&d=https%3A%2F%2Fa.slack-edge.com%2Fdf10d%2Fimg%2Favatars%2Fava_0002-192.png',\n",
              "    'image_512': 'https://secure.gravatar.com/avatar/a71d9b3bda0aecbd692b6eb0de33f162.jpg?s=512&d=https%3A%2F%2Fa.slack-edge.com%2Fdf10d%2Fimg%2Favatars%2Fava_0002-512.png',\n",
              "    'status_text_canonical': '',\n",
              "    'team': 'T01B7SGGMLJ'},\n",
              "   'is_admin': False,\n",
              "   'is_owner': False,\n",
              "   'is_primary_owner': False,\n",
              "   'is_restricted': False,\n",
              "   'is_ultra_restricted': False,\n",
              "   'is_bot': True,\n",
              "   'is_app_user': False,\n",
              "   'updated': 1621391358,\n",
              "   'is_email_confirmed': False},\n",
              "  {'id': 'U022J0SQAMQ',\n",
              "   'team_id': 'T01B7SGGMLJ',\n",
              "   'name': 'abc',\n",
              "   'deleted': False,\n",
              "   'color': '4cc091',\n",
              "   'real_name': 'abc',\n",
              "   'tz': 'America/Los_Angeles',\n",
              "   'tz_label': 'Pacific Daylight Time',\n",
              "   'tz_offset': -25200,\n",
              "   'profile': {'title': '',\n",
              "    'phone': '',\n",
              "    'skype': '',\n",
              "    'real_name': 'abc',\n",
              "    'real_name_normalized': 'abc',\n",
              "    'display_name': '',\n",
              "    'display_name_normalized': '',\n",
              "    'fields': None,\n",
              "    'status_text': '',\n",
              "    'status_emoji': '',\n",
              "    'status_expiration': 0,\n",
              "    'avatar_hash': 'gc61c18c89c7',\n",
              "    'api_app_id': 'A022B6B3F8W',\n",
              "    'always_active': False,\n",
              "    'bot_id': 'B022B7ANQES',\n",
              "    'image_24': 'https://secure.gravatar.com/avatar/c61c18c89c7377a9e2da92cae356da39.jpg?s=24&d=https%3A%2F%2Fa.slack-edge.com%2Fdf10d%2Fimg%2Favatars%2Fava_0025-24.png',\n",
              "    'image_32': 'https://secure.gravatar.com/avatar/c61c18c89c7377a9e2da92cae356da39.jpg?s=32&d=https%3A%2F%2Fa.slack-edge.com%2Fdf10d%2Fimg%2Favatars%2Fava_0025-32.png',\n",
              "    'image_48': 'https://secure.gravatar.com/avatar/c61c18c89c7377a9e2da92cae356da39.jpg?s=48&d=https%3A%2F%2Fa.slack-edge.com%2Fdf10d%2Fimg%2Favatars%2Fava_0025-48.png',\n",
              "    'image_72': 'https://secure.gravatar.com/avatar/c61c18c89c7377a9e2da92cae356da39.jpg?s=72&d=https%3A%2F%2Fa.slack-edge.com%2Fdf10d%2Fimg%2Favatars%2Fava_0025-72.png',\n",
              "    'image_192': 'https://secure.gravatar.com/avatar/c61c18c89c7377a9e2da92cae356da39.jpg?s=192&d=https%3A%2F%2Fa.slack-edge.com%2Fdf10d%2Fimg%2Favatars%2Fava_0025-192.png',\n",
              "    'image_512': 'https://secure.gravatar.com/avatar/c61c18c89c7377a9e2da92cae356da39.jpg?s=512&d=https%3A%2F%2Fa.slack-edge.com%2Fdf10d%2Fimg%2Favatars%2Fava_0025-512.png',\n",
              "    'status_text_canonical': '',\n",
              "    'team': 'T01B7SGGMLJ'},\n",
              "   'is_admin': False,\n",
              "   'is_owner': False,\n",
              "   'is_primary_owner': False,\n",
              "   'is_restricted': False,\n",
              "   'is_ultra_restricted': False,\n",
              "   'is_bot': True,\n",
              "   'is_app_user': False,\n",
              "   'updated': 1621515900,\n",
              "   'is_email_confirmed': False}],\n",
              " 'cache_ts': 1621530739,\n",
              " 'response_metadata': {'next_cursor': ''}}"
            ]
          },
          "metadata": {},
          "execution_count": 19
        }
      ]
    },
    {
      "cell_type": "code",
      "execution_count": 20,
      "metadata": {},
      "outputs": [],
      "source": [
        "user_dat = response_json['members']"
      ]
    },
    {
      "cell_type": "markdown",
      "metadata": {
        "id": "rqEti4Y50tdB"
      },
      "source": [
        "### TODO #1\n",
        "Hoàn tất đoạn code sau"
      ]
    },
    {
      "cell_type": "code",
      "metadata": {
        "id": "P0qbkdhtD9ww"
      },
      "source": [
        "## Loop qua JSON file và extract các thông tin quan trọng (id, name, display_name, real_name_normalized, title, phone, is_bot)\n",
        "## Hint: Bạn có thể dùng Postman hoặc in user_dat JSON để xem cấu trúc (schema), dùng Ctrl+F để tìm các keys (id, name, display_name, real_name_normalized, title, phone, is_bot)\n",
        "user_dict = {'user_id':[], 'name':[], 'display_name':[],'real_name':[],'title':[],'phone':[],'is_bot':[]}\n",
        "for i in range(len(user_dat)):\n",
        "  user_dict['user_id'].append(user_dat[i]['id'])\n",
        "  user_dict['name'].append(user_dat[i]['name'])\n",
        "  user_dict['display_name'].append(user_dat[i]['profile']['display_name'])\n",
        "  user_dict['real_name'].append(user_dat[i]['profile']['real_name_normalized'])\n",
        "  user_dict['title'].append(user_dat[i]['profile']['title'])\n",
        "  user_dict['phone'].append(user_dat[i]['profile']['phone'])\n",
        "  user_dict['is_bot'].append(user_dat[i]['is_bot'])"
      ],
      "execution_count": 21,
      "outputs": []
    },
    {
      "cell_type": "code",
      "metadata": {
        "colab": {
          "base_uri": "https://localhost:8080/",
          "height": 204
        },
        "id": "yGNvsCauF8_w",
        "outputId": "dfc4c6f7-845c-4202-8fc7-43aeb328554a"
      },
      "source": [
        "user_df = pd.DataFrame(user_dict) ## Dùng pandas để convert dictionaries thành bảng\n",
        "user_df.head(5) ## Chỉ in 5 dòng đầu (chủ yếu để xem cấu trúc)"
      ],
      "execution_count": 22,
      "outputs": [
        {
          "output_type": "execute_result",
          "data": {
            "text/plain": [
              "       user_id               name       display_name           real_name  \\\n",
              "0    USLACKBOT           slackbot           Slackbot            Slackbot   \n",
              "1  U01AT4T75JB     loclexuan26392        Loc Le Xuan         Loc Le Xuan   \n",
              "2  U01AVDY7JET           locle.ds        Loc Le Xuan         Loc Le Xuan   \n",
              "3  U01BE2PR6LU     maianhdang.ftu                MAD  Dặng Huỳnh Mai Anh   \n",
              "4  U01C48T7S1J  huyenhoang.design  Thanh Huyen Hoang   Thanh Huyen Hoang   \n",
              "\n",
              "                title phone  is_bot  \n",
              "0                             False  \n",
              "1                             False  \n",
              "2                             False  \n",
              "3  Technical Contents         False  \n",
              "4                             False  "
            ],
            "text/html": "<div>\n<style scoped>\n    .dataframe tbody tr th:only-of-type {\n        vertical-align: middle;\n    }\n\n    .dataframe tbody tr th {\n        vertical-align: top;\n    }\n\n    .dataframe thead th {\n        text-align: right;\n    }\n</style>\n<table border=\"1\" class=\"dataframe\">\n  <thead>\n    <tr style=\"text-align: right;\">\n      <th></th>\n      <th>user_id</th>\n      <th>name</th>\n      <th>display_name</th>\n      <th>real_name</th>\n      <th>title</th>\n      <th>phone</th>\n      <th>is_bot</th>\n    </tr>\n  </thead>\n  <tbody>\n    <tr>\n      <td>0</td>\n      <td>USLACKBOT</td>\n      <td>slackbot</td>\n      <td>Slackbot</td>\n      <td>Slackbot</td>\n      <td></td>\n      <td></td>\n      <td>False</td>\n    </tr>\n    <tr>\n      <td>1</td>\n      <td>U01AT4T75JB</td>\n      <td>loclexuan26392</td>\n      <td>Loc Le Xuan</td>\n      <td>Loc Le Xuan</td>\n      <td></td>\n      <td></td>\n      <td>False</td>\n    </tr>\n    <tr>\n      <td>2</td>\n      <td>U01AVDY7JET</td>\n      <td>locle.ds</td>\n      <td>Loc Le Xuan</td>\n      <td>Loc Le Xuan</td>\n      <td></td>\n      <td></td>\n      <td>False</td>\n    </tr>\n    <tr>\n      <td>3</td>\n      <td>U01BE2PR6LU</td>\n      <td>maianhdang.ftu</td>\n      <td>MAD</td>\n      <td>Dặng Huỳnh Mai Anh</td>\n      <td>Technical Contents</td>\n      <td></td>\n      <td>False</td>\n    </tr>\n    <tr>\n      <td>4</td>\n      <td>U01C48T7S1J</td>\n      <td>huyenhoang.design</td>\n      <td>Thanh Huyen Hoang</td>\n      <td>Thanh Huyen Hoang</td>\n      <td></td>\n      <td></td>\n      <td>False</td>\n    </tr>\n  </tbody>\n</table>\n</div>"
          },
          "metadata": {},
          "execution_count": 22
        }
      ]
    },
    {
      "cell_type": "code",
      "metadata": {
        "colab": {
          "base_uri": "https://localhost:8080/",
          "height": 80
        },
        "id": "rjFcaWdt2ABM",
        "outputId": "1a114985-7608-4421-aa51-1e406cc427eb"
      },
      "source": [
        "user_df[user_df.display_name == 'MAD'] ## Lọc thông tin của MAD, trên DataFrame (bạn có thể Google thêm)"
      ],
      "execution_count": 23,
      "outputs": [
        {
          "output_type": "execute_result",
          "data": {
            "text/plain": [
              "       user_id            name display_name           real_name  \\\n",
              "3  U01BE2PR6LU  maianhdang.ftu          MAD  Dặng Huỳnh Mai Anh   \n",
              "\n",
              "                title phone  is_bot  \n",
              "3  Technical Contents         False  "
            ],
            "text/html": "<div>\n<style scoped>\n    .dataframe tbody tr th:only-of-type {\n        vertical-align: middle;\n    }\n\n    .dataframe tbody tr th {\n        vertical-align: top;\n    }\n\n    .dataframe thead th {\n        text-align: right;\n    }\n</style>\n<table border=\"1\" class=\"dataframe\">\n  <thead>\n    <tr style=\"text-align: right;\">\n      <th></th>\n      <th>user_id</th>\n      <th>name</th>\n      <th>display_name</th>\n      <th>real_name</th>\n      <th>title</th>\n      <th>phone</th>\n      <th>is_bot</th>\n    </tr>\n  </thead>\n  <tbody>\n    <tr>\n      <td>3</td>\n      <td>U01BE2PR6LU</td>\n      <td>maianhdang.ftu</td>\n      <td>MAD</td>\n      <td>Dặng Huỳnh Mai Anh</td>\n      <td>Technical Contents</td>\n      <td></td>\n      <td>False</td>\n    </tr>\n  </tbody>\n</table>\n</div>"
          },
          "metadata": {},
          "execution_count": 23
        }
      ]
    },
    {
      "cell_type": "markdown",
      "metadata": {
        "id": "1TZrcaWZyE07"
      },
      "source": [
        "-------------- HẾT PHẦN BẮT BUỘC ---------------------"
      ]
    },
    {
      "cell_type": "markdown",
      "metadata": {
        "id": "P3_b7zw-1A6s"
      },
      "source": [
        "## Option 1: Update data => Google SpreadSheet"
      ]
    },
    {
      "cell_type": "markdown",
      "metadata": {
        "id": "UPuXhw3WtmWw"
      },
      "source": [
        "### TODO#2\n",
        "Tạo service account (output là file json), file này để cho phép ta access vào Google Spreadsheet:\n",
        "\n",
        "1. Làm theo hướng dẫn: [Google Create a Service Account](https://support.google.com/a/answer/7378726?hl=en)\n",
        "![google_service_account](../img/google_service_account.png)\n",
        "2. Lưu file JSON (chứa credential về máy)\n",
        "![gservice_acc_json](../img/gservice_acc_json.png)\n",
        "3. Nhớ Enable [Google Drive API](https://console.cloud.google.com/marketplace/product/google/drive.googleapis.com?q=search&referrer=search&project=quickstart-313303) (Nếu bạn chạy code báo lỗi chưa enable API thì vào link trong phần lỗi để Enable, sau khi kích hoạt có thể cần vài phút để chạy được)\n",
        "![enable_api](../img/enable_api.png)\n",
        "* ==> Upload file Gsheet Credential JSON nếu bạn dùng Colab \n",
        "* ==> Nếu bạn để key trong repo git, **NHỚ** để file json vào `.gitignore` để không bị leaked key)\n"
      ]
    },
    {
      "cell_type": "code",
      "metadata": {
        "colab": {
          "base_uri": "https://localhost:8080/"
        },
        "id": "XhrcVjXWwldS",
        "outputId": "63133330-f68b-4adf-96a1-6d2c0e08dc70"
      },
      "source": [
        "!dir"
      ],
      "execution_count": 24,
      "outputs": [
        {
          "output_type": "stream",
          "name": "stdout",
          "text": [
            " Volume in drive C is System\n Volume Serial Number is 140C-D8FD\n\n Directory of c:\\Users\\Admin\\OneDrive\\Documents\\GitHub\\atom-assignments\\assignment_3\n\n05/19/2021  11:19 PM    <DIR>          .\n05/19/2021  11:19 PM    <DIR>          ..\n05/21/2021  12:11 AM               224 env_variable.json\n05/20/2021  08:14 PM            82,711 home_assignment_3.ipynb\n05/19/2021  11:19 PM             2,326 my_project_1.json\n05/18/2021  09:59 PM               238 README.md\n               4 File(s)         85,499 bytes\n               2 Dir(s)  10,429,116,416 bytes free\n"
          ]
        }
      ]
    },
    {
      "cell_type": "code",
      "metadata": {
        "colab": {
          "base_uri": "https://localhost:8080/"
        },
        "id": "4NEQFu-DNvFC",
        "outputId": "a855fe34-b409-4152-a218-67bfa240396f"
      },
      "source": [
        "import gspread\n",
        "## Authorize bằng JSON\n",
        "scope = ['https://spreadsheets.google.com/feeds',\n",
        "         'https://www.googleapis.com/auth/drive']\n",
        "credentials = ServiceAccountCredentials.from_json_keyfile_name(\n",
        "    'my_project_1.json', scope)\n",
        "gc = gspread.authorize(credentials)\n",
        "print(\"DONE!\")"
      ],
      "execution_count": 25,
      "outputs": [
        {
          "output_type": "stream",
          "name": "stdout",
          "text": [
            "DONE!\n"
          ]
        }
      ]
    },
    {
      "cell_type": "markdown",
      "metadata": {
        "id": "HELBp0Sdxhzc"
      },
      "source": [
        "**Tạo Spreadsheet**\n",
        "\n",
        "1. Tạo Spreadsheet trên google\n",
        "2. Invite account trong `client_email` (file JSON Gsheet Credential bên trên) vào Spreadsheet (quyền Editor)\n",
        "![enable_api](../img/enable_api.png)\n",
        "3. Lấy `SPREADSHEET_KEY` (nằm trong chính URL của Spreadhstee): `https://docs.google.com/spreadsheets/d/<SPREADSHEET_KEY>/edit#gid=0`\n",
        "\n",
        "![add_gsheet](../img/add_gsheet.png)"
      ]
    },
    {
      "cell_type": "code",
      "metadata": {
        "id": "XlZ8JNB3bZbw"
      },
      "source": [
        "# ACCES GOOGLE SHEET\n",
        "sheet_index_no = 0\n",
        "spreadsheet_key = '1nNlQbhJbdfJLWCYirnHdOSB6i9KNFVPZe1qNTWkgk4o' # input SPREADSHEET_KEY HERE\n",
        "sh = gc.open_by_key(spreadsheet_key)\n",
        "worksheet = sh.get_worksheet(sheet_index_no) #-> 0 - first sheet, 1 - second sheet etc. \n",
        "\n",
        "# APPEND DATA TO SHEET\n",
        "set_with_dataframe(worksheet, user_df) #-> Upload user_df vào Sheet đầu tiên trong Spreadsheet\n",
        "\n",
        "# DONE: Bây giờ bạn có thể mở spreadsheet và kiểm tra nội dung đã update chứ"
      ],
      "execution_count": 16,
      "outputs": []
    },
    {
      "source": [
        "![slack_user_gsheet](../img/slack_user_gsheet.png)"
      ],
      "cell_type": "markdown",
      "metadata": {}
    },
    {
      "cell_type": "markdown",
      "metadata": {
        "id": "5I15m3ilyA3Y"
      },
      "source": [
        "-------------- HẾT PHẦN OPTION 1 ---------------------"
      ]
    },
    {
      "cell_type": "markdown",
      "metadata": {
        "id": "9aRN9KSczkmr"
      },
      "source": [
        "## Option 2: Ai đã nộp bài?\n"
      ]
    },
    {
      "cell_type": "markdown",
      "metadata": {
        "id": "Pw81ioUz2N0v"
      },
      "source": [
        "### Slack API: Channel List"
      ]
    },
    {
      "cell_type": "code",
      "metadata": {
        "id": "fcdaDaGdz60p"
      },
      "source": [
        "## Gọi SLACK API để list tất cả các channel\n",
        "endpoint = \"https://slack.com/api/conversations.list\"\n",
        "headers = {\"Authorization\": \"Bearer {}\".format(os.environ['SLACK_BEARER_TOKEN'])}\n",
        "response = requests.post(endpoint, headers=headers).json() \n",
        "channel_ls = response['channels']"
      ],
      "execution_count": 26,
      "outputs": []
    },
    {
      "cell_type": "code",
      "metadata": {
        "colab": {
          "base_uri": "https://localhost:8080/"
        },
        "id": "47dUJAPi0Jg5",
        "outputId": "2762f1e8-ff65-4994-c3e5-1ab0f5dc9205"
      },
      "source": [
        "channel_ls[0] ## Thử extract record đầu tiên để xem schema  => name: general, id: C01B4PVGLVB"
      ],
      "execution_count": 27,
      "outputs": [
        {
          "output_type": "execute_result",
          "data": {
            "text/plain": [
              "{'id': 'C01B4PVGLVB',\n",
              " 'name': 'general',\n",
              " 'is_channel': True,\n",
              " 'is_group': False,\n",
              " 'is_im': False,\n",
              " 'created': 1600856703,\n",
              " 'is_archived': False,\n",
              " 'is_general': True,\n",
              " 'unlinked': 0,\n",
              " 'name_normalized': 'general',\n",
              " 'is_shared': False,\n",
              " 'parent_conversation': None,\n",
              " 'creator': 'U01BE2PR6LU',\n",
              " 'is_ext_shared': False,\n",
              " 'is_org_shared': False,\n",
              " 'shared_team_ids': ['T01B7SGGMLJ'],\n",
              " 'pending_shared': [],\n",
              " 'pending_connected_team_ids': [],\n",
              " 'is_pending_ext_shared': False,\n",
              " 'is_member': False,\n",
              " 'is_private': False,\n",
              " 'is_mpim': False,\n",
              " 'topic': {'value': '', 'creator': '', 'last_set': 0},\n",
              " 'purpose': {'value': 'This is the one channel that will always include everyone. It’s a great spot for announcements and team-wide conversations.',\n",
              "  'creator': 'U01BE2PR6LU',\n",
              "  'last_set': 1600856703},\n",
              " 'previous_names': [],\n",
              " 'num_members': 63}"
            ]
          },
          "metadata": {},
          "execution_count": 27
        }
      ]
    },
    {
      "cell_type": "markdown",
      "metadata": {
        "id": "CNFTcFC00l8g"
      },
      "source": [
        "### TODO#3 \n",
        "* Tìm id của channel #atom-assignment2"
      ]
    },
    {
      "cell_type": "code",
      "execution_count": 28,
      "metadata": {},
      "outputs": [
        {
          "output_type": "stream",
          "name": "stdout",
          "text": [
            "C021FSDN7LJ\n"
          ]
        }
      ],
      "source": [
        "for i in range(len(channel_ls)): #Tìm trong các phần tử của channel_ls\n",
        "    if channel_ls[i]['name'] == 'atom-assignment2': #phần tử nào có name là atom-assignment2\n",
        "        print(channel_ls[i]['id'])"
      ]
    },
    {
      "cell_type": "markdown",
      "metadata": {
        "id": "EnCvdYAn2R47"
      },
      "source": [
        "### Slack API: List messages trong 1 channel"
      ]
    },
    {
      "cell_type": "code",
      "metadata": {
        "id": "1UsSESN8rtnk"
      },
      "source": [
        "endpoint = \"https://slack.com/api/conversations.history\"\n",
        "data = {\"channel\": \"C01U6P7LZ8F\"} ## This is ID of assignment#1 channel\n",
        "headers = {\"Authorization\": \"Bearer {}\".format(os.environ['SLACK_BEARER_TOKEN'])}"
      ],
      "execution_count": 29,
      "outputs": []
    },
    {
      "cell_type": "code",
      "metadata": {
        "id": "i8eJw3LBr4lY"
      },
      "source": [
        "response_json = requests.post(endpoint, data=data, headers=headers).json()\n",
        "msg_ls = response_json['messages']"
      ],
      "execution_count": 30,
      "outputs": []
    },
    {
      "cell_type": "code",
      "metadata": {
        "colab": {
          "base_uri": "https://localhost:8080/"
        },
        "id": "KkYO1KcBtZa9",
        "outputId": "7a76397b-202b-445e-aa26-f4b30cfc9a53"
      },
      "source": [
        "msg_ls[21]"
      ],
      "execution_count": 31,
      "outputs": [
        {
          "output_type": "execute_result",
          "data": {
            "text/plain": [
              "{'client_msg_id': 'a206160a-3b59-44d0-a800-091897d7fcc7',\n",
              " 'type': 'message',\n",
              " 'text': 'Chào mọi người, mình gửi assignment 1 nhaa:\\n<https://www.notion.so/L-Th-o-Vy-Assignment-1-f2df526a7fb74d8a9d305061f6772cc2>\\nChúc mọi người một đầu tuần vui vẻ ^^',\n",
              " 'user': 'U01UMBZHU2W',\n",
              " 'ts': '1619420036.000800',\n",
              " 'team': 'T01B7SGGMLJ',\n",
              " 'attachments': [{'service_name': \"Vy's Notion on Notion\",\n",
              "   'title': 'Lê Thảo Vy - Assignment 1',\n",
              "   'title_link': 'https://www.notion.so/L-Th-o-Vy-Assignment-1-f2df526a7fb74d8a9d305061f6772cc2',\n",
              "   'text': 'Task 1: link',\n",
              "   'fallback': \"Vy's Notion on Notion: Lê Thảo Vy - Assignment 1\",\n",
              "   'from_url': 'https://www.notion.so/L-Th-o-Vy-Assignment-1-f2df526a7fb74d8a9d305061f6772cc2',\n",
              "   'id': 1,\n",
              "   'original_url': 'https://www.notion.so/L-Th-o-Vy-Assignment-1-f2df526a7fb74d8a9d305061f6772cc2'}],\n",
              " 'blocks': [{'type': 'rich_text',\n",
              "   'block_id': 'E8w3f',\n",
              "   'elements': [{'type': 'rich_text_section',\n",
              "     'elements': [{'type': 'text',\n",
              "       'text': 'Chào mọi người, mình gửi assignment 1 nhaa:\\n'},\n",
              "      {'type': 'link',\n",
              "       'url': 'https://www.notion.so/L-Th-o-Vy-Assignment-1-f2df526a7fb74d8a9d305061f6772cc2'},\n",
              "      {'type': 'text', 'text': '\\nChúc mọi người một đầu tuần vui vẻ ^^'}]}]}],\n",
              " 'thread_ts': '1619420036.000800',\n",
              " 'reply_count': 2,\n",
              " 'reply_users_count': 2,\n",
              " 'latest_reply': '1621014755.025100',\n",
              " 'reply_users': ['U01UMJ451V1', 'U01UMBZHU2W'],\n",
              " 'is_locked': False,\n",
              " 'subscribed': False,\n",
              " 'reactions': [{'name': 'white_check_mark',\n",
              "   'users': ['U01UMJ451V1'],\n",
              "   'count': 1}]}"
            ]
          },
          "metadata": {},
          "execution_count": 31
        }
      ]
    },
    {
      "cell_type": "code",
      "metadata": {
        "id": "BsW8CXAXv-tC"
      },
      "source": [
        "not_learners_id = ['U01BE2PR6LU']"
      ],
      "execution_count": 32,
      "outputs": []
    },
    {
      "cell_type": "code",
      "metadata": {
        "colab": {
          "base_uri": "https://localhost:8080/"
        },
        "id": "XOvJ5kGCsmAD",
        "outputId": "79567aaf-62bd-4091-deca-6e13c1c80e79"
      },
      "source": [
        "## Summarize all submitted assignments + reviews cnt\n",
        "not_learners_id = ['U01BE2PR6LU'] # -> Remove MA from the user_id\n",
        "github, reply_count, reply_users_count, reply_users, latest_reply = '','','','',''\n",
        "for i in range(20):\n",
        "  ts = dt.fromtimestamp(float(msg_ls[i]['ts'])) # -> Convert timestamp Epoch thành dàng dễ đọc\n",
        "  user = msg_ls[i]['user'] # -> Lấy thông tin người post messages\n",
        "  if msg_ls[i]['user'] not in not_learners_id:\n",
        "    if 'attachments' in msg_ls[i].keys():\n",
        "      #print(msg_ls[i].keys())\n",
        "      text = msg_ls[i]['text']\n",
        "      github_link = re.findall('(?:https?://)?(?:www[.])?github[.]com/[\\w-]+/?', text) #-> Submission là các message có link github\n",
        "      #print(msg_ls[i])\n",
        "      if len(github_link) > 0: github = github_link[0]\n",
        "      if 'reply_count' in msg_ls[i].keys(): reply_count = msg_ls[i]['reply_count'] #-> Extract số review\n",
        "      if 'reply_users_count' in msg_ls[i].keys(): reply_users_count = msg_ls[i]['reply_users_count']\n",
        "      if 'reply_users' in msg_ls[i].keys(): reply_users = msg_ls[i]['reply_users']\n",
        "      if 'latest_reply' in msg_ls[i].keys(): latest_reply = dt.fromtimestamp(float(msg_ls[i]['latest_reply']))\n",
        "      print(ts, user, reply_users_count, reply_users, latest_reply, github)"
      ],
      "execution_count": 33,
      "outputs": [
        {
          "output_type": "stream",
          "name": "stdout",
          "text": [
            "2021-05-10 11:51:46.004700 U01UJ9LG5U5 2 ['U01USGKQ771', 'U01V00KHHHP'] 2021-05-15 16:14:31.003600 https://github.com/danhpcv/\n2021-05-10 11:35:39.003800 U01UMC08KL2 2 ['U01UTGS5ZNY', 'U01UMC08KL2'] 2021-05-18 15:09:59.000800 https://github.com/auslynnguyen/\n2021-05-08 13:31:59.005200 U01UMJ36QD9 1 ['U01UMBX2X18'] 2021-05-08 13:36:43.006000 https://github.com/auslynnguyen/\n2021-05-04 20:55:46.001800 U01UTGVPE7N 1 ['U01UMBX2X18'] 2021-05-08 13:36:43.006000 https://github.com/hoaintp/\n2021-05-04 00:41:18.002400 U01U6JQB695 2 ['U01UMC0N5U2', 'U01U6JQB695'] 2021-05-11 10:10:06.001300 https://github.com/Tenderriver/\n"
          ]
        }
      ]
    },
    {
      "cell_type": "markdown",
      "metadata": {
        "id": "SgSC21qO3kKA"
      },
      "source": [
        "### TODO#4\n",
        "* Tạo thành 1 bảng chứa các thông tin trên và update lên Spreadsheet (Sheet: Assignment#2 Submission)"
      ]
    },
    {
      "cell_type": "code",
      "execution_count": 34,
      "metadata": {},
      "outputs": [
        {
          "output_type": "execute_result",
          "data": {
            "text/plain": [
              "{'time': [datetime.datetime(2021, 5, 20, 23, 43, 26, 600),\n",
              "  datetime.datetime(2021, 5, 20, 8, 58, 2, 300),\n",
              "  datetime.datetime(2021, 5, 18, 23, 45, 9, 1300),\n",
              "  datetime.datetime(2021, 5, 18, 0, 11, 11, 2600),\n",
              "  datetime.datetime(2021, 5, 15, 17, 28, 4, 5600),\n",
              "  datetime.datetime(2021, 5, 15, 17, 27, 40, 5500),\n",
              "  datetime.datetime(2021, 5, 15, 17, 27, 20, 5400),\n",
              "  datetime.datetime(2021, 5, 15, 17, 26, 41, 5300),\n",
              "  datetime.datetime(2021, 5, 15, 16, 58, 42, 5000),\n",
              "  datetime.datetime(2021, 5, 13, 21, 9, 48, 11000),\n",
              "  datetime.datetime(2021, 5, 10, 11, 51, 46, 4700),\n",
              "  datetime.datetime(2021, 5, 10, 11, 35, 39, 3800),\n",
              "  datetime.datetime(2021, 5, 10, 10, 7, 35, 1200),\n",
              "  datetime.datetime(2021, 5, 8, 13, 43, 25, 6900),\n",
              "  datetime.datetime(2021, 5, 8, 13, 36, 43, 6000),\n",
              "  datetime.datetime(2021, 5, 8, 13, 31, 59, 5200),\n",
              "  datetime.datetime(2021, 5, 8, 9, 56, 13, 1700),\n",
              "  datetime.datetime(2021, 5, 7, 23, 29, 48, 700),\n",
              "  datetime.datetime(2021, 5, 4, 20, 55, 46, 1800),\n",
              "  datetime.datetime(2021, 5, 4, 0, 41, 18, 2400),\n",
              "  datetime.datetime(2021, 5, 3, 15, 51, 19, 1200),\n",
              "  datetime.datetime(2021, 4, 26, 13, 53, 56, 800),\n",
              "  datetime.datetime(2021, 4, 24, 9, 1, 27, 43200),\n",
              "  datetime.datetime(2021, 4, 24, 8, 44, 32, 42500),\n",
              "  datetime.datetime(2021, 4, 24, 8, 8, 57, 41400),\n",
              "  datetime.datetime(2021, 4, 24, 5, 16, 41, 38200),\n",
              "  datetime.datetime(2021, 4, 24, 2, 47, 27, 36100),\n",
              "  datetime.datetime(2021, 4, 24, 1, 56, 58, 34700),\n",
              "  datetime.datetime(2021, 4, 24, 1, 55, 40, 33300),\n",
              "  datetime.datetime(2021, 4, 23, 23, 49, 42, 30500),\n",
              "  datetime.datetime(2021, 4, 23, 23, 45, 14, 29300),\n",
              "  datetime.datetime(2021, 4, 23, 23, 41, 53, 26200),\n",
              "  datetime.datetime(2021, 4, 23, 22, 48, 6, 23900),\n",
              "  datetime.datetime(2021, 4, 23, 22, 3, 37, 23200),\n",
              "  datetime.datetime(2021, 4, 23, 21, 49, 19, 22500),\n",
              "  datetime.datetime(2021, 4, 23, 21, 18, 48, 21900),\n",
              "  datetime.datetime(2021, 4, 23, 20, 3, 6, 17800),\n",
              "  datetime.datetime(2021, 4, 23, 19, 59, 45, 16300),\n",
              "  datetime.datetime(2021, 4, 23, 19, 55, 27, 14000),\n",
              "  datetime.datetime(2021, 4, 23, 18, 44, 48, 11300)],\n",
              " 'user': ['U0226MQ73MJ',\n",
              "  'U0226MQ73MJ',\n",
              "  'U0226MQ73MJ',\n",
              "  'U0226MQ73MJ',\n",
              "  'U01BE2PR6LU',\n",
              "  'U01BE2PR6LU',\n",
              "  'U01BE2PR6LU',\n",
              "  'U01BE2PR6LU',\n",
              "  'U0226MQ73MJ',\n",
              "  'U01UTGRMGEQ',\n",
              "  'U01UJ9LG5U5',\n",
              "  'U01UMC08KL2',\n",
              "  'U01UTGRQS9J',\n",
              "  'U01BE2PR6LU',\n",
              "  'U01UMBX2X18',\n",
              "  'U01UMJ36QD9',\n",
              "  'U01UMC0N5U2',\n",
              "  'U01USGKQ771',\n",
              "  'U01UTGVPE7N',\n",
              "  'U01U6JQB695',\n",
              "  'U01V00KHHHP',\n",
              "  'U01UMBZHU2W',\n",
              "  'U01VB63LRNC',\n",
              "  'U01UTGS5ZNY',\n",
              "  'U01U6JM6LEB',\n",
              "  'U01V00P4S2V',\n",
              "  'U01UMBX2X18',\n",
              "  'U01UTGRP0HJ',\n",
              "  'U01UEJFMUSJ',\n",
              "  'U01UJ9P1S3X',\n",
              "  'U01UMJ451V1',\n",
              "  'U01UJ9M5TU5',\n",
              "  'U01UJ9NKX8D',\n",
              "  'U01UJ9MUADT',\n",
              "  'U01VB6AT4G0',\n",
              "  'U01UJ9PRT5K',\n",
              "  'U01VB632FPS',\n",
              "  'U01UTGRMGEQ',\n",
              "  'U01VB632FPS',\n",
              "  'U01UJ9LG5U5'],\n",
              " 'reply_count': [2, 2, 1, 2, 1, 2, 1, 1, 2, 1, 1, 1, 1, 1],\n",
              " 'reply_users_count': [2, 2, 1, 2, 1, 2, 1, 1, 2, 1, 1, 1, 1, 1],\n",
              " 'reply_user': [['U01USGKQ771', 'U01V00KHHHP'],\n",
              "  ['U01UTGS5ZNY', 'U01UMC08KL2'],\n",
              "  ['U01UMBX2X18'],\n",
              "  ['U01UMC0N5U2', 'U01U6JQB695'],\n",
              "  ['U01UMBZHU2W'],\n",
              "  ['U01UMJ451V1', 'U01UMBZHU2W'],\n",
              "  ['U01UMJ451V1'],\n",
              "  ['U01V00P4S2V'],\n",
              "  ['U01UMBW8G8J', 'U01UMJ451V1'],\n",
              "  ['U01UJ9MUADT'],\n",
              "  ['U01UTGVPE7N'],\n",
              "  ['U01UTGRMGEQ'],\n",
              "  ['U01UJ9PA0MB'],\n",
              "  ['U01UJ9PA0MB']],\n",
              " 'latest_reply': [datetime.datetime(2021, 5, 15, 16, 14, 31, 3600),\n",
              "  datetime.datetime(2021, 5, 18, 15, 9, 59, 800),\n",
              "  datetime.datetime(2021, 5, 8, 13, 36, 43, 6000),\n",
              "  datetime.datetime(2021, 5, 11, 10, 10, 6, 1300),\n",
              "  datetime.datetime(2021, 5, 15, 0, 51, 26, 24600),\n",
              "  datetime.datetime(2021, 5, 15, 0, 52, 35, 25100),\n",
              "  datetime.datetime(2021, 5, 11, 19, 37, 14, 3100),\n",
              "  datetime.datetime(2021, 5, 14, 18, 22, 6, 23600),\n",
              "  datetime.datetime(2021, 5, 11, 19, 39, 13, 3700),\n",
              "  datetime.datetime(2021, 5, 10, 19, 45, 15, 5800),\n",
              "  datetime.datetime(2021, 5, 15, 8, 58, 19, 1900),\n",
              "  datetime.datetime(2021, 5, 11, 21, 46, 48, 5500),\n",
              "  datetime.datetime(2021, 5, 11, 22, 58, 18, 6600),\n",
              "  datetime.datetime(2021, 5, 13, 10, 53, 49, 600)],\n",
              " 'github': ['https://github.com/danhpcv/',\n",
              "  'https://github.com/auslynnguyen/',\n",
              "  'https://github.com/hoaintp/',\n",
              "  'https://github.com/Tenderriver/',\n",
              "  'https://github.com/saturn1101/',\n",
              "  'https://github.com/AnhThuNguyenHuynh/',\n",
              "  'https://github.com/vietqh/',\n",
              "  'https://github.com/vuthanhdatt/',\n",
              "  'https://github.com/TranPham-96/',\n",
              "  'https://github.com/annaho124/',\n",
              "  'https://github.com/minhnguyentk95/',\n",
              "  'https://github.com/lienanh264/',\n",
              "  'https://github.com/Lulichlam/',\n",
              "  'https://github.com/tamle1012/',\n",
              "  'https://github.com/danhpcv/']}"
            ]
          },
          "metadata": {},
          "execution_count": 34
        }
      ],
      "source": [
        "assignment_dict = {'time': [], 'user': [], 'reply_count': [], 'reply_users_count': [], 'reply_user': [], 'latest_reply': [], 'github': []}\n",
        "not_learners_id = ['U01BE2PR6LU']\n",
        "for i in range(40):\n",
        "  ts = dt.fromtimestamp(float(msg_ls[i]['ts'])) # -> Convert timestamp Epoch thành dàng dễ đọc\n",
        "  assignment_dict['time'].append(ts)\n",
        "  assignment_dict['user'].append(msg_ls[i]['user']) # -> Lấy thông tin người post messages\n",
        "  if msg_ls[i]['user'] not in not_learners_id:\n",
        "    if 'attachments' in msg_ls[i].keys():\n",
        "      #print(msg_ls[i].keys())\n",
        "      text = msg_ls[i]['text']\n",
        "      github_link = re.findall('(?:https?://)?(?:www[.])?github[.]com/[\\w-]+/?', text) #-> Submission là các message có link github\n",
        "      #print(msg_ls[i])\n",
        "      if len(github_link) > 0: assignment_dict['github'].append(github_link[0])\n",
        "      if 'reply_count' in msg_ls[i].keys(): assignment_dict['reply_count'].append(msg_ls[i]['reply_count']) #-> Extract số review\n",
        "      if 'reply_users_count' in msg_ls[i].keys(): assignment_dict['reply_users_count'].append(msg_ls[i]['reply_users_count'])\n",
        "      if 'reply_users' in msg_ls[i].keys(): assignment_dict['reply_user'].append(msg_ls[i]['reply_users'])\n",
        "      if 'latest_reply' in msg_ls[i].keys(): assignment_dict['latest_reply'].append(dt.fromtimestamp(float(msg_ls[i]['latest_reply'])))\n",
        "assignment_dict"
      ]
    },
    {
      "cell_type": "code",
      "execution_count": 35,
      "metadata": {},
      "outputs": [
        {
          "output_type": "execute_result",
          "data": {
            "text/plain": [
              "                        time         user  reply_count  reply_users_count  \\\n",
              "0 2021-05-20 23:43:26.000600  U0226MQ73MJ          2.0                2.0   \n",
              "1 2021-05-20 08:58:02.000300  U0226MQ73MJ          2.0                2.0   \n",
              "2 2021-05-18 23:45:09.001300  U0226MQ73MJ          1.0                1.0   \n",
              "3 2021-05-18 00:11:11.002600  U0226MQ73MJ          2.0                2.0   \n",
              "4 2021-05-15 17:28:04.005600  U01BE2PR6LU          1.0                1.0   \n",
              "\n",
              "                   reply_user               latest_reply  \\\n",
              "0  [U01USGKQ771, U01V00KHHHP] 2021-05-15 16:14:31.003600   \n",
              "1  [U01UTGS5ZNY, U01UMC08KL2] 2021-05-18 15:09:59.000800   \n",
              "2               [U01UMBX2X18] 2021-05-08 13:36:43.006000   \n",
              "3  [U01UMC0N5U2, U01U6JQB695] 2021-05-11 10:10:06.001300   \n",
              "4               [U01UMBZHU2W] 2021-05-15 00:51:26.024600   \n",
              "\n",
              "                             github  \n",
              "0       https://github.com/danhpcv/  \n",
              "1  https://github.com/auslynnguyen/  \n",
              "2       https://github.com/hoaintp/  \n",
              "3   https://github.com/Tenderriver/  \n",
              "4    https://github.com/saturn1101/  "
            ],
            "text/html": "<div>\n<style scoped>\n    .dataframe tbody tr th:only-of-type {\n        vertical-align: middle;\n    }\n\n    .dataframe tbody tr th {\n        vertical-align: top;\n    }\n\n    .dataframe thead th {\n        text-align: right;\n    }\n</style>\n<table border=\"1\" class=\"dataframe\">\n  <thead>\n    <tr style=\"text-align: right;\">\n      <th></th>\n      <th>time</th>\n      <th>user</th>\n      <th>reply_count</th>\n      <th>reply_users_count</th>\n      <th>reply_user</th>\n      <th>latest_reply</th>\n      <th>github</th>\n    </tr>\n  </thead>\n  <tbody>\n    <tr>\n      <td>0</td>\n      <td>2021-05-20 23:43:26.000600</td>\n      <td>U0226MQ73MJ</td>\n      <td>2.0</td>\n      <td>2.0</td>\n      <td>[U01USGKQ771, U01V00KHHHP]</td>\n      <td>2021-05-15 16:14:31.003600</td>\n      <td>https://github.com/danhpcv/</td>\n    </tr>\n    <tr>\n      <td>1</td>\n      <td>2021-05-20 08:58:02.000300</td>\n      <td>U0226MQ73MJ</td>\n      <td>2.0</td>\n      <td>2.0</td>\n      <td>[U01UTGS5ZNY, U01UMC08KL2]</td>\n      <td>2021-05-18 15:09:59.000800</td>\n      <td>https://github.com/auslynnguyen/</td>\n    </tr>\n    <tr>\n      <td>2</td>\n      <td>2021-05-18 23:45:09.001300</td>\n      <td>U0226MQ73MJ</td>\n      <td>1.0</td>\n      <td>1.0</td>\n      <td>[U01UMBX2X18]</td>\n      <td>2021-05-08 13:36:43.006000</td>\n      <td>https://github.com/hoaintp/</td>\n    </tr>\n    <tr>\n      <td>3</td>\n      <td>2021-05-18 00:11:11.002600</td>\n      <td>U0226MQ73MJ</td>\n      <td>2.0</td>\n      <td>2.0</td>\n      <td>[U01UMC0N5U2, U01U6JQB695]</td>\n      <td>2021-05-11 10:10:06.001300</td>\n      <td>https://github.com/Tenderriver/</td>\n    </tr>\n    <tr>\n      <td>4</td>\n      <td>2021-05-15 17:28:04.005600</td>\n      <td>U01BE2PR6LU</td>\n      <td>1.0</td>\n      <td>1.0</td>\n      <td>[U01UMBZHU2W]</td>\n      <td>2021-05-15 00:51:26.024600</td>\n      <td>https://github.com/saturn1101/</td>\n    </tr>\n  </tbody>\n</table>\n</div>"
          },
          "metadata": {},
          "execution_count": 35
        }
      ],
      "source": [
        "assignment_df = pd.DataFrame(dict([ (k,pd.Series(v)) for k,v in assignment_dict.items() ]))\n",
        "assignment_df.head()"
      ]
    },
    {
      "cell_type": "code",
      "execution_count": 36,
      "metadata": {},
      "outputs": [
        {
          "output_type": "stream",
          "name": "stdout",
          "text": [
            "Done!\n"
          ]
        }
      ],
      "source": [
        "import gspread\n",
        "## Authorize bằng JSON\n",
        "scope = ['https://spreadsheets.google.com/feeds',\n",
        "         'https://www.googleapis.com/auth/drive']\n",
        "credentials = ServiceAccountCredentials.from_json_keyfile_name(\n",
        "    'my_project_1.json', scope)\n",
        "gc = gspread.authorize(credentials)\n",
        "print('Done!')"
      ]
    },
    {
      "cell_type": "code",
      "execution_count": 38,
      "metadata": {},
      "outputs": [
        {
          "output_type": "stream",
          "name": "stdout",
          "text": [
            "Done!\n"
          ]
        }
      ],
      "source": [
        "# ACCESS GOOGLE SHEET\n",
        "sheet_index_no = 1\n",
        "spreadsheet_key = '1nNlQbhJbdfJLWCYirnHdOSB6i9KNFVPZe1qNTWkgk4o' # input SPREADSHEET_KEY HERE\n",
        "sh = gc.open_by_key(spreadsheet_key)\n",
        "worksheet = sh.add_worksheet(title= 'Assignment3', rows= \"100\", cols= \"20\") #-> 0 - first sheet, 1 - second sheet etc. \n",
        "\n",
        "# APPEND DATA TO SHEET\n",
        "set_with_dataframe(worksheet, assignment_df) #-> Upload assignment_df vào Sheet 2 trong Spreadsheet\n",
        "print('Done!')"
      ]
    },
    {
      "cell_type": "markdown",
      "metadata": {
        "id": "698exK3k35RM"
      },
      "source": [
        "-------------- HẾT PHẦN OPTION 2 ---------------------"
      ]
    }
  ]
}