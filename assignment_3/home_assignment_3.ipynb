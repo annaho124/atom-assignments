{
  "nbformat": 4,
  "nbformat_minor": 0,
  "metadata": {
    "colab": {
      "name": "Slack-Data.ipynb",
      "provenance": [],
      "collapsed_sections": []
    },
    "kernelspec": {
      "name": "python374jvsc74a57bd06ad2903d9f8eb78095a8e1054d3b7d96029c25240c1559c5c7674409ebbac066",
      "display_name": "Python 3.7.4 64-bit ('base': conda)"
    },
    "language_info": {
      "name": "python",
      "version": "3.7.4"
    }
  },
  "cells": [
    {
      "cell_type": "markdown",
      "metadata": {
        "id": "4w2e0D-hni2p"
      },
      "source": [
        "# HOME ASSIGNMENT #3: SLACK API - TO GSHEET\n",
        "**Mục đích của bài Assignment**\n",
        "- Lấy thông tin các Users từ Slack của DataCracy (BTC, Mentors và Learners)\n",
        "- `**[Optional 1]**` Đưa danh sách Users lên Google Spreadsheet, để theo dõi \n",
        "- `**[Optional 2]**` Lấy thông tin Assignment Submission và số Reviews trên `#atom-assignmentnt2` và cập nhật lên Spreadsheet, để theo dõi các học viên đã nộp bài và được review\n",
        "\n",
        "**Các kiến thức sẽ áp dụng**\n",
        "- Ôn lại và luyện tập thêm về concept API (cụ thể sử dụng API Slack)\n",
        "- Trích xuất thông tin từ JSON\n",
        "- Dùng module gspread để đưa thông tin lên Google Spreadsheet"
      ]
    },
    {
      "cell_type": "markdown",
      "metadata": {
        "id": "yitICPVzpRI2"
      },
      "source": [
        "## 0. Load Modules"
      ]
    },
    {
      "cell_type": "code",
      "metadata": {
        "id": "G_HCucZ5rSHq"
      },
      "source": [
        "import requests #Để gọi API\n",
        "import re #Để xử lý data dạng string\n",
        "from datetime import datetime as dt #Để xử lý data dạng datetime\n",
        "#Để update data lên Google Spreadsheet\n",
        "from gspread_dataframe import set_with_dataframe \n",
        "#Để update data lên Google Spreadsheet\n",
        "import pandas as pd # Để update data dạng bản\n",
        "import json \n",
        "from oauth2client.service_account import ServiceAccountCredentials \n",
        "#Để nhập Google Spreadsheet Credentials\n",
        "import os"
      ],
      "execution_count": 1,
      "outputs": []
    },
    {
      "cell_type": "markdown",
      "metadata": {
        "id": "z7HOk6uMp2K2"
      },
      "source": [
        "## 1. Slack API: User List\n",
        "* Bạn có thể đọc lại về concept API [HERE](https://anhdang.gitbook.io/datacracy/atom/3-data-tools-2/3.2-spotify-api-and-postman)\n",
        "* Assignment này sẽ dùng Slack API để lấy thông tin về Learners và theo dõi các bài tập đã nộp và được review (sau đó cập nhật lên Google Spreadsheet)\n",
        "* ===> **NOTICE**: Slack API authorize bằng Bearer Token `xoxb-...-...-...` (Sẽ được cung cấp riêng)\n",
        "* Update file `env_variable.json` như trong [Assignment#2](../assignment_2/home_assignment_2.ipynb)\n",
        "* ==> Nếu bạn dùng Google Colab, upload file vào Colab ([Hướng dẫn](https://colab.research.google.com/notebooks/io.ipynb))"
      ]
    },
    {
      "cell_type": "code",
      "metadata": {
        "colab": {
          "base_uri": "https://localhost:8080/"
        },
        "id": "YoSEHfdTwYRj",
        "outputId": "02b1f5e1-6f9a-4c2b-a481-33284324d1cc"
      },
      "source": [
        "!dir"
      ],
      "execution_count": 2,
      "outputs": [
        {
          "output_type": "stream",
          "name": "stdout",
          "text": [
            " Volume in drive C is System\n Volume Serial Number is 140C-D8FD\n\n Directory of c:\\Users\\Admin\\OneDrive\\Documents\\GitHub\\atom-assignments\\assignment_3\n\n05/19/2021  11:19 PM    <DIR>          .\n05/19/2021  11:19 PM    <DIR>          ..\n05/23/2021  05:42 PM               224 env_variable.json\n05/22/2021  12:59 AM            53,590 home_assignment_3.ipynb\n05/19/2021  11:19 PM             2,326 my_project_1.json\n05/18/2021  09:59 PM               238 README.md\n               4 File(s)         56,378 bytes\n               2 Dir(s)  11,251,400,704 bytes free\n"
          ]
        }
      ]
    },
    {
      "cell_type": "code",
      "metadata": {
        "id": "tFPqT2pirhy4"
      },
      "source": [
        "with open('env_variable.json', 'r') as j:\n",
        "    json_data = json.load(j)"
      ],
      "execution_count": 9,
      "outputs": []
    },
    {
      "cell_type": "code",
      "metadata": {
        "id": "wAzmaVTLrpvH"
      },
      "source": [
        "## Load SLACK_BEARER_TOKEN\n",
        "os.environ['SLACK_BEARER_TOKEN'] = json_data['SLACK_BEARER_TOKEN'] "
      ],
      "execution_count": 10,
      "outputs": []
    },
    {
      "cell_type": "code",
      "metadata": {
        "id": "K_TrDTx138jD"
      },
      "source": [
        "## Gọi API từ Endpoints (Input - Token được đưa vào Headers)\n",
        "## Challenge: Thử gọi API này bằng Postman\n",
        "endpoint = \"https://slack.com/api/users.list\"\n",
        "headers = {\"Authorization\": \"Bearer {}\".format(os.environ['SLACK_BEARER_TOKEN'])}\n",
        "response_json = requests.post(endpoint, headers=headers).json() "
      ],
      "execution_count": 11,
      "outputs": []
    },
    {
      "cell_type": "code",
      "execution_count": 12,
      "metadata": {},
      "outputs": [],
      "source": [
        "user_dat = response_json['members']"
      ]
    },
    {
      "cell_type": "markdown",
      "metadata": {
        "id": "rqEti4Y50tdB"
      },
      "source": [
        "### TODO #1\n",
        "Hoàn tất đoạn code sau"
      ]
    },
    {
      "cell_type": "code",
      "metadata": {
        "id": "P0qbkdhtD9ww"
      },
      "source": [
        "## Loop qua JSON file và extract các thông tin quan trọng (id, name, display_name, real_name_normalized, title, phone, is_bot)\n",
        "## Hint: Bạn có thể dùng Postman hoặc in user_dat JSON để xem cấu trúc (schema), dùng Ctrl+F để tìm các keys (id, name, display_name, real_name_normalized, title, phone, is_bot)\n",
        "user_dict = {'user_id':[], 'name':[], 'display_name':[],'real_name':[],'title':[],'phone':[],'is_bot':[]}\n",
        "for i in range(len(user_dat)):\n",
        "  user_dict['user_id'].append(user_dat[i]['id'])\n",
        "  user_dict['name'].append(user_dat[i]['name'])\n",
        "  user_dict['display_name'].append(user_dat[i]['profile']['display_name'])\n",
        "  user_dict['real_name'].append(user_dat[i]['profile']['real_name_normalized'])\n",
        "  user_dict['title'].append(user_dat[i]['profile']['title'])\n",
        "  user_dict['phone'].append(user_dat[i]['profile']['phone'])\n",
        "  user_dict['is_bot'].append(user_dat[i]['is_bot'])"
      ],
      "execution_count": 13,
      "outputs": []
    },
    {
      "cell_type": "code",
      "metadata": {
        "colab": {
          "base_uri": "https://localhost:8080/",
          "height": 204
        },
        "id": "yGNvsCauF8_w",
        "outputId": "dfc4c6f7-845c-4202-8fc7-43aeb328554a"
      },
      "source": [
        "user_df = pd.DataFrame(user_dict) ## Dùng pandas để convert dictionaries thành bảng\n",
        "user_df.head(5) ## Chỉ in 5 dòng đầu (chủ yếu để xem cấu trúc)"
      ],
      "execution_count": 14,
      "outputs": [
        {
          "output_type": "execute_result",
          "data": {
            "text/plain": [
              "       user_id               name       display_name           real_name  \\\n",
              "0    USLACKBOT           slackbot           Slackbot            Slackbot   \n",
              "1  U01AT4T75JB     loclexuan26392        Loc Le Xuan         Loc Le Xuan   \n",
              "2  U01AVDY7JET           locle.ds        Loc Le Xuan         Loc Le Xuan   \n",
              "3  U01BE2PR6LU     maianhdang.ftu                MAD  Dặng Huỳnh Mai Anh   \n",
              "4  U01C48T7S1J  huyenhoang.design  Thanh Huyen Hoang   Thanh Huyen Hoang   \n",
              "\n",
              "                title phone  is_bot  \n",
              "0                             False  \n",
              "1                             False  \n",
              "2                             False  \n",
              "3  Technical Contents         False  \n",
              "4                             False  "
            ],
            "text/html": "<div>\n<style scoped>\n    .dataframe tbody tr th:only-of-type {\n        vertical-align: middle;\n    }\n\n    .dataframe tbody tr th {\n        vertical-align: top;\n    }\n\n    .dataframe thead th {\n        text-align: right;\n    }\n</style>\n<table border=\"1\" class=\"dataframe\">\n  <thead>\n    <tr style=\"text-align: right;\">\n      <th></th>\n      <th>user_id</th>\n      <th>name</th>\n      <th>display_name</th>\n      <th>real_name</th>\n      <th>title</th>\n      <th>phone</th>\n      <th>is_bot</th>\n    </tr>\n  </thead>\n  <tbody>\n    <tr>\n      <td>0</td>\n      <td>USLACKBOT</td>\n      <td>slackbot</td>\n      <td>Slackbot</td>\n      <td>Slackbot</td>\n      <td></td>\n      <td></td>\n      <td>False</td>\n    </tr>\n    <tr>\n      <td>1</td>\n      <td>U01AT4T75JB</td>\n      <td>loclexuan26392</td>\n      <td>Loc Le Xuan</td>\n      <td>Loc Le Xuan</td>\n      <td></td>\n      <td></td>\n      <td>False</td>\n    </tr>\n    <tr>\n      <td>2</td>\n      <td>U01AVDY7JET</td>\n      <td>locle.ds</td>\n      <td>Loc Le Xuan</td>\n      <td>Loc Le Xuan</td>\n      <td></td>\n      <td></td>\n      <td>False</td>\n    </tr>\n    <tr>\n      <td>3</td>\n      <td>U01BE2PR6LU</td>\n      <td>maianhdang.ftu</td>\n      <td>MAD</td>\n      <td>Dặng Huỳnh Mai Anh</td>\n      <td>Technical Contents</td>\n      <td></td>\n      <td>False</td>\n    </tr>\n    <tr>\n      <td>4</td>\n      <td>U01C48T7S1J</td>\n      <td>huyenhoang.design</td>\n      <td>Thanh Huyen Hoang</td>\n      <td>Thanh Huyen Hoang</td>\n      <td></td>\n      <td></td>\n      <td>False</td>\n    </tr>\n  </tbody>\n</table>\n</div>"
          },
          "metadata": {},
          "execution_count": 14
        }
      ]
    },
    {
      "cell_type": "code",
      "metadata": {
        "colab": {
          "base_uri": "https://localhost:8080/",
          "height": 80
        },
        "id": "rjFcaWdt2ABM",
        "outputId": "1a114985-7608-4421-aa51-1e406cc427eb"
      },
      "source": [
        "user_df[user_df.display_name == 'MAD'] ## Lọc thông tin của MAD, trên DataFrame (bạn có thể Google thêm)"
      ],
      "execution_count": 15,
      "outputs": [
        {
          "output_type": "execute_result",
          "data": {
            "text/plain": [
              "       user_id            name display_name           real_name  \\\n",
              "3  U01BE2PR6LU  maianhdang.ftu          MAD  Dặng Huỳnh Mai Anh   \n",
              "\n",
              "                title phone  is_bot  \n",
              "3  Technical Contents         False  "
            ],
            "text/html": "<div>\n<style scoped>\n    .dataframe tbody tr th:only-of-type {\n        vertical-align: middle;\n    }\n\n    .dataframe tbody tr th {\n        vertical-align: top;\n    }\n\n    .dataframe thead th {\n        text-align: right;\n    }\n</style>\n<table border=\"1\" class=\"dataframe\">\n  <thead>\n    <tr style=\"text-align: right;\">\n      <th></th>\n      <th>user_id</th>\n      <th>name</th>\n      <th>display_name</th>\n      <th>real_name</th>\n      <th>title</th>\n      <th>phone</th>\n      <th>is_bot</th>\n    </tr>\n  </thead>\n  <tbody>\n    <tr>\n      <td>3</td>\n      <td>U01BE2PR6LU</td>\n      <td>maianhdang.ftu</td>\n      <td>MAD</td>\n      <td>Dặng Huỳnh Mai Anh</td>\n      <td>Technical Contents</td>\n      <td></td>\n      <td>False</td>\n    </tr>\n  </tbody>\n</table>\n</div>"
          },
          "metadata": {},
          "execution_count": 15
        }
      ]
    },
    {
      "cell_type": "markdown",
      "metadata": {
        "id": "1TZrcaWZyE07"
      },
      "source": [
        "-------------- HẾT PHẦN BẮT BUỘC ---------------------"
      ]
    },
    {
      "cell_type": "markdown",
      "metadata": {
        "id": "P3_b7zw-1A6s"
      },
      "source": [
        "## Option 1: Update data => Google SpreadSheet"
      ]
    },
    {
      "cell_type": "markdown",
      "metadata": {
        "id": "UPuXhw3WtmWw"
      },
      "source": [
        "### TODO#2\n",
        "Tạo service account (output là file json), file này để cho phép ta access vào Google Spreadsheet:\n",
        "\n",
        "1. Làm theo hướng dẫn: [Google Create a Service Account](https://support.google.com/a/answer/7378726?hl=en)\n",
        "![google_service_account](../img/google_service_account.png)\n",
        "2. Lưu file JSON (chứa credential về máy)\n",
        "![gservice_acc_json](../img/gservice_acc_json.png)\n",
        "3. Nhớ Enable [Google Drive API](https://console.cloud.google.com/marketplace/product/google/drive.googleapis.com?q=search&referrer=search&project=quickstart-313303) (Nếu bạn chạy code báo lỗi chưa enable API thì vào link trong phần lỗi để Enable, sau khi kích hoạt có thể cần vài phút để chạy được)\n",
        "![enable_api](../img/enable_api.png)\n",
        "* ==> Upload file Gsheet Credential JSON nếu bạn dùng Colab \n",
        "* ==> Nếu bạn để key trong repo git, **NHỚ** để file json vào `.gitignore` để không bị leaked key)\n"
      ]
    },
    {
      "cell_type": "code",
      "metadata": {
        "colab": {
          "base_uri": "https://localhost:8080/"
        },
        "id": "XhrcVjXWwldS",
        "outputId": "63133330-f68b-4adf-96a1-6d2c0e08dc70"
      },
      "source": [
        "!dir"
      ],
      "execution_count": 2,
      "outputs": [
        {
          "output_type": "stream",
          "name": "stdout",
          "text": [
            " Volume in drive C is System\n Volume Serial Number is 140C-D8FD\n\n Directory of c:\\Users\\Admin\\OneDrive\\Documents\\GitHub\\atom-assignments\\assignment_3\n\n05/24/2021  12:20 AM    <DIR>          .\n05/24/2021  12:20 AM    <DIR>          ..\n05/23/2021  05:42 PM               224 env_variable.json\n05/23/2021  05:52 PM            42,141 home_assignment_3.ipynb\n05/19/2021  11:19 PM             2,326 my_project_1.json\n05/24/2021  12:20 AM               904 README.md\n               4 File(s)         45,595 bytes\n               2 Dir(s)  10,566,205,440 bytes free\n"
          ]
        }
      ]
    },
    {
      "cell_type": "code",
      "metadata": {
        "colab": {
          "base_uri": "https://localhost:8080/"
        },
        "id": "4NEQFu-DNvFC",
        "outputId": "a855fe34-b409-4152-a218-67bfa240396f"
      },
      "source": [
        "import gspread\n",
        "## Authorize bằng JSON\n",
        "scope = ['https://spreadsheets.google.com/feeds',\n",
        "         'https://www.googleapis.com/auth/drive']\n",
        "credentials = ServiceAccountCredentials.from_json_keyfile_name(\n",
        "    'my_project_1.json', scope)\n",
        "gc = gspread.authorize(credentials)\n",
        "print(\"DONE!\")"
      ],
      "execution_count": 16,
      "outputs": [
        {
          "output_type": "stream",
          "name": "stdout",
          "text": [
            "DONE!\n"
          ]
        }
      ]
    },
    {
      "cell_type": "markdown",
      "metadata": {
        "id": "HELBp0Sdxhzc"
      },
      "source": [
        "**Tạo Spreadsheet**\n",
        "\n",
        "1. Tạo Spreadsheet trên google\n",
        "2. Invite account trong `client_email` (file JSON Gsheet Credential bên trên) vào Spreadsheet (quyền Editor)\n",
        "![enable_api](../img/enable_api.png)\n",
        "3. Lấy `SPREADSHEET_KEY` (nằm trong chính URL của Spreadhstee): `https://docs.google.com/spreadsheets/d/<SPREADSHEET_KEY>/edit#gid=0`\n",
        "\n",
        "![add_gsheet](../img/add_gsheet.png)"
      ]
    },
    {
      "cell_type": "code",
      "metadata": {
        "id": "XlZ8JNB3bZbw"
      },
      "source": [
        "# ACCESS GOOGLE SHEET\n",
        "sheet_index_no = 0\n",
        "spreadsheet_key = '1nNlQbhJbdfJLWCYirnHdOSB6i9KNFVPZe1qNTWkgk4o' # input SPREADSHEET_KEY HERE\n",
        "sh = gc.open_by_key(spreadsheet_key)\n",
        "worksheet = sh.get_worksheet(sheet_index_no) #-> 0 - first sheet, 1 - second sheet etc. \n",
        "\n",
        "# APPEND DATA TO SHEET\n",
        "set_with_dataframe(worksheet, user_df) #-> Upload user_df vào Sheet đầu tiên trong Spreadsheet\n",
        "\n",
        "# DONE: Bây giờ bạn có thể mở spreadsheet và kiểm tra nội dung đã update chứ"
      ],
      "execution_count": 17,
      "outputs": []
    },
    {
      "source": [
        "![slack_user_gsheet](../img/slack_user_gsheet.png)"
      ],
      "cell_type": "markdown",
      "metadata": {}
    },
    {
      "cell_type": "markdown",
      "metadata": {
        "id": "5I15m3ilyA3Y"
      },
      "source": [
        "-------------- HẾT PHẦN OPTION 1 ---------------------"
      ]
    },
    {
      "cell_type": "markdown",
      "metadata": {
        "id": "9aRN9KSczkmr"
      },
      "source": [
        "## Option 2: Ai đã nộp bài?\n"
      ]
    },
    {
      "cell_type": "markdown",
      "metadata": {
        "id": "Pw81ioUz2N0v"
      },
      "source": [
        "### Slack API: Channel List"
      ]
    },
    {
      "cell_type": "code",
      "metadata": {
        "id": "fcdaDaGdz60p"
      },
      "source": [
        "## Gọi SLACK API để list tất cả các channel\n",
        "endpoint = \"https://slack.com/api/conversations.list\"\n",
        "headers = {\"Authorization\": \"Bearer {}\".format(os.environ['SLACK_BEARER_TOKEN'])}\n",
        "response = requests.post(endpoint, headers=headers).json() \n",
        "channel_ls = response['channels']"
      ],
      "execution_count": 18,
      "outputs": []
    },
    {
      "cell_type": "code",
      "metadata": {
        "colab": {
          "base_uri": "https://localhost:8080/"
        },
        "id": "47dUJAPi0Jg5",
        "outputId": "2762f1e8-ff65-4994-c3e5-1ab0f5dc9205"
      },
      "source": [
        "channel_ls[0] ## Thử extract record đầu tiên để xem schema  => name: general, id: C01B4PVGLVB"
      ],
      "execution_count": 19,
      "outputs": [
        {
          "output_type": "execute_result",
          "data": {
            "text/plain": [
              "{'id': 'C01B4PVGLVB',\n",
              " 'name': 'general',\n",
              " 'is_channel': True,\n",
              " 'is_group': False,\n",
              " 'is_im': False,\n",
              " 'created': 1600856703,\n",
              " 'is_archived': False,\n",
              " 'is_general': True,\n",
              " 'unlinked': 0,\n",
              " 'name_normalized': 'general',\n",
              " 'is_shared': False,\n",
              " 'parent_conversation': None,\n",
              " 'creator': 'U01BE2PR6LU',\n",
              " 'is_ext_shared': False,\n",
              " 'is_org_shared': False,\n",
              " 'shared_team_ids': ['T01B7SGGMLJ'],\n",
              " 'pending_shared': [],\n",
              " 'pending_connected_team_ids': [],\n",
              " 'is_pending_ext_shared': False,\n",
              " 'is_member': True,\n",
              " 'is_private': False,\n",
              " 'is_mpim': False,\n",
              " 'topic': {'value': '', 'creator': '', 'last_set': 0},\n",
              " 'purpose': {'value': 'This is the one channel that will always include everyone. It’s a great spot for announcements and team-wide conversations.',\n",
              "  'creator': 'U01BE2PR6LU',\n",
              "  'last_set': 1600856703},\n",
              " 'previous_names': [],\n",
              " 'num_members': 65}"
            ]
          },
          "metadata": {},
          "execution_count": 19
        }
      ]
    },
    {
      "cell_type": "markdown",
      "metadata": {
        "id": "CNFTcFC00l8g"
      },
      "source": [
        "### TODO#3 \n",
        "* Tìm id của channel #atom-assignment2"
      ]
    },
    {
      "cell_type": "code",
      "execution_count": 20,
      "metadata": {},
      "outputs": [
        {
          "output_type": "stream",
          "name": "stdout",
          "text": [
            "C021FSDN7LJ\n"
          ]
        }
      ],
      "source": [
        "for i in range(len(channel_ls)): #Tìm trong các phần tử của channel_ls\n",
        "    if channel_ls[i]['name'] == 'atom-assignment2': #phần tử nào có name là atom-assignment2\n",
        "        print(channel_ls[i]['id'])"
      ]
    },
    {
      "cell_type": "markdown",
      "metadata": {
        "id": "EnCvdYAn2R47"
      },
      "source": [
        "### Slack API: List messages trong 1 channel"
      ]
    },
    {
      "cell_type": "code",
      "metadata": {
        "id": "1UsSESN8rtnk"
      },
      "source": [
        "endpoint = \"https://slack.com/api/conversations.history\"\n",
        "data = {\"channel\": \"C01U6P7LZ8F\"} ## This is ID of assignment#1 channel\n",
        "headers = {\"Authorization\": \"Bearer {}\".format(os.environ['SLACK_BEARER_TOKEN'])}"
      ],
      "execution_count": 21,
      "outputs": []
    },
    {
      "cell_type": "code",
      "metadata": {
        "id": "i8eJw3LBr4lY"
      },
      "source": [
        "response_json = requests.post(endpoint, data=data, headers=headers).json()\n",
        "msg_ls = response_json['messages']"
      ],
      "execution_count": 22,
      "outputs": []
    },
    {
      "cell_type": "code",
      "metadata": {
        "colab": {
          "base_uri": "https://localhost:8080/"
        },
        "id": "KkYO1KcBtZa9",
        "outputId": "7a76397b-202b-445e-aa26-f4b30cfc9a53"
      },
      "source": [
        "msg_ls[21]"
      ],
      "execution_count": 23,
      "outputs": [
        {
          "output_type": "execute_result",
          "data": {
            "text/plain": [
              "{'client_msg_id': '4abf215d-ff30-44c0-9384-9da735a374c1',\n",
              " 'type': 'message',\n",
              " 'text': 'Chắc em chốt sổ gửi assignment 1 ạ :))\\nBài 1: <https://drive.google.com/file/d/1ng9wV6LFTv5lDyJSBv2nYaOlfTKvL9s0/view?usp=sharing>\\nBài 2: <https://colab.research.google.com/drive/1rY0pc1FFzSRpjbWv7DTE8WmhqlD6pKzO?usp=sharing>\\nBài 3: <https://github.com/TrangNgo1709/datacracy-atom-Ngo-Thi-Minh-Trang>',\n",
              " 'user': 'U01USGKQ771',\n",
              " 'ts': '1620404988.000700',\n",
              " 'team': 'T01B7SGGMLJ',\n",
              " 'edited': {'user': 'U01USGKQ771', 'ts': '1620405397.000000'},\n",
              " 'blocks': [{'type': 'rich_text',\n",
              "   'block_id': 'Cw0U8',\n",
              "   'elements': [{'type': 'rich_text_section',\n",
              "     'elements': [{'type': 'text',\n",
              "       'text': 'Chắc em chốt sổ gửi assignment 1 ạ :))\\nBài 1: '},\n",
              "      {'type': 'link',\n",
              "       'url': 'https://drive.google.com/file/d/1ng9wV6LFTv5lDyJSBv2nYaOlfTKvL9s0/view?usp=sharing'},\n",
              "      {'type': 'text', 'text': '\\nBài 2: '},\n",
              "      {'type': 'link',\n",
              "       'url': 'https://colab.research.google.com/drive/1rY0pc1FFzSRpjbWv7DTE8WmhqlD6pKzO?usp=sharing'},\n",
              "      {'type': 'text', 'text': '\\nBài 3: '},\n",
              "      {'type': 'link',\n",
              "       'url': 'https://github.com/TrangNgo1709/datacracy-atom-Ngo-Thi-Minh-Trang'}]}]}],\n",
              " 'thread_ts': '1620404988.000700',\n",
              " 'reply_count': 1,\n",
              " 'reply_users_count': 1,\n",
              " 'latest_reply': '1620701520.000200',\n",
              " 'reply_users': ['U01UMC0N5U2'],\n",
              " 'is_locked': False,\n",
              " 'subscribed': False,\n",
              " 'reactions': [{'name': '+1', 'users': ['U01VB632FPS'], 'count': 1},\n",
              "  {'name': 'white_check_mark', 'users': ['U01UMC0N5U2'], 'count': 1}]}"
            ]
          },
          "metadata": {},
          "execution_count": 23
        }
      ]
    },
    {
      "cell_type": "code",
      "metadata": {
        "id": "BsW8CXAXv-tC"
      },
      "source": [
        "not_learners_id = ['U01BE2PR6LU']"
      ],
      "execution_count": 24,
      "outputs": []
    },
    {
      "cell_type": "code",
      "metadata": {
        "colab": {
          "base_uri": "https://localhost:8080/"
        },
        "id": "XOvJ5kGCsmAD",
        "outputId": "79567aaf-62bd-4091-deca-6e13c1c80e79"
      },
      "source": [
        "## Summarize all submitted assignments + reviews cnt\n",
        "not_learners_id = ['U01BE2PR6LU'] # -> Remove MA from the user_id\n",
        "github, reply_count, reply_users_count, reply_users, latest_reply = '','','','',''\n",
        "for i in range(20):\n",
        "  ts = dt.fromtimestamp(float(msg_ls[i]['ts'])) # -> Convert timestamp Epoch thành dàng dễ đọc\n",
        "  user = msg_ls[i]['user'] # -> Lấy thông tin người post messages\n",
        "  if msg_ls[i]['user'] not in not_learners_id:\n",
        "    if 'attachments' in msg_ls[i].keys():\n",
        "      #print(msg_ls[i].keys())\n",
        "      text = msg_ls[i]['text']\n",
        "      github_link = re.findall('(?:https?://)?(?:www[.])?github[.]com/[\\w-]+/?', text) #-> Submission là các message có link github\n",
        "      #print(msg_ls[i])\n",
        "      if len(github_link) > 0: github = github_link[0]\n",
        "      if 'reply_count' in msg_ls[i].keys(): reply_count = msg_ls[i]['reply_count'] #-> Extract số review\n",
        "      if 'reply_users_count' in msg_ls[i].keys(): reply_users_count = msg_ls[i]['reply_users_count']\n",
        "      if 'reply_users' in msg_ls[i].keys(): reply_users = msg_ls[i]['reply_users']\n",
        "      if 'latest_reply' in msg_ls[i].keys(): latest_reply = dt.fromtimestamp(float(msg_ls[i]['latest_reply']))\n",
        "      print(ts, user, reply_users_count, reply_users, latest_reply, github)"
      ],
      "execution_count": 33,
      "outputs": [
        {
          "output_type": "stream",
          "name": "stdout",
          "text": [
            "2021-05-10 11:51:46.004700 U01UJ9LG5U5 2 ['U01USGKQ771', 'U01V00KHHHP'] 2021-05-15 16:14:31.003600 https://github.com/danhpcv/\n2021-05-10 11:35:39.003800 U01UMC08KL2 2 ['U01UTGS5ZNY', 'U01UMC08KL2'] 2021-05-18 15:09:59.000800 https://github.com/auslynnguyen/\n2021-05-08 13:31:59.005200 U01UMJ36QD9 1 ['U01UMBX2X18'] 2021-05-08 13:36:43.006000 https://github.com/auslynnguyen/\n2021-05-04 20:55:46.001800 U01UTGVPE7N 1 ['U01UMBX2X18'] 2021-05-08 13:36:43.006000 https://github.com/hoaintp/\n2021-05-04 00:41:18.002400 U01U6JQB695 2 ['U01UMC0N5U2', 'U01U6JQB695'] 2021-05-11 10:10:06.001300 https://github.com/Tenderriver/\n"
          ]
        }
      ]
    },
    {
      "cell_type": "markdown",
      "metadata": {
        "id": "SgSC21qO3kKA"
      },
      "source": [
        "### TODO#4\n",
        "* Tạo thành 1 bảng chứa các thông tin trên và update lên Spreadsheet (Sheet: Assignment#2 Submission)"
      ]
    },
    {
      "cell_type": "code",
      "execution_count": 25,
      "metadata": {},
      "outputs": [
        {
          "output_type": "execute_result",
          "data": {
            "text/plain": [
              "{'time': [datetime.datetime(2021, 5, 24, 18, 46, 33, 4500),\n",
              "  datetime.datetime(2021, 5, 23, 14, 55, 8, 4100),\n",
              "  datetime.datetime(2021, 5, 22, 9, 4, 13, 2000),\n",
              "  datetime.datetime(2021, 5, 21, 11, 57, 44, 900),\n",
              "  datetime.datetime(2021, 5, 20, 23, 43, 26, 600),\n",
              "  datetime.datetime(2021, 5, 20, 8, 58, 2, 300),\n",
              "  datetime.datetime(2021, 5, 18, 23, 45, 9, 1300),\n",
              "  datetime.datetime(2021, 5, 18, 0, 11, 11, 2600),\n",
              "  datetime.datetime(2021, 5, 15, 17, 28, 4, 5600),\n",
              "  datetime.datetime(2021, 5, 15, 17, 27, 40, 5500),\n",
              "  datetime.datetime(2021, 5, 15, 17, 27, 20, 5400),\n",
              "  datetime.datetime(2021, 5, 15, 17, 26, 41, 5300),\n",
              "  datetime.datetime(2021, 5, 15, 16, 58, 42, 5000),\n",
              "  datetime.datetime(2021, 5, 13, 21, 9, 48, 11000),\n",
              "  datetime.datetime(2021, 5, 10, 11, 51, 46, 4700),\n",
              "  datetime.datetime(2021, 5, 10, 11, 35, 39, 3800),\n",
              "  datetime.datetime(2021, 5, 10, 10, 7, 35, 1200),\n",
              "  datetime.datetime(2021, 5, 8, 13, 43, 25, 6900),\n",
              "  datetime.datetime(2021, 5, 8, 13, 36, 43, 6000),\n",
              "  datetime.datetime(2021, 5, 8, 13, 31, 59, 5200),\n",
              "  datetime.datetime(2021, 5, 8, 9, 56, 13, 1700),\n",
              "  datetime.datetime(2021, 5, 7, 23, 29, 48, 700),\n",
              "  datetime.datetime(2021, 5, 4, 20, 55, 46, 1800),\n",
              "  datetime.datetime(2021, 5, 4, 0, 41, 18, 2400),\n",
              "  datetime.datetime(2021, 5, 3, 15, 51, 19, 1200),\n",
              "  datetime.datetime(2021, 4, 26, 13, 53, 56, 800),\n",
              "  datetime.datetime(2021, 4, 24, 9, 1, 27, 43200),\n",
              "  datetime.datetime(2021, 4, 24, 8, 44, 32, 42500),\n",
              "  datetime.datetime(2021, 4, 24, 8, 8, 57, 41400),\n",
              "  datetime.datetime(2021, 4, 24, 5, 16, 41, 38200),\n",
              "  datetime.datetime(2021, 4, 24, 2, 47, 27, 36100),\n",
              "  datetime.datetime(2021, 4, 24, 1, 56, 58, 34700),\n",
              "  datetime.datetime(2021, 4, 24, 1, 55, 40, 33300),\n",
              "  datetime.datetime(2021, 4, 23, 23, 49, 42, 30500),\n",
              "  datetime.datetime(2021, 4, 23, 23, 45, 14, 29300),\n",
              "  datetime.datetime(2021, 4, 23, 23, 41, 53, 26200),\n",
              "  datetime.datetime(2021, 4, 23, 22, 48, 6, 23900),\n",
              "  datetime.datetime(2021, 4, 23, 22, 3, 37, 23200),\n",
              "  datetime.datetime(2021, 4, 23, 21, 49, 19, 22500),\n",
              "  datetime.datetime(2021, 4, 23, 21, 18, 48, 21900),\n",
              "  datetime.datetime(2021, 4, 23, 20, 3, 6, 17800),\n",
              "  datetime.datetime(2021, 4, 23, 19, 59, 45, 16300),\n",
              "  datetime.datetime(2021, 4, 23, 19, 55, 27, 14000),\n",
              "  datetime.datetime(2021, 4, 23, 18, 44, 48, 11300),\n",
              "  datetime.datetime(2021, 4, 23, 16, 39, 19, 9400),\n",
              "  datetime.datetime(2021, 4, 23, 16, 23, 49, 8700),\n",
              "  datetime.datetime(2021, 4, 23, 16, 20, 59, 8300),\n",
              "  datetime.datetime(2021, 4, 23, 14, 38, 25, 4100),\n",
              "  datetime.datetime(2021, 4, 23, 8, 47, 56, 1500),\n",
              "  datetime.datetime(2021, 4, 23, 1, 38, 16, 10700),\n",
              "  datetime.datetime(2021, 4, 23, 0, 14, 28, 6700),\n",
              "  datetime.datetime(2021, 4, 22, 23, 56, 23, 5200),\n",
              "  datetime.datetime(2021, 4, 22, 23, 50, 7, 3300),\n",
              "  datetime.datetime(2021, 4, 21, 17, 57, 6, 2400),\n",
              "  datetime.datetime(2021, 4, 21, 16, 46, 32, 2200),\n",
              "  datetime.datetime(2021, 4, 21, 15, 51, 31, 1800),\n",
              "  datetime.datetime(2021, 4, 21, 13, 0, 34, 800),\n",
              "  datetime.datetime(2021, 4, 20, 15, 7, 37, 400),\n",
              "  datetime.datetime(2021, 4, 20, 10, 23, 20, 200),\n",
              "  datetime.datetime(2021, 4, 19, 21, 50, 2, 700),\n",
              "  datetime.datetime(2021, 4, 19, 21, 2, 11, 500),\n",
              "  datetime.datetime(2021, 4, 19, 12, 46, 42, 300),\n",
              "  datetime.datetime(2021, 4, 18, 10, 48, 17, 200),\n",
              "  datetime.datetime(2021, 4, 17, 23, 45, 20, 1600),\n",
              "  datetime.datetime(2021, 4, 17, 22, 9, 38, 1400),\n",
              "  datetime.datetime(2021, 4, 17, 21, 30, 28, 1200),\n",
              "  datetime.datetime(2021, 4, 17, 20, 54, 18, 1000),\n",
              "  datetime.datetime(2021, 4, 17, 16, 59, 1, 800),\n",
              "  datetime.datetime(2021, 4, 17, 16, 57, 2, 600),\n",
              "  datetime.datetime(2021, 4, 17, 16, 49, 11, 400),\n",
              "  datetime.datetime(2021, 4, 17, 16, 34, 5, 200),\n",
              "  datetime.datetime(2021, 4, 17, 15, 47, 52, 200),\n",
              "  datetime.datetime(2021, 4, 17, 14, 32, 37, 1800),\n",
              "  datetime.datetime(2021, 4, 17, 14, 24, 10, 900),\n",
              "  datetime.datetime(2021, 4, 17, 14, 0, 5, 200)],\n",
              " 'user': ['U0226MQ73MJ',\n",
              "  'U0226MQ73MJ',\n",
              "  'U0226MQ73MJ',\n",
              "  'U0226MQ73MJ',\n",
              "  'U0226MQ73MJ',\n",
              "  'U0226MQ73MJ',\n",
              "  'U0226MQ73MJ',\n",
              "  'U0226MQ73MJ',\n",
              "  'U01BE2PR6LU',\n",
              "  'U01BE2PR6LU',\n",
              "  'U01BE2PR6LU',\n",
              "  'U01BE2PR6LU',\n",
              "  'U0226MQ73MJ',\n",
              "  'U01UTGRMGEQ',\n",
              "  'U01UJ9LG5U5',\n",
              "  'U01UMC08KL2',\n",
              "  'U01UTGRQS9J',\n",
              "  'U01BE2PR6LU',\n",
              "  'U01UMBX2X18',\n",
              "  'U01UMJ36QD9',\n",
              "  'U01UMC0N5U2',\n",
              "  'U01USGKQ771',\n",
              "  'U01UTGVPE7N',\n",
              "  'U01U6JQB695',\n",
              "  'U01V00KHHHP',\n",
              "  'U01UMBZHU2W',\n",
              "  'U01VB63LRNC',\n",
              "  'U01UTGS5ZNY',\n",
              "  'U01U6JM6LEB',\n",
              "  'U01V00P4S2V',\n",
              "  'U01UMBX2X18',\n",
              "  'U01UTGRP0HJ',\n",
              "  'U01UEJFMUSJ',\n",
              "  'U01UJ9P1S3X',\n",
              "  'U01UMJ451V1',\n",
              "  'U01UJ9M5TU5',\n",
              "  'U01UJ9NKX8D',\n",
              "  'U01UJ9MUADT',\n",
              "  'U01VB6AT4G0',\n",
              "  'U01UJ9PRT5K',\n",
              "  'U01VB632FPS',\n",
              "  'U01UTGRMGEQ',\n",
              "  'U01VB632FPS',\n",
              "  'U01UJ9LG5U5',\n",
              "  'U01UMC0N5U2',\n",
              "  'U01UTGT8CVA',\n",
              "  'U01UMBW8G8J',\n",
              "  'U01UJ9M3P1T',\n",
              "  'U01UJ9PA0MB',\n",
              "  'U01V00JK9LH',\n",
              "  'U01UEJG8KHU',\n",
              "  'U01UMJ36QD9',\n",
              "  'U01V082PLN5',\n",
              "  'U01UJ9PA0MB',\n",
              "  'U01UJ9NKX8D',\n",
              "  'U01UEJFMUSJ',\n",
              "  'U01UMJ5AQ0K',\n",
              "  'U01UMC0N5U2',\n",
              "  'U01UJ9M3P1T',\n",
              "  'U01V00KHHHP',\n",
              "  'U01UMBW8G8J',\n",
              "  'U01UJ9M5TU5',\n",
              "  'U01UJ9P1S3X',\n",
              "  'U01U6JQB695',\n",
              "  'U01UMJ5AQ0K',\n",
              "  'U01V00LQ7EV',\n",
              "  'U01UJ9MUADT',\n",
              "  'U01V082PLN5',\n",
              "  'U01V00JK9LH',\n",
              "  'U01VB63LRNC',\n",
              "  'U01UTQ4AVRS',\n",
              "  'U01UJ9PRT5K',\n",
              "  'U01UJ9LG5U5',\n",
              "  'U01BE2PR6LU',\n",
              "  'U01BE2PR6LU'],\n",
              " 'reply_count': [2, 2, 1, 2, 1, 2, 1, 1, 3, 1, 1, 1, 1, 1, 2, 1, 2, 6, 2],\n",
              " 'reply_users_count': [2,\n",
              "  2,\n",
              "  1,\n",
              "  2,\n",
              "  1,\n",
              "  2,\n",
              "  1,\n",
              "  1,\n",
              "  3,\n",
              "  1,\n",
              "  1,\n",
              "  1,\n",
              "  1,\n",
              "  1,\n",
              "  2,\n",
              "  1,\n",
              "  2,\n",
              "  3,\n",
              "  2],\n",
              " 'reply_user': [['U01USGKQ771', 'U01V00KHHHP'],\n",
              "  ['U01UTGS5ZNY', 'U01UMC08KL2'],\n",
              "  ['U01UMBX2X18'],\n",
              "  ['U01UMC0N5U2', 'U01U6JQB695'],\n",
              "  ['U01UMBZHU2W'],\n",
              "  ['U01UMJ451V1', 'U01UMBZHU2W'],\n",
              "  ['U01UMJ451V1'],\n",
              "  ['U01V00P4S2V'],\n",
              "  ['U01UMBW8G8J', 'U01UMJ451V1', 'U01V082PLN5'],\n",
              "  ['U01UJ9MUADT'],\n",
              "  ['U01UTGVPE7N'],\n",
              "  ['U01UTGRMGEQ'],\n",
              "  ['U01UJ9PA0MB'],\n",
              "  ['U01UJ9PA0MB'],\n",
              "  ['U01UMBW8G8J', 'U01UTGT8CVA'],\n",
              "  ['U01UJ9MUADT'],\n",
              "  ['U01VB632FPS', 'U01UJ9PA0MB'],\n",
              "  ['U01V00JK9LH', 'U01UMJ5AQ0K', 'U01V082PLN5'],\n",
              "  ['U01V00JK9LH', 'U01UJ9PRT5K']],\n",
              " 'latest_reply': [datetime.datetime(2021, 5, 15, 16, 14, 31, 3600),\n",
              "  datetime.datetime(2021, 5, 18, 15, 9, 59, 800),\n",
              "  datetime.datetime(2021, 5, 8, 13, 36, 43, 6000),\n",
              "  datetime.datetime(2021, 5, 11, 10, 10, 6, 1300),\n",
              "  datetime.datetime(2021, 5, 15, 0, 51, 26, 24600),\n",
              "  datetime.datetime(2021, 5, 15, 0, 52, 35, 25100),\n",
              "  datetime.datetime(2021, 5, 11, 19, 37, 14, 3100),\n",
              "  datetime.datetime(2021, 5, 14, 18, 22, 6, 23600),\n",
              "  datetime.datetime(2021, 5, 22, 12, 49, 27, 2400),\n",
              "  datetime.datetime(2021, 5, 10, 19, 45, 15, 5800),\n",
              "  datetime.datetime(2021, 5, 15, 8, 58, 19, 1900),\n",
              "  datetime.datetime(2021, 5, 11, 21, 46, 48, 5500),\n",
              "  datetime.datetime(2021, 5, 11, 22, 58, 18, 6600),\n",
              "  datetime.datetime(2021, 5, 13, 10, 53, 49, 600),\n",
              "  datetime.datetime(2021, 5, 14, 22, 25, 2, 23900),\n",
              "  datetime.datetime(2021, 5, 10, 20, 58, 47, 6300),\n",
              "  datetime.datetime(2021, 5, 13, 12, 16, 10, 1100),\n",
              "  datetime.datetime(2021, 5, 22, 14, 21, 26, 3600),\n",
              "  datetime.datetime(2021, 5, 16, 8, 46, 3, 800)],\n",
              " 'github': ['https://github.com/danhpcv/',\n",
              "  'https://github.com/auslynnguyen/',\n",
              "  'https://github.com/hoaintp/',\n",
              "  'https://github.com/Tenderriver/',\n",
              "  'https://github.com/saturn1101/',\n",
              "  'https://github.com/AnhThuNguyenHuynh/',\n",
              "  'https://github.com/vietqh/',\n",
              "  'https://github.com/vuthanhdatt/',\n",
              "  'https://github.com/TranPham-96/',\n",
              "  'https://github.com/annaho124/',\n",
              "  'https://github.com/minhnguyentk95/',\n",
              "  'https://github.com/lienanh264/',\n",
              "  'https://github.com/Lulichlam/',\n",
              "  'https://github.com/tamle1012/',\n",
              "  'https://github.com/danhpcv/',\n",
              "  'https://github.com/ngttnguyen/',\n",
              "  'https://github.com/cnhhoang850/',\n",
              "  'https://github.com/interphuoc/',\n",
              "  'https://github.com/duongphannamhung/']}"
            ]
          },
          "metadata": {},
          "execution_count": 25
        }
      ],
      "source": [
        "assignment_dict = {'time': [], 'user': [], 'reply_count': [], 'reply_users_count': [], 'reply_user': [], 'latest_reply': [], 'github': []}\n",
        "not_learners_id = ['U01BE2PR6LU']\n",
        "for i in range(len(msg_ls)):\n",
        "  ts = dt.fromtimestamp(float(msg_ls[i]['ts'])) # -> Convert timestamp Epoch thành dàng dễ đọc\n",
        "  assignment_dict['time'].append(ts)\n",
        "  assignment_dict['user'].append(msg_ls[i]['user']) # -> Lấy thông tin người post messages\n",
        "  if msg_ls[i]['user'] not in not_learners_id:\n",
        "    if 'attachments' in msg_ls[i].keys():\n",
        "      #print(msg_ls[i].keys())\n",
        "      text = msg_ls[i]['text']\n",
        "      github_link = re.findall('(?:https?://)?(?:www[.])?github[.]com/[\\w-]+/?', text) #-> Submission là các message có link github\n",
        "      #print(msg_ls[i])\n",
        "      if len(github_link) > 0: assignment_dict['github'].append(github_link[0])\n",
        "      if 'reply_count' in msg_ls[i].keys(): assignment_dict['reply_count'].append(msg_ls[i]['reply_count']) #-> Extract số review\n",
        "      if 'reply_users_count' in msg_ls[i].keys(): assignment_dict['reply_users_count'].append(msg_ls[i]['reply_users_count'])\n",
        "      if 'reply_users' in msg_ls[i].keys(): assignment_dict['reply_user'].append(msg_ls[i]['reply_users'])\n",
        "      if 'latest_reply' in msg_ls[i].keys(): assignment_dict['latest_reply'].append(dt.fromtimestamp(float(msg_ls[i]['latest_reply'])))\n",
        "assignment_dict"
      ]
    },
    {
      "cell_type": "code",
      "execution_count": 26,
      "metadata": {},
      "outputs": [
        {
          "output_type": "execute_result",
          "data": {
            "text/plain": [
              "                        time         user  reply_count  reply_users_count  \\\n",
              "0 2021-05-24 18:46:33.004500  U0226MQ73MJ          2.0                2.0   \n",
              "1 2021-05-23 14:55:08.004100  U0226MQ73MJ          2.0                2.0   \n",
              "2 2021-05-22 09:04:13.002000  U0226MQ73MJ          1.0                1.0   \n",
              "3 2021-05-21 11:57:44.000900  U0226MQ73MJ          2.0                2.0   \n",
              "4 2021-05-20 23:43:26.000600  U0226MQ73MJ          1.0                1.0   \n",
              "\n",
              "                   reply_user               latest_reply  \\\n",
              "0  [U01USGKQ771, U01V00KHHHP] 2021-05-15 16:14:31.003600   \n",
              "1  [U01UTGS5ZNY, U01UMC08KL2] 2021-05-18 15:09:59.000800   \n",
              "2               [U01UMBX2X18] 2021-05-08 13:36:43.006000   \n",
              "3  [U01UMC0N5U2, U01U6JQB695] 2021-05-11 10:10:06.001300   \n",
              "4               [U01UMBZHU2W] 2021-05-15 00:51:26.024600   \n",
              "\n",
              "                             github  \n",
              "0       https://github.com/danhpcv/  \n",
              "1  https://github.com/auslynnguyen/  \n",
              "2       https://github.com/hoaintp/  \n",
              "3   https://github.com/Tenderriver/  \n",
              "4    https://github.com/saturn1101/  "
            ],
            "text/html": "<div>\n<style scoped>\n    .dataframe tbody tr th:only-of-type {\n        vertical-align: middle;\n    }\n\n    .dataframe tbody tr th {\n        vertical-align: top;\n    }\n\n    .dataframe thead th {\n        text-align: right;\n    }\n</style>\n<table border=\"1\" class=\"dataframe\">\n  <thead>\n    <tr style=\"text-align: right;\">\n      <th></th>\n      <th>time</th>\n      <th>user</th>\n      <th>reply_count</th>\n      <th>reply_users_count</th>\n      <th>reply_user</th>\n      <th>latest_reply</th>\n      <th>github</th>\n    </tr>\n  </thead>\n  <tbody>\n    <tr>\n      <td>0</td>\n      <td>2021-05-24 18:46:33.004500</td>\n      <td>U0226MQ73MJ</td>\n      <td>2.0</td>\n      <td>2.0</td>\n      <td>[U01USGKQ771, U01V00KHHHP]</td>\n      <td>2021-05-15 16:14:31.003600</td>\n      <td>https://github.com/danhpcv/</td>\n    </tr>\n    <tr>\n      <td>1</td>\n      <td>2021-05-23 14:55:08.004100</td>\n      <td>U0226MQ73MJ</td>\n      <td>2.0</td>\n      <td>2.0</td>\n      <td>[U01UTGS5ZNY, U01UMC08KL2]</td>\n      <td>2021-05-18 15:09:59.000800</td>\n      <td>https://github.com/auslynnguyen/</td>\n    </tr>\n    <tr>\n      <td>2</td>\n      <td>2021-05-22 09:04:13.002000</td>\n      <td>U0226MQ73MJ</td>\n      <td>1.0</td>\n      <td>1.0</td>\n      <td>[U01UMBX2X18]</td>\n      <td>2021-05-08 13:36:43.006000</td>\n      <td>https://github.com/hoaintp/</td>\n    </tr>\n    <tr>\n      <td>3</td>\n      <td>2021-05-21 11:57:44.000900</td>\n      <td>U0226MQ73MJ</td>\n      <td>2.0</td>\n      <td>2.0</td>\n      <td>[U01UMC0N5U2, U01U6JQB695]</td>\n      <td>2021-05-11 10:10:06.001300</td>\n      <td>https://github.com/Tenderriver/</td>\n    </tr>\n    <tr>\n      <td>4</td>\n      <td>2021-05-20 23:43:26.000600</td>\n      <td>U0226MQ73MJ</td>\n      <td>1.0</td>\n      <td>1.0</td>\n      <td>[U01UMBZHU2W]</td>\n      <td>2021-05-15 00:51:26.024600</td>\n      <td>https://github.com/saturn1101/</td>\n    </tr>\n  </tbody>\n</table>\n</div>"
          },
          "metadata": {},
          "execution_count": 26
        }
      ],
      "source": [
        "assignment_df = pd.DataFrame(dict([ (k,pd.Series(v)) for k,v in assignment_dict.items() ]))\n",
        "assignment_df.head()"
      ]
    },
    {
      "cell_type": "code",
      "execution_count": 27,
      "metadata": {},
      "outputs": [
        {
          "output_type": "stream",
          "name": "stdout",
          "text": [
            "Done!\n"
          ]
        }
      ],
      "source": [
        "import gspread\n",
        "## Authorize bằng JSON\n",
        "scope = ['https://spreadsheets.google.com/feeds',\n",
        "         'https://www.googleapis.com/auth/drive']\n",
        "credentials = ServiceAccountCredentials.from_json_keyfile_name(\n",
        "    'my_project_1.json', scope)\n",
        "gc = gspread.authorize(credentials)\n",
        "print('Done!')"
      ]
    },
    {
      "cell_type": "code",
      "execution_count": 30,
      "metadata": {},
      "outputs": [
        {
          "output_type": "stream",
          "name": "stdout",
          "text": [
            "Done!\n"
          ]
        }
      ],
      "source": [
        "# ACCESS GOOGLE SHEET\n",
        "sheet_index_no = 1\n",
        "spreadsheet_key = '1nNlQbhJbdfJLWCYirnHdOSB6i9KNFVPZe1qNTWkgk4o' # input SPREADSHEET_KEY HERE\n",
        "sh = gc.open_by_key(spreadsheet_key)\n",
        "worksheet = sh.add_worksheet(title= 'Assignment3', rows= \"100\", cols= \"20\") #Create a sheet to upload data \n",
        "\n",
        "# APPEND DATA TO SHEET\n",
        "set_with_dataframe(worksheet, assignment_df) #-> Upload assignment_df vào Sheet 2 trong Spreadsheet\n",
        "print('Done!')"
      ]
    },
    {
      "cell_type": "markdown",
      "metadata": {
        "id": "698exK3k35RM"
      },
      "source": [
        "-------------- HẾT PHẦN OPTION 2 ---------------------"
      ]
    }
  ]
}