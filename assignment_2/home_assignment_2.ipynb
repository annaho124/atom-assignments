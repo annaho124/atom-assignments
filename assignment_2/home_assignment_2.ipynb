{
  "nbformat": 4,
  "nbformat_minor": 0,
  "metadata": {
    "colab": {
      "name": "ATOM | Home Assignment 2.ipynb",
      "provenance": [],
      "collapsed_sections": [],
      "toc_visible": true,
      "authorship_tag": "ABX9TyPr64JyVtUmUnV7MTJJnLmW",
      "include_colab_link": true
    },
    "kernelspec": {
      "name": "python374jvsc74a57bd06ad2903d9f8eb78095a8e1054d3b7d96029c25240c1559c5c7674409ebbac066",
      "display_name": "Python 3.7.4 64-bit ('base': conda)"
    },
    "language_info": {
      "name": "python",
      "version": "3.7.4"
    }
  },
  "cells": [
    {
      "cell_type": "markdown",
      "metadata": {
        "id": "view-in-github",
        "colab_type": "text"
      },
      "source": [
        "<a href=\"https://colab.research.google.com/github/anhdanggit/atom-assignments/blob/main/assignment_2/ATOM_Home_Assignment_2.ipynb\" target=\"_parent\"><img src=\"https://colab.research.google.com/assets/colab-badge.svg\" alt=\"Open In Colab\"/></a>"
      ]
    },
    {
      "cell_type": "markdown",
      "metadata": {
        "id": "WNjHxu0-0Urk"
      },
      "source": [
        "## 0. Initial Set-up"
      ]
    },
    {
      "cell_type": "markdown",
      "metadata": {
        "id": "ky3QJTULRGhG"
      },
      "source": [
        "1. Clone this Github repo về máy: https://github.com/anhdanggit/atom-assignments\n",
        "2. Mở file `env_variable_test.json`. Thay đổi & Đổi tên thành `env_variable.json`: \n",
        "  - `\"SENDER_EMAIL\"`: Email của bạn\n",
        "  - `\"PWD_EMAIL\"`: App Password tương ứng với Email trên (Hướng Dẫn: [link](https://support.google.com/accounts/answer/185833?p=InvalidSecondFactor&visit_id=637562139468610337-3856071038&rd=1))\n",
        "  - `\"WEATHER_API_KEY\"`: API Key của account của bạn trên [Open Weather Map](https://support.google.com/accounts/answer/185833?p=InvalidSecondFactor&visit_id=637562139468610337-3856071038&rd=1)\n",
        "3. Upload lên Files hoặc Google Drive, nếu bạn sử dụng Google Colab.\n",
        "\n",
        "**!!!! NOTICE !!!!** File json sau khi cho các thông tin thực của bạn, KHÔNG đưa lên Github hay để public. Tips: Để tên `env_variable.json` trong file `.gitignore` để Git tự động ignore không publish file này."
      ]
    },
    {
      "cell_type": "markdown",
      "metadata": {
        "id": "mQHvoBrV2wAS"
      },
      "source": [
        "### 0.1. Environment Variables"
      ]
    },
    {
      "cell_type": "markdown",
      "metadata": {
        "id": "wsarlH3fTc0_"
      },
      "source": [
        "Đặt `!` phía trước 1 cell để bắt đầu viết lệnh [Shell Commands](https://docs.cs.cf.ac.uk/notes/linux-shell-commands/) (đây là các lệnh giao tiếp với OS - Hệ điều hành đang dùng bên dưới để chạy Colab Notebook)"
      ]
    },
    {
      "cell_type": "code",
      "metadata": {
        "id": "I2nTgPRQ1MjI",
        "colab": {
          "base_uri": "https://localhost:8080/"
        },
        "outputId": "54be56d9-0817-4158-8369-0678f4576d26"
      },
      "source": [
        "!dir \n",
        "#để liệt kể các files đang có trong cùng \"folder\" với file notebook\n",
        "#khi em search trên google thì !ls chỉ chạy được trên Linux OS, do máy em chạy Windows nên sử dụng câu lệnh tương tự là !dir"
      ],
      "execution_count": 1,
      "outputs": [
        {
          "output_type": "stream",
          "name": "stdout",
          "text": [
            " Volume in drive C is System\n Volume Serial Number is 140C-D8FD\n\n Directory of c:\\Users\\Admin\\OneDrive\\Documents\\GitHub\\atom-assignments\\assignment_2\n\n05/19/2021  11:21 PM    <DIR>          .\n05/19/2021  11:21 PM    <DIR>          ..\n05/16/2021  09:56 AM                77 email_list.csv\n05/13/2021  10:44 PM               101 env_variable.py\n05/19/2021  11:21 PM               144 env_variable_1.json\n05/18/2021  09:59 PM               144 env_variable_test.json\n05/22/2021  10:43 AM            70,166 home_assignment_2.ipynb\n05/18/2021  09:59 PM               131 README.md\n05/16/2021  10:29 AM               110 weather.txt\n05/16/2021  10:31 AM                60 weather_abc.txt\n               8 File(s)         70,933 bytes\n               2 Dir(s)  10,699,206,656 bytes free\n"
          ]
        }
      ]
    },
    {
      "cell_type": "code",
      "metadata": {
        "id": "3EPceevo0yWp",
        "colab": {
          "base_uri": "https://localhost:8080/"
        },
        "outputId": "61fed2a0-6081-41be-ba05-a9a211c04764"
      },
      "source": [
        "!python env_variable.py #để chạy một file python (bên ngoài notebook)\n",
        "print('Done') #để hiển thị chương trình được chạy thành công"
      ],
      "execution_count": 2,
      "outputs": [
        {
          "output_type": "stream",
          "name": "stdout",
          "text": [
            "Done\n"
          ]
        }
      ]
    },
    {
      "cell_type": "code",
      "metadata": {
        "id": "j3Fv0NUdXyd1"
      },
      "source": [
        "import json\n",
        "with open('env_variable_1.json', 'r') as j:\n",
        "    json_data = json.load(j)\n",
        "    #print(json_data) #Print data in json file, em để dấu # để chương trình không hiển thị thông tin trên file"
      ],
      "execution_count": 18,
      "outputs": []
    },
    {
      "cell_type": "markdown",
      "metadata": {
        "id": "ZWYv-VjeZpK2"
      },
      "source": [
        "### Concept: JSON File\n",
        "* JSON là một dạng đa ta phổ biến, có dạng key-value. Nghĩa là những giá trị bên trong có thể \"gọi\" bằng các key, tương tự cấu trúc của Dictionary (Week 2)\n",
        "* Reference: [JSON Data in Python](https://www.datacamp.com/community/tutorials/json-data-python?utm_source=adwords_ppc&utm_campaignid=1455363063&utm_adgroupid=65083631748&utm_device=c&utm_keyword=&utm_matchtype=b&utm_network=g&utm_adpostion=&utm_creative=278443377095&utm_targetid=aud-522010995285:dsa-429603003980&utm_loc_interest_ms=&utm_loc_physical_ms=1028581&gclid=Cj0KCQjws-OEBhCkARIsAPhOkIYshv7eHMZhcLYnRmnCVdoXMbchc_nxeSYbyoGnSlauIGaJWudvBf8aAql6EALw_wcB)"
      ]
    },
    {
      "cell_type": "markdown",
      "metadata": {
        "id": "TPqTOA8DbGgq"
      },
      "source": [
        "### TODO #1\n",
        "1. Thử un-comment bằng cách để dấu nháy chuột ở dòng print(json_data) và nhấn `Ctrl+/`. Sau đó, chạy lại.\n",
        "2. Cấu trúc của `json_data` tương tự `dictionary`: thử gọi biến `SENDER_EMAIL` trong file json và `print`\n",
        "=> Task này sẽ giúp bạn tìm hiểu thêm về cấu trúc của 1 file JSON."
      ]
    },
    {
      "cell_type": "code",
      "execution_count": 19,
      "metadata": {},
      "outputs": [
        {
          "output_type": "stream",
          "name": "stdout",
          "text": [
            "annaho81010@gmail.com\n"
          ]
        }
      ],
      "source": [
        "print(json_data['SENDER_EMAIL'])"
      ]
    },
    {
      "cell_type": "markdown",
      "metadata": {
        "id": "1SU_ozhPU2B1"
      },
      "source": [
        "### Concept: Environment Variables\n",
        "* [Environment Variables](https://medium.com/chingu/an-introduction-to-environment-variables-and-how-to-use-them-f602f66d15fa#:~:text=An%20environment%20variable%20is%20a,at%20a%20point%20in%20time.) là các biến (variable) được set bên ngoài program\n",
        "* Lý do: Có một số value có tính nhạy cảm (password), việc để trong code (và đưa lên Git) sẽ không bảo mật các thông tin này\n",
        "\n",
        "Trong đoạn code dưới, ta giữ các thông tin nhạy cảm khỏi code bằng việc lưu giữ trong một file json, và gọi các giá trị `SENDER_MAIL`, `PWD_EMAIL`, `API_KEY` lưu vào Environmental Variables."
      ]
    },
    {
      "cell_type": "code",
      "metadata": {
        "colab": {
          "base_uri": "https://localhost:8080/"
        },
        "id": "4vlqLayL2IDd",
        "outputId": "86786eac-de8f-41b3-9ea4-e9d366db64a0"
      },
      "source": [
        "import os\n",
        "os.environ['SENDER_EMAIL'] = json_data['SENDER_EMAIL'] ## INPUT: Your Email\n",
        "os.environ['PWD_EMAIL'] = json_data['PWD_EMAIL'] ## INPUT: Your App Password\n",
        "os.environ['WEATHER_API_KEY'] = json_data['WEATHER_API_KEY'] ## INPUT: OpenWeather API Key\n",
        "print('DONE! Get Env. Variable')"
      ],
      "execution_count": 20,
      "outputs": [
        {
          "output_type": "stream",
          "name": "stdout",
          "text": [
            "DONE! Get Env. Variable\n"
          ]
        }
      ]
    },
    {
      "cell_type": "code",
      "metadata": {
        "colab": {
          "base_uri": "https://localhost:8080/"
        },
        "id": "pnWQlWHMZja7",
        "outputId": "af9cb1b9-1d07-4c67-862e-12aa4624ba61"
      },
      "source": [
        "print(os.environ['SENDER_EMAIL'])"
      ],
      "execution_count": 21,
      "outputs": [
        {
          "output_type": "stream",
          "name": "stdout",
          "text": [
            "annaho81010@gmail.com\n"
          ]
        }
      ]
    },
    {
      "cell_type": "markdown",
      "metadata": {
        "id": "fnJtI0S12eh-"
      },
      "source": [
        "### 0.2. Import Modules\n",
        "\n",
        "\n",
        "*   [Modules](https://docs.python.org/3/tutorial/modules.html): là một file gồm các definitions & statements trong python. Nói nôm ra, modules là một gói chứa nhiều functions. \n",
        "*   Dấu `.` chỉ sự \"thuộc về\": a.b.c nghĩa là c nằm trong b, b nằm trong a. Ví dụ: `json.load()` nghĩa là function `load()` trong module `json()`\n",
        "*   Load một module bằng `import` \n",
        "*   Install một module vào máy bằng: `!pip install`. Có dấu `!`, nghĩa là **Shell Commands**\n",
        "\n",
        "Dưới đây ta import tất cả các module cần sử dụng cho Assignment, một practice tốt là gom hết các modules và install trên đầu notebook/file code.\n",
        "\n"
      ]
    },
    {
      "cell_type": "code",
      "metadata": {
        "id": "C0dJywJtOtEK"
      },
      "source": [
        "import email, smtplib, ssl # to automate email\n",
        "import email as mail\n",
        "from email import encoders\n",
        "from email.mime.base import MIMEBase\n",
        "from email.mime.multipart import MIMEMultipart\n",
        "from email.mime.text import MIMEText\n",
        "\n",
        "import requests, json # to pull API, and work with json\n",
        "import datetime as dt # to work with date, time\n",
        "from bs4 import BeautifulSoup # to work with web scrapping (HTML)\n",
        "import pandas as pd # to work with tables (DataFrames) data\n",
        "from IPython.core.display import HTML # to display HTML in the notebook"
      ],
      "execution_count": 12,
      "outputs": []
    },
    {
      "cell_type": "markdown",
      "metadata": {
        "id": "KkJiWpgkgNyB"
      },
      "source": [
        "## 1. Email Bot\n",
        "Đoạn code sau để gửi email:\n",
        "- Từ: `SENDER_EMAIL`\n",
        "- Đến: `RECEIVER_MAIL`\n",
        "- Với subject và body gồm 3 phần: Phần nội dung được viết bằng HTML, nếu chưa quen thuộc bạn có thể dùng công cụ xong để convert từ style của MS Word sang HTML: https://wordtohtml.net/"
      ]
    },
    {
      "cell_type": "code",
      "metadata": {
        "id": "9unEmluARSpH",
        "colab": {
          "base_uri": "https://localhost:8080/"
        },
        "outputId": "bad054b2-da52-4132-ea4c-d93a79eaa6d5"
      },
      "source": [
        "subject = \"Test Email\" #INPUT1: Subject of the Email\n",
        "receiver_email = input(\"Your email: \") #INPUT2: email address to receive the email\n",
        "sender_email = os.environ['SENDER_EMAIL']\n",
        "password = os.environ['PWD_EMAIL'] \n",
        "\n",
        "# (1) Create the email head (sender, receiver, and subject)\n",
        "email = MIMEMultipart()\n",
        "email[\"From\"] = sender_email\n",
        "email[\"To\"] = receiver_email \n",
        "email[\"Subject\"] = subject\n",
        "\n",
        "# (2) Create Body part\n",
        "# We use html, you can convert word to html: https://wordtohtml.net/\n",
        "html1 = \"\"\"\n",
        "    <html>\n",
        "    <h1><strong>Hello World</strong></h1>\n",
        "    <body>\n",
        "    <p>Hi!<br>\n",
        "       How are you?<br>\n",
        "       Here is the <a href=\"https://docs.python.org/3.4/library/email-examples.html\">link</a> you wanted.\n",
        "    </p>\n",
        "    </body>\n",
        "    </html>\n",
        "    \"\"\"\n",
        "html2 = \"\"\"\n",
        "<html>\n",
        "Email sent at <b>{}</b><br>\n",
        "</html>\n",
        "\"\"\".format(dt.datetime.now().isoformat())\n",
        "\n",
        "text3 = '--- End ----'\n",
        "\n",
        "# Combine parts\n",
        "part1 = MIMEText(html1, 'html')\n",
        "part2 = MIMEText(html2, 'html')\n",
        "part3 = MIMEText(text3, 'plain')\n",
        "\n",
        "email.attach(part1)\n",
        "email.attach(part2)\n",
        "email.attach(part3)\n",
        "\n",
        "# (3) Create SMTP session for sending the mail\n",
        "session = smtplib.SMTP('smtp.gmail.com', 587) #use gmail with port\n",
        "session.starttls() #enable security\n",
        "session.login(sender_email, password) #login with mail_id and password\n",
        "text = email.as_string()\n",
        "session.sendmail(sender_email, receiver_email, text)\n",
        "session.quit()\n",
        "\n",
        "print('DONE! Mail Sent'.format(sender_email, receiver_email))"
      ],
      "execution_count": 22,
      "outputs": [
        {
          "output_type": "stream",
          "name": "stdout",
          "text": [
            "DONE! Mail Sent\n"
          ]
        }
      ]
    },
    {
      "cell_type": "markdown",
      "metadata": {
        "id": "LKXSTGhMiyGa"
      },
      "source": [
        "### TODO #2\n",
        "1.   Từ Email Bot Code viết function `send_email`:\n",
        "  - **inputs**: subject, receiver_email, part1, part2, part3\n",
        "  - **output**: thực hiện việc gửi email và in ra kết quả\n",
        "2.   Kết hợp Loops (For ... in) với function để gửi cùng nội dung email đến 1 list user: `email_list = ['abc@gmail.com', 'xyz@gmail.com']` (thay đổi email bằng các email thật của bạn để test)"
      ]
    },
    {
      "cell_type": "code",
      "metadata": {
        "id": "2YV6peDOmNkA"
      },
      "source": [
        "def send_email(receiver_email, subject, part1, part2, part3):\n",
        "  # YOUR CODE\n",
        "  sender_email = os.environ['SENDER_EMAIL']\n",
        "  password = os.environ['PWD_EMAIL']\n",
        "\n",
        "  email = MIMEMultipart()\n",
        "  email[\"From\"] = sender_email\n",
        "  email[\"To\"] = receiver_email \n",
        "  email[\"Subject\"] = subject\n",
        "\n",
        "  # (2) Create Body part\n",
        "  # We use html, you can convert word to html: https://wordtohtml.net/ #Delete Part1, part2, part3 vì ba cái này đã trở thành argument trong hàm để mình khai báo ngoài cho mỗi lần gọi hàm.\n",
        "  \n",
        "  # Combine parts\n",
        "  part1 = MIMEText(part1, 'plain') #Đổi html1 thành part 1 vì html là một biến đã khai báo\n",
        "  part2 = MIMEText(part2, 'plain')\n",
        "  part3 = MIMEText(part3, 'plain')\n",
        "\n",
        "  email.attach(part1)\n",
        "  email.attach(part2)\n",
        "  email.attach(part3)\n",
        "\n",
        "  # (3) Create SMTP session for sending the mail\n",
        "  session = smtplib.SMTP('smtp.gmail.com', 587) #use gmail with port\n",
        "  session.starttls() #enable security\n",
        "  session.login(sender_email, password) #login with mail_id and password\n",
        "  text = email.as_string()\n",
        "  session.sendmail(sender_email, receiver_email, text)\n",
        "  session.quit()\n",
        "\n",
        "  print('DONE! Mail Sent'.format(sender_email, receiver_email))"
      ],
      "execution_count": 91,
      "outputs": []
    },
    {
      "cell_type": "code",
      "metadata": {
        "id": "4ydkiKUqmhMw"
      },
      "source": [
        "email_list = ['nganho124@gmail.com', 'ngan.ho124@hcmut.edu.vn']\n",
        "for i in range(0, len(email_list)):\n",
        "  # YOUR CODE\n",
        "  send_email(email_list[i], \"Have a nice day!\", 'This is an email', 'For testing', 'Sincerely.')"
      ],
      "execution_count": 24,
      "outputs": [
        {
          "output_type": "stream",
          "name": "stdout",
          "text": [
            "DONE! Mail Sent\n",
            "DONE! Mail Sent\n"
          ]
        }
      ]
    },
    {
      "cell_type": "markdown",
      "metadata": {
        "id": "RM7HKTGIh9IC"
      },
      "source": [
        "## Call API"
      ]
    },
    {
      "cell_type": "markdown",
      "metadata": {
        "id": "z22CtbW8mvqh"
      },
      "source": [
        "### Concept: API\n",
        "* **API** ([Application Programming Interface](https://en.wikipedia.org/wiki/API)): Là cách thức và phương tiện để 2 applications nói chuyện với nhau. Ở đây là giữa Python program trên Colab của bạn và các Web application khác. \n",
        "* Đây là concept nền tảng trong việc Automation\n",
        "* API nhận input là JSON file (có khi không nhận) và trả lại output là JSON file => Request/Call API\n",
        "* Đây là một cách phổ biến đế gửi và nhận data\n",
        "\n",
        "Đoạn code bên dưới: \n",
        "* Lấy input là `API_KEY`, country, ta request **API** của Open Weather\n",
        "* Được trả lại file kết quả dưới dạng `JSON`\n",
        "* Trích xuất 1 vài thông tin, và lưu ra file text"
      ]
    },
    {
      "cell_type": "code",
      "metadata": {
        "colab": {
          "base_uri": "https://localhost:8080/"
        },
        "id": "3ZzdPfFbiCZa",
        "outputId": "e545d025-5a9c-444a-8255-c489e81d6bf6"
      },
      "source": [
        "# base URL\n",
        "BASE_URL = \"https://api.openweathermap.org/data/2.5/weather?\"\n",
        "# City Name \n",
        "CITY = \"London\"\n",
        "# API key \n",
        "API_KEY = os.environ['WEATHER_API_KEY']\n",
        "# upadting the URL\n",
        "URL = BASE_URL + \"q=\" + CITY + \"&appid=\" + API_KEY\n",
        "# HTTP request\n",
        "response = requests.get(URL)\n",
        "# checking the status code of the request (200 is ok, 404 is not found)\n",
        "if response.status_code == 200:\n",
        "   # getting data in the json format\n",
        "   data = response.json()\n",
        "   # getting the main dict block\n",
        "   main = data['main']\n",
        "   # getting temperature\n",
        "   temperature = main['temp']\n",
        "   # getting the humidity\n",
        "   humidity = main['humidity']\n",
        "   # getting the pressure\n",
        "   pressure = main['pressure']\n",
        "   # weather report\n",
        "   report = data['weather']\n",
        "   f = open('weather.txt','w') ## write to text file\n",
        "   print(f\"{CITY:-^30}\", file=f) #Format của function print, in ra mấy cái gạch gạch chỗ tên London\n",
        "   print(f\"Temperature: {temperature}\", file=f)\n",
        "   print(f\"Humidity: {humidity}\", file=f)\n",
        "   print(f\"Pressure: {pressure}\", file=f)\n",
        "   print(f\"Weather Report: {report[0]['description']}\", file=f)\n",
        "   f.close()\n",
        "   print(\"DONE! Output in weather.txt file\")\n",
        "else:\n",
        "   # showing the error message\n",
        "   print(\"Error in the HTTP request\")\n",
        "   print(response)"
      ],
      "execution_count": 25,
      "outputs": [
        {
          "output_type": "stream",
          "name": "stdout",
          "text": [
            "DONE! Output in weather.txt file\n"
          ]
        }
      ]
    },
    {
      "cell_type": "code",
      "metadata": {
        "colab": {
          "base_uri": "https://localhost:8080/"
        },
        "id": "aOTClQTCn7wh",
        "outputId": "c8a74544-6073-4d72-9c4c-9254fd99d3c2"
      },
      "source": [
        "!dir"
      ],
      "execution_count": 26,
      "outputs": [
        {
          "output_type": "stream",
          "name": "stdout",
          "text": [
            " Volume in drive C is System\n Volume Serial Number is 140C-D8FD\n\n Directory of c:\\Users\\Admin\\OneDrive\\Documents\\GitHub\\atom-assignments\\assignment_2\n\n05/19/2021  11:21 PM    <DIR>          .\n05/19/2021  11:21 PM    <DIR>          ..\n05/16/2021  09:56 AM                77 email_list.csv\n05/13/2021  10:44 PM               101 env_variable.py\n05/23/2021  06:20 PM               144 env_variable_1.json\n05/18/2021  09:59 PM               144 env_variable_test.json\n05/22/2021  10:43 AM            70,166 home_assignment_2.ipynb\n05/18/2021  09:59 PM               131 README.md\n05/23/2021  06:24 PM               114 weather.txt\n05/16/2021  10:31 AM                60 weather_abc.txt\n               8 File(s)         70,937 bytes\n               2 Dir(s)  10,693,791,744 bytes free\n"
          ]
        }
      ]
    },
    {
      "cell_type": "code",
      "metadata": {
        "colab": {
          "base_uri": "https://localhost:8080/"
        },
        "id": "I_4mwiKRpVzJ",
        "outputId": "a354c204-8110-4186-ae37-9cbd72210e9f"
      },
      "source": [
        "print(open(\"weather.txt\", \"r\").read())"
      ],
      "execution_count": 27,
      "outputs": [
        {
          "output_type": "stream",
          "name": "stdout",
          "text": [
            "------------London------------\nTemperature: 285.25\nHumidity: 78\nPressure: 1010\nWeather Report: broken clouds\n\n"
          ]
        }
      ]
    },
    {
      "cell_type": "code",
      "metadata": {
        "colab": {
          "base_uri": "https://localhost:8080/"
        },
        "id": "kqwsvfxolao7",
        "outputId": "0a860e33-6993-4b70-e513-93d63ec075a0"
      },
      "source": [
        "# Khám phá file JSON\n",
        "data"
      ],
      "execution_count": 29,
      "outputs": [
        {
          "output_type": "execute_result",
          "data": {
            "text/plain": [
              "{'coord': {'lon': -0.1257, 'lat': 51.5085},\n",
              " 'weather': [{'id': 803,\n",
              "   'main': 'Clouds',\n",
              "   'description': 'broken clouds',\n",
              "   'icon': '04d'}],\n",
              " 'base': 'stations',\n",
              " 'main': {'temp': 285.25,\n",
              "  'feels_like': 284.55,\n",
              "  'temp_min': 283.68,\n",
              "  'temp_max': 287.35,\n",
              "  'pressure': 1010,\n",
              "  'humidity': 78},\n",
              " 'visibility': 10000,\n",
              " 'wind': {'speed': 6.13, 'deg': 207, 'gust': 10.74},\n",
              " 'clouds': {'all': 75},\n",
              " 'dt': 1621768649,\n",
              " 'sys': {'type': 2,\n",
              "  'id': 2019646,\n",
              "  'country': 'GB',\n",
              "  'sunrise': 1621742276,\n",
              "  'sunset': 1621799814},\n",
              " 'timezone': 3600,\n",
              " 'id': 2643743,\n",
              " 'name': 'London',\n",
              " 'cod': 200}"
            ]
          },
          "metadata": {},
          "execution_count": 29
        }
      ]
    },
    {
      "cell_type": "code",
      "metadata": {
        "colab": {
          "base_uri": "https://localhost:8080/",
          "height": 35
        },
        "id": "9m9ccXB6nOyN",
        "outputId": "2bd4169e-ea31-4b5e-b4a4-dfe02aaddd47"
      },
      "source": [
        "data['name']"
      ],
      "execution_count": 18,
      "outputs": [
        {
          "output_type": "execute_result",
          "data": {
            "text/plain": [
              "'London'"
            ]
          },
          "metadata": {},
          "execution_count": 18
        }
      ]
    },
    {
      "cell_type": "code",
      "metadata": {
        "colab": {
          "base_uri": "https://localhost:8080/"
        },
        "id": "-hfJui94nQ8i",
        "outputId": "c5e67e49-ad39-4310-f170-a5ee32fe5b3a"
      },
      "source": [
        "data['coord']['lat']"
      ],
      "execution_count": 19,
      "outputs": [
        {
          "output_type": "execute_result",
          "data": {
            "text/plain": [
              "51.5085"
            ]
          },
          "metadata": {},
          "execution_count": 19
        }
      ]
    },
    {
      "cell_type": "markdown",
      "metadata": {
        "id": "jbmpcldqGhuk"
      },
      "source": [
        "### TODO #3\n",
        "1. Trên file json kết quả:\n",
        "  - Lấy thông tin trạng thái thời tiết (weather) chính (main) ở London\n",
        "  - Lấy lat & lon (kinh độ và vĩ độ của London)\n",
        "2. Viết function `get_weather_data` \n",
        "  - inputs: city\n",
        "  - outputs: đoạn text thông tin thời tiết\n",
        "3. Dùng function `send_email` in **TODO #1**, thay phần 3 trong nội dùng email bằng thông tin thời tiết của London gửi cho 1 địa chỉ email của bạn"
      ]
    },
    {
      "cell_type": "code",
      "metadata": {
        "id": "p9tm-FzIoof1"
      },
      "source": [
        "# YOUR CODE\n",
        "data['weather'][0]['main']"
      ],
      "execution_count": 23,
      "outputs": [
        {
          "output_type": "execute_result",
          "data": {
            "text/plain": [
              "'Clouds'"
            ]
          },
          "metadata": {},
          "execution_count": 23
        }
      ]
    },
    {
      "cell_type": "code",
      "metadata": {
        "id": "onTj-Et3o2PO"
      },
      "source": [
        "def get_weather_data1(city):\n",
        "  # YOUR CODE\n",
        "  # base URL\n",
        "  BASE_URL = \"https://api.openweathermap.org/data/2.5/weather?\"\n",
        "  # API key \n",
        "  API_KEY = os.environ['WEATHER_API_KEY'] \n",
        "  # upadting the URL\n",
        "  URL = BASE_URL + \"q=\" + city + \"&appid=\" + API_KEY\n",
        "  # HTTP request\n",
        "  response = requests.get(URL)\n",
        "  # checking the status code of the request (200 is ok, 404 is not found)\n",
        "  if response.status_code == 200:\n",
        "    # getting data in the json format\n",
        "    data1 = response.json()\n",
        "    # getting the main dict block\n",
        "    main = data1['main']\n",
        "    # weather report\n",
        "    report = data1['weather']\n",
        "    f = open('weather_abc.txt','w') ## write to text file\n",
        "    print(f\"{city:-^30}\", file=f)\n",
        "    print(f\"Weather Report: {report[0]['description']}\", file=f)\n",
        "    f.close()\n",
        "    print(\"DONE! Output in weather_abc.txt file\")\n",
        "  else:\n",
        "   # showing the error message\n",
        "    print(\"Error in the HTTP request\")\n",
        "    print(response)"
      ],
      "execution_count": 53,
      "outputs": []
    },
    {
      "cell_type": "code",
      "execution_count": 54,
      "metadata": {},
      "outputs": [
        {
          "output_type": "stream",
          "name": "stdout",
          "text": [
            "DONE! Output in weather_abc.txt file\n"
          ]
        }
      ],
      "source": [
        "city = \"Ho Chi Minh City\"\n",
        "get_weather_data1(city)"
      ]
    },
    {
      "cell_type": "code",
      "metadata": {
        "id": "BxVhcoDuo78n"
      },
      "source": [
        "# YOUR CODE\n",
        "def send_email2(receiver_email, subject, part1, part2, part3):\n",
        "  # YOUR CODE\n",
        "  sender_email = os.environ['SENDER_EMAIL']\n",
        "  password = os.environ['PWD_EMAIL']\n",
        "\n",
        "  email = MIMEMultipart()\n",
        "  email[\"From\"] = sender_email\n",
        "  email[\"To\"] = receiver_email \n",
        "  email[\"Subject\"] = subject\n",
        "\n",
        "  # Combine parts\n",
        "  part1 = MIMEText(part1, 'plain')\n",
        "  part2 = MIMEText(part2, 'plain')\n",
        "  part3 = MIMEText(part3, 'plain')\n",
        "\n",
        "  email.attach(part1)\n",
        "  email.attach(part2)\n",
        "  email.attach(part3)\n",
        "\n",
        "  # (3) Create SMTP session for sending the mail\n",
        "  session = smtplib.SMTP('smtp.gmail.com', 587) #use gmail with port\n",
        "  session.starttls() #enable security\n",
        "  session.login(sender_email, password) #login with mail_id and password\n",
        "  text = email.as_string()\n",
        "  session.sendmail(sender_email, receiver_email, text)\n",
        "  session.quit()\n",
        "\n",
        "  print('DONE! Mail Sent'.format(sender_email, receiver_email))"
      ],
      "execution_count": 64,
      "outputs": []
    },
    {
      "cell_type": "code",
      "execution_count": 66,
      "metadata": {},
      "outputs": [
        {
          "output_type": "stream",
          "name": "stdout",
          "text": [
            "DONE! Mail Sent\n",
            "DONE! Mail Sent\n"
          ]
        }
      ],
      "source": [
        "email_list = ['nganho124@gmail.com', 'ngan.ho124@hcmut.edu.vn']\n",
        "abc = data['weather'][0]['main']\n",
        "for i in range(0, len(email_list)):\n",
        "  # YOUR CODE\n",
        "  send_email2(email_list[i], subject, 'This is an email', 'Sending', abc)"
      ]
    },
    {
      "cell_type": "markdown",
      "metadata": {
        "id": "qdAc1M91tLRV"
      },
      "source": [
        "## Web Scrapping"
      ]
    },
    {
      "cell_type": "markdown",
      "metadata": {
        "id": "9lJY0KlSrLIy"
      },
      "source": [
        "### Concept: Web Scrapping\n",
        "* Web Scrapping là hoạt động lấy data từ các website. Nội dung của các website được trình bày bằng HTML\n",
        "* Để hiểu cấu trúc của HTML: Có thể vào `Chrome => More Tools => Developer Tools`\n",
        "* Cấu trúc và cách lấy giá trị của HTML cũng tương tự như JSON và Dictionary.\n",
        "* BeautifulSoup là một modules cho phép ta trích xuất thông tin từ HTML dễ dàng hơn\n",
        "\n",
        "**Reference**\n",
        "https://www.freecodecamp.org/news/scraping-wikipedia-articles-with-python/"
      ]
    },
    {
      "cell_type": "code",
      "metadata": {
        "id": "Bnp36lyEtxS0",
        "colab": {
          "base_uri": "https://localhost:8080/"
        },
        "outputId": "ef826dab-a7d0-4bdf-ee2e-30008d2de06d"
      },
      "source": [
        "response = requests.get(\n",
        "\turl=\"https://en.wikipedia.org/wiki/COVID-19\",\n",
        "  )\n",
        "print(\"API Status Code: \"+ str(response.status_code))\n",
        "soup = BeautifulSoup(response.content, 'html.parser')\n",
        "\n",
        "title = soup.find(id=\"firstHeading\")\n",
        "print(title.string)"
      ],
      "execution_count": 67,
      "outputs": [
        {
          "output_type": "stream",
          "name": "stdout",
          "text": [
            "API Status Code: 200\n",
            "COVID-19\n"
          ]
        }
      ]
    },
    {
      "cell_type": "code",
      "metadata": {
        "colab": {
          "base_uri": "https://localhost:8080/"
        },
        "id": "lY8xzPlJt5U3",
        "outputId": "ee020655-1162-4859-9520-25dedbf476e1"
      },
      "source": [
        "response.content ## Explore contents"
      ],
      "execution_count": 68,
      "outputs": [
        {
          "output_type": "execute_result",
          "data": {
            "text/plain": [
              "i\"><a href=\"https://si.wikipedia.org/wiki/%E0%B6%9A%E0%B7%9C%E0%B7%80%E0%B7%92%E0%B6%A9%E0%B7%8A-19\" title=\"\\xe0\\xb6\\x9a\\xe0\\xb7\\x9c\\xe0\\xb7\\x80\\xe0\\xb7\\x92\\xe0\\xb6\\xa9\\xe0\\xb7\\x8a-19 \\xe2\\x80\\x93 Sinhala\" lang=\"si\" hreflang=\"si\" class=\"interlanguage-link-target\">\\xe0\\xb7\\x83\\xe0\\xb7\\x92\\xe0\\xb6\\x82\\xe0\\xb7\\x84\\xe0\\xb6\\xbd</a></li><li class=\"interlanguage-link interwiki-simple\"><a href=\"https://simple.wikipedia.org/wiki/Coronavirus_disease_2019\" title=\"Coronavirus disease 2019 \\xe2\\x80\\x93 Simple English\" lang=\"en-simple\" hreflang=\"en-simple\" class=\"interlanguage-link-target\">Simple English</a></li><li class=\"interlanguage-link interwiki-sd\"><a href=\"https://sd.wikipedia.org/wiki/%DA%AA%D9%88%D8%B1%D9%88%D9%86%D8%A7%D9%88%D8%A7%D8%A6%D8%B1%D8%B3_%D8%B1%D9%88%DA%B3_2019\" title=\"\\xda\\xaa\\xd9\\x88\\xd8\\xb1\\xd9\\x88\\xd9\\x86\\xd8\\xa7\\xd9\\x88\\xd8\\xa7\\xd8\\xa6\\xd8\\xb1\\xd8\\xb3 \\xd8\\xb1\\xd9\\x88\\xda\\xb3 2019 \\xe2\\x80\\x93 Sindhi\" lang=\"sd\" hreflang=\"sd\" class=\"interlanguage-link-target\">\\xd8\\xb3\\xd9\\x86\\xda\\x8c\\xd9\\x8a</a></li><li class=\"interlanguage-link interwiki-ss\"><a href=\"https://ss.wikipedia.org/wiki/Sifo_seKhorona_yango-2019\" title=\"Sifo seKhorona yango-2019 \\xe2\\x80\\x93 Swati\" lang=\"ss\" hreflang=\"ss\" class=\"interlanguage-link-target\">SiSwati</a></li><li class=\"interlanguage-link interwiki-sk\"><a href=\"https://sk.wikipedia.org/wiki/COVID-19\" title=\"COVID-19 \\xe2\\x80\\x93 Slovak\" lang=\"sk\" hreflang=\"sk\" class=\"interlanguage-link-target\">Sloven\\xc4\\x8dina</a></li><li class=\"interlanguage-link interwiki-sl\"><a href=\"https://sl.wikipedia.org/wiki/COVID-19\" title=\"COVID-19 \\xe2\\x80\\x93 Slovenian\" lang=\"sl\" hreflang=\"sl\" class=\"interlanguage-link-target\">Sloven\\xc5\\xa1\\xc4\\x8dina</a></li><li class=\"interlanguage-link interwiki-cu\"><a href=\"https://cu.wikipedia.org/wiki/COVID-19\" title=\"COVID-19 \\xe2\\x80\\x93 Church Slavic\" lang=\"cu\" hreflang=\"cu\" class=\"interlanguage-link-target\">\\xd0\\xa1\\xd0\\xbb\\xd0\\xbe\\xd0\\xb2\\xd1\\xa3\\xd0\\xbd\\xd1\\x8c\\xd1\\x81\\xd0\\xba\\xd1\\x8a / \\xe2\\xb0\\x94\\xe2\\xb0\\x8e\\xe2\\xb0\\x91\\xe2\\xb0\\x82\\xe2\\xb0\\xa1\\xe2\\xb0\\x90\\xe2\\xb0\\xa0\\xe2\\xb0\\x94\\xe2\\xb0\\x8d\\xe2\\xb0\\x9f</a></li><li class=\"interlanguage-link interwiki-szl\"><a href=\"https://szl.wikipedia.org/wiki/COVID-19\" title=\"COVID-19 \\xe2\\x80\\x93 Silesian\" lang=\"szl\" hreflang=\"szl\" class=\"interlanguage-link-target\">\\xc5\\x9al\\xc5\\xafnski</a></li><li class=\"interlanguage-link interwiki-ckb\"><a href=\"https://ckb.wikipedia.org/wiki/%D9%86%DB%95%D8%AE%DB%86%D8%B4%DB%8C%DB%8C_%DA%A4%D8%A7%DB%8C%D8%B1%DB%86%D8%B3%DB%8C_%DA%A9%DB%86%D8%B1%DB%86%D9%86%D8%A7%DB%8C_%D9%A2%D9%A0%D9%A1%D9%A9\" title=\"\\xd9\\x86\\xdb\\x95\\xd8\\xae\\xdb\\x86\\xd8\\xb4\\xdb\\x8c\\xdb\\x8c \\xda\\xa4\\xd8\\xa7\\xdb\\x8c\\xd8\\xb1\\xdb\\x86\\xd8\\xb3\\xdb\\x8c \\xda\\xa9\\xdb\\x86\\xd8\\xb1\\xdb\\x86\\xd9\\x86\\xd8\\xa7\\xdb\\x8c \\xd9\\xa2\\xd9\\xa0\\xd9\\xa1\\xd9\\xa9 \\xe2\\x80\\x93 Central Kurdish\" lang=\"ckb\" hreflang=\"ckb\" class=\"interlanguage-link-target\">\\xda\\xa9\\xd9\\x88\\xd8\\xb1\\xd8\\xaf\\xdb\\x8c</a></li><li class=\"interlanguage-link interwiki-sr\"><a href=\"https://sr.wikipedia.org/wiki/%D0%9A%D0%BE%D0%B2%D0%B8%D0%B4_19\" title=\"\\xd0\\x9a\\xd0\\xbe\\xd0\\xb2\\xd0\\xb8\\xd0\\xb4 19 \\xe2\\x80\\x93 Serbian\" lang=\"sr\" hreflang=\"sr\" class=\"interlanguage-link-target\">\\xd0\\xa1\\xd1\\x80\\xd0\\xbf\\xd1\\x81\\xd0\\xba\\xd0\\xb8 / srpski</a></li><li class=\"interlanguage-link interwiki-sh\"><a href=\"https://sh.wikipedia.org/wiki/COVID-19\" title=\"COVID-19 \\xe2\\x80\\x93 Serbo-Croatian\" lang=\"sh\" hreflang=\"sh\" class=\"interlanguage-link-target\">Srpskohrvatski / \\xd1\\x81\\xd1\\x80\\xd0\\xbf\\xd1\\x81\\xd0\\xba\\xd0\\xbe\\xd1\\x85\\xd1\\x80\\xd0\\xb2\\xd0\\xb0\\xd1\\x82\\xd1\\x81\\xd0\\xba\\xd0\\xb8</a></li><li class=\"interlanguage-link interwiki-su\"><a href=\"https://su.wikipedia.org/wiki/COVID-19\" title=\"COVID-19 \\xe2\\x80\\x93 Sundanese\" lang=\"su\" hreflang=\"su\" class=\"interlanguage-link-target\">Sunda</a></li><li class=\"interlanguage-link interwiki-fi\"><a href=\"https://fi.wikipedia.org/wiki/COVID-19\" title=\"COVID-19 \\xe2\\x80\\x93 Finnish\" lang=\"fi\" hreflang=\"fi\" class=\"interlanguage-link-target\">Suomi</a></li><li class=\"interlanguage-link interwiki-sv\"><a href=\"https://sv.wikipedia.org/wiki/Covid-19\" title=\"Covid-19 \\xe2\\x80\\x93 Swedish\" lang=\"sv\" hreflang=\"sv\" class=\"interlanguage-link-target\">Svenska</a></li><li class=\"interlanguage-link interwiki-tl\"><a href=\"https://tl.wikipedia.org/wiki/COVID-19\" title=\"COVID-19 \\xe2\\x80\\x93 Tagalog\" lang=\"tl\" hreflang=\"tl\" class=\"interlanguage-link-target\">Tagalog</a></li><li class=\"interlanguage-link interwiki-kab\"><a href=\"https://kab.wikipedia.org/wiki/A%E1%B9%AD%E1%B9%ADan_n_Coronavirus_2019\" title=\"A\\xe1\\xb9\\xad\\xe1\\xb9\\xadan n Coronavirus 2019 \\xe2\\x80\\x93 Kabyle\" lang=\"kab\" hreflang=\"kab\" class=\"interlanguage-link-target\">Taqbaylit</a></li><li class=\"interlanguage-link interwiki-tt\"><a href=\"https://tt.wikipedia.org/wiki/COVID-19_%D0%BA%D0%BE%D1%80%D0%BE%D0%BD%D0%B0%D0%B2%D0%B8%D1%80%D1%83%D1%81_%D0%B0%D0%B2%D1%8B%D1%80%D1%83%D1%8B\" title=\"COVID-19 \\xd0\\xba\\xd0\\xbe\\xd1\\x80\\xd0\\xbe\\xd0\\xbd\\xd0\\xb0\\xd0\\xb2\\xd0\\xb8\\xd1\\x80\\xd1\\x83\\xd1\\x81 \\xd0\\xb0\\xd0\\xb2\\xd1\\x8b\\xd1\\x80\\xd1\\x83\\xd1\\x8b \\xe2\\x80\\x93 Tatar\" lang=\"tt\" hreflang=\"tt\" class=\"interlanguage-link-target\">\\xd0\\xa2\\xd0\\xb0\\xd1\\x82\\xd0\\xb0\\xd1\\x80\\xd1\\x87\\xd0\\xb0/tatar\\xc3\\xa7a</a></li><li class=\"interlanguage-link interwiki-shn\"><a href=\"https://shn.wikipedia.org/wiki/%E1%80%90%E1%81%A2%E1%80%84%E1%80%BA%E1%80%B8%E1%80%95%E1%80%B5%E1%81%BC%E1%80%BA_%E1%80%9D%E1%81%A2%E1%82%86%E1%80%B8%E1%80%9B%E1%82%85%E1%80%90%E1%80%BA%E1%82%89%E1%81%B6%E1%80%B0%E1%80%9D%E1%80%BA%E1%82%87%E1%80%9B%E1%80%B0%E1%80%9D%E1%80%BA%E1%82%87%E1%81%BC%E1%82%83%E1%82%87_2019\" title=\"\\xe1\\x80\\x90\\xe1\\x81\\xa2\\xe1\\x80\\x84\\xe1\\x80\\xba\\xe1\\x80\\xb8\\xe1\\x80\\x95\\xe1\\x80\\xb5\\xe1\\x81\\xbc\\xe1\\x80\\xba \\xe1\\x80\\x9d\\xe1\\x81\\xa2\\xe1\\x82\\x86\\xe1\\x80\\xb8\\xe1\\x80\\x9b\\xe1\\x82\\x85\\xe1\\x80\\x90\\xe1\\x80\\xba\\xe1\\x82\\x89\\xe1\\x81\\xb6\\xe1\\x80\\xb0\\xe1\\x80\\x9d\\xe1\\x80\\xba\\xe1\\x82\\x87\\xe1\\x80\\x9b\\xe1\\x80\\xb0\\xe1\\x80\\x9d\\xe1\\x80\\xba\\xe1\\x82\\x87\\xe1\\x81\\xbc\\xe1\\x82\\x83\\xe1\\x82\\x87 2019 \\xe2\\x80\\x93 Shan\" lang=\"shn\" hreflang=\"shn\" class=\"interlanguage-link-target\">\\xe1\\x81\\xbd\\xe1\\x82\\x83\\xe1\\x82\\x87\\xe1\\x80\\x9e\\xe1\\x82\\x83\\xe1\\x82\\x87\\xe1\\x80\\x90\\xe1\\x82\\x86\\xe1\\x80\\xb8 </a></li><li class=\"interlanguage-link interwiki-te\"><a href=\"https://te.wikipedia.org/wiki/%E0%B0%95%E0%B1%8B%E0%B0%B5%E0%B0%BF%E0%B0%A1%E0%B1%8D-19_%E0%B0%B5%E0%B1%8D%E0%B0%AF%E0%B0%BE%E0%B0%A7%E0%B0%BF\" title=\"\\xe0\\xb0\\x95\\xe0\\xb1\\x8b\\xe0\\xb0\\xb5\\xe0\\xb0\\xbf\\xe0\\xb0\\xa1\\xe0\\xb1\\x8d-19 \\xe0\\xb0\\xb5\\xe0\\xb1\\x8d\\xe0\\xb0\\xaf\\xe0\\xb0\\xbe\\xe0\\xb0\\xa7\\xe0\\xb0\\xbf \\xe2\\x80\\x93 Telugu\" lang=\"te\" hreflang=\"te\" class=\"interlanguage-link-target\">\\xe0\\xb0\\xa4\\xe0\\xb1\\x86\\xe0\\xb0\\xb2\\xe0\\xb1\\x81\\xe0\\xb0\\x97\\xe0\\xb1\\x81</a></li><li class=\"interlanguage-link interwiki-tet\"><a href=\"https://tet.wikipedia.org/wiki/COVID-19\" title=\"COVID-19 \\xe2\\x80\\x93 Tetum\" lang=\"tet\" hreflang=\"tet\" class=\"interlanguage-link-target\">Tetun</a></li><li class=\"interlanguage-link interwiki-th\"><a href=\"https://th.wikipedia.org/wiki/%E0%B9%82%E0%B8%A3%E0%B8%84%E0%B8%95%E0%B8%B4%E0%B8%94%E0%B9%80%E0%B8%8A%E0%B8%B7%E0%B9%89%E0%B8%AD%E0%B9%84%E0%B8%A7%E0%B8%A3%E0%B8%B1%E0%B8%AA%E0%B9%82%E0%B8%84%E0%B9%82%E0%B8%A3%E0%B8%99%E0%B8%B2_2019\" title=\"\\xe0\\xb9\\x82\\xe0\\xb8\\xa3\\xe0\\xb8\\x84\\xe0\\xb8\\x95\\xe0\\xb8\\xb4\\xe0\\xb8\\x94\\xe0\\xb9\\x80\\xe0\\xb8\\x8a\\xe0\\xb8\\xb7\\xe0\\xb9\\x89\\xe0\\xb8\\xad\\xe0\\xb9\\x84\\xe0\\xb8\\xa7\\xe0\\xb8\\xa3\\xe0\\xb8\\xb1\\xe0\\xb8\\xaa\\xe0\\xb9\\x82\\xe0\\xb8\\x84\\xe0\\xb9\\x82\\xe0\\xb8\\xa3\\xe0\\xb8\\x99\\xe0\\xb8\\xb2 2019 \\xe2\\x80\\x93 Thai\" lang=\"th\" hreflang=\"th\" class=\"interlanguage-link-target\">\\xe0\\xb9\\x84\\xe0\\xb8\\x97\\xe0\\xb8\\xa2</a></li><li class=\"interlanguage-link interwiki-to\"><a href=\"https://to.wikipedia.org/wiki/KOVITI-19\" title=\"KOVITI-19 \\xe2\\x80\\x93 Tongan\" lang=\"to\" hreflang=\"to\" class=\"interlanguage-link-target\">Lea faka-Tonga</a></li><li class=\"interlanguage-link interwiki-tcy\"><a href=\"https://tcy.wikipedia.org/wiki/%E0%B2%95%E0%B3%8A%E0%B2%B0%E0%B3%8B%E0%B2%A8%E0%B2%BE%E0%B2%B5%E0%B3%88%E0%B2%B0%E0%B2%B8%E0%B3%8D_%E0%B2%B8%E0%B3%80%E0%B2%95%E0%B3%8D_%E0%B3%A8%E0%B3%A6%E0%B3%A7%E0%B3%AF\" title=\"\\xe0\\xb2\\x95\\xe0\\xb3\\x8a\\xe0\\xb2\\xb0\\xe0\\xb3\\x8b\\xe0\\xb2\\xa8\\xe0\\xb2\\xbe\\xe0\\xb2\\xb5\\xe0\\xb3\\x88\\xe0\\xb2\\xb0\\xe0\\xb2\\xb8\\xe0\\xb3\\x8d \\xe0\\xb2\\xb8\\xe0\\xb3\\x80\\xe0\\xb2\\x95\\xe0\\xb3\\x8d \\xe0\\xb3\\xa8\\xe0\\xb3\\xa6\\xe0\\xb3\\xa7\\xe0\\xb3\\xaf \\xe2\\x80\\x93 Tulu\" lang=\"tcy\" hreflang=\"tcy\" class=\"interlanguage-link-target\">\\xe0\\xb2\\xa4\\xe0\\xb3\\x81\\xe0\\xb2\\xb3\\xe0\\xb3\\x81</a></li><li class=\"interlanguage-link interwiki-tr\"><a href=\"https://tr.wikipedia.org/wiki/COVID-19\" title=\"COVID-19 \\xe2\\x80\\x93 Turkish\" lang=\"tr\" hreflang=\"tr\" class=\"interlanguage-link-target\">T\\xc3\\xbcrk\\xc3\\xa7e</a></li><li class=\"interlanguage-link interwiki-tk\"><a href=\"https://tk.wikipedia.org/wiki/COVID\" title=\"COVID \\xe2\\x80\\x93 Turkmen\" lang=\"tk\" hreflang=\"tk\" class=\"interlanguage-link-target\">T\\xc3\\xbcrkmen\\xc3\\xa7e</a></li><li class=\"interlanguage-link interwiki-din\"><a href=\"https://din.wikipedia.org/wiki/Tuaany_%C3%AB_koronabair%C3%A4th_2019\" title=\"Tuaany \\xc3\\xab koronabair\\xc3\\xa4th 2019 \\xe2\\x80\\x93 Dinka\" lang=\"din\" hreflang=\"din\" class=\"interlanguage-link-target\">Thu\\xc9\\x94\\xc5\\x8bj\\xc3\\xa4\\xc5\\x8b</a></li><li class=\"interlanguage-link interwiki-uk\"><a href=\"https://uk.wikipedia.org/wiki/%D0%9A%D0%BE%D1%80%D0%BE%D0%BD%D0%B0%D0%B2%D1%96%D1%80%D1%83%D1%81%D0%BD%D0%B0_%D1%85%D0%B2%D0%BE%D1%80%D0%BE%D0%B1%D0%B0_2019\" title=\"\\xd0\\x9a\\xd0\\xbe\\xd1\\x80\\xd0\\xbe\\xd0\\xbd\\xd0\\xb0\\xd0\\xb2\\xd1\\x96\\xd1\\x80\\xd1\\x83\\xd1\\x81\\xd0\\xbd\\xd0\\xb0 \\xd1\\x85\\xd0\\xb2\\xd0\\xbe\\xd1\\x80\\xd0\\xbe\\xd0\\xb1\\xd0\\xb0 2019 \\xe2\\x80\\x93 Ukrainian\" lang=\"uk\" hreflang=\"uk\" class=\"interlanguage-link-target\">\\xd0\\xa3\\xd0\\xba\\xd1\\x80\\xd0\\xb0\\xd1\\x97\\xd0\\xbd\\xd1\\x81\\xd1\\x8c\\xd0\\xba\\xd0\\xb0</a></li><li class=\"interlanguage-link interwiki-ur\"><a href=\"https://ur.wikipedia.org/wiki/%DA%A9%D9%88%D8%B1%D9%88%D9%86%D8%A7_%D9%88%D8%A7%D8%A6%D8%B1%D8%B3_%DA%A9%D8%A7_%D9%85%D8%B1%D8%B6_2019%D8%A1\" title=\"\\xda\\xa9\\xd9\\x88\\xd8\\xb1\\xd9\\x88\\xd9\\x86\\xd8\\xa7 \\xd9\\x88\\xd8\\xa7\\xd8\\xa6\\xd8\\xb1\\xd8\\xb3 \\xda\\xa9\\xd8\\xa7 \\xd9\\x85\\xd8\\xb1\\xd8\\xb6 2019\\xd8\\xa1 \\xe2\\x80\\x93 Urdu\" lang=\"ur\" hreflang=\"ur\" class=\"interlanguage-link-target\">\\xd8\\xa7\\xd8\\xb1\\xd8\\xaf\\xd9\\x88</a></li><li class=\"interlanguage-link interwiki-ug\"><a href=\"https://ug.wikipedia.org/wiki/%D9%8A%DB%90%DA%AD%D9%89_%D8%AA%D9%89%D9%BE%D8%AA%D9%89%D9%83%D9%89_%D8%AA%D8%A7%D8%AC%D8%B3%D9%89%D9%85%D8%A7%D9%86_%DB%8B%D9%89%D8%B1%DB%87%D8%B3_%D9%83%DB%90%D8%B3%D9%89%D9%84%D9%89(%D9%83%D9%88%DB%8B%D9%89%D8%AF-19_%D9%83%DB%90%D8%B3%D9%89%D9%84%D9%89)\" title=\"\\xd9\\x8a\\xdb\\x90\\xda\\xad\\xd9\\x89 \\xd8\\xaa\\xd9\\x89\\xd9\\xbe\\xd8\\xaa\\xd9\\x89\\xd9\\x83\\xd9\\x89 \\xd8\\xaa\\xd8\\xa7\\xd8\\xac\\xd8\\xb3\\xd9\\x89\\xd9\\x85\\xd8\\xa7\\xd9\\x86 \\xdb\\x8b\\xd9\\x89\\xd8\\xb1\\xdb\\x87\\xd8\\xb3 \\xd9\\x83\\xdb\\x90\\xd8\\xb3\\xd9\\x89\\xd9\\x84\\xd9\\x89(\\xd9\\x83\\xd9\\x88\\xdb\\x8b\\xd9\\x89\\xd8\\xaf-19 \\xd9\\x83\\xdb\\x90\\xd8\\xb3\\xd9\\x89\\xd9\\x84\\xd9\\x89) \\xe2\\x80\\x93 Uyghur\" lang=\"ug\" hreflang=\"ug\" class=\"interlanguage-link-target\">\\xd8\\xa6\\xdb\\x87\\xd9\\x8a\\xd8\\xba\\xdb\\x87\\xd8\\xb1\\xda\\x86\\xdb\\x95 / Uyghurche</a></li><li class=\"interlanguage-link interwiki-vi\"><a href=\"https://vi.wikipedia.org/wiki/B%E1%BB%87nh_virus_corona_2019\" title=\"B\\xe1\\xbb\\x87nh virus corona 2019 \\xe2\\x80\\x93 Vietnamese\" lang=\"vi\" hreflang=\"vi\" class=\"interlanguage-link-target\">Ti\\xe1\\xba\\xbfng Vi\\xe1\\xbb\\x87t</a></li><li class=\"interlanguage-link interwiki-wa\"><a href=\"https://wa.wikipedia.org/wiki/Maladeye_%C3%A5_cronivir%C3%BBsse_2019\" title=\"Maladeye \\xc3\\xa5 cronivir\\xc3\\xbbsse 2019 \\xe2\\x80\\x93 Walloon\" lang=\"wa\" hreflang=\"wa\" class=\"interlanguage-link-target\">Walon</a></li><li class=\"interlanguage-link interwiki-zh-classical\"><a href=\"https://zh-classical.wikipedia.org/wiki/%E4%BA%8C%E3%80%87%E4%B8%80%E4%B9%9D%E5%86%A0%E7%8B%80%E7%97%85%E6%AF%92%E7%97%85\" title=\"\\xe4\\xba\\x8c\\xe3\\x80\\x87\\xe4\\xb8\\x80\\xe4\\xb9\\x9d\\xe5\\x86\\xa0\\xe7\\x8b\\x80\\xe7\\x97\\x85\\xe6\\xaf\\x92\\xe7\\x97\\x85 \\xe2\\x80\\x93 Classical Chinese\" lang=\"lzh\" hreflang=\"lzh\" class=\"interlanguage-link-target\">\\xe6\\x96\\x87\\xe8\\xa8\\x80</a></li><li class=\"interlanguage-link interwiki-war\"><a href=\"https://war.wikipedia.org/wiki/COVID-19\" title=\"COVID-19 \\xe2\\x80\\x93 Waray\" lang=\"war\" hreflang=\"war\" class=\"interlanguage-link-target\">Winaray</a></li><li class=\"interlanguage-link interwiki-wuu\"><a href=\"https://wuu.wikipedia.org/wiki/2019%E5%86%A0%E7%8A%B6%E7%97%85%E6%AF%92%E7%97%85\" title=\"2019\\xe5\\x86\\xa0\\xe7\\x8a\\xb6\\xe7\\x97\\x85\\xe6\\xaf\\x92\\xe7\\x97\\x85 \\xe2\\x80\\x93 Wu Chinese\" lang=\"wuu\" hreflang=\"wuu\" class=\"interlanguage-link-target\">\\xe5\\x90\\xb4\\xe8\\xaf\\xad</a></li><li class=\"interlanguage-link interwiki-ts\"><a href=\"https://ts.wikipedia.org/wiki/Vuvabyi_bya_Khorona_bya_2019\" title=\"Vuvabyi bya Khorona bya 2019 \\xe2\\x80\\x93 Tsonga\" lang=\"ts\" hreflang=\"ts\" class=\"interlanguage-link-target\">Xitsonga</a></li><li class=\"interlanguage-link interwiki-yo\"><a href=\"https://yo.wikipedia.org/wiki/%C3%80r%C3%BAn_%C3%A8r%C3%A0nk%C3%B2r%C3%B3n%C3%A0_%E1%BB%8Dd%C3%BAn_2019\" title=\"\\xc3\\x80r\\xc3\\xban \\xc3\\xa8r\\xc3\\xa0nk\\xc3\\xb2r\\xc3\\xb3n\\xc3\\xa0 \\xe1\\xbb\\x8dd\\xc3\\xban 2019 \\xe2\\x80\\x93 Yoruba\" lang=\"yo\" hreflang=\"yo\" class=\"interlanguage-link-target\">Yor\\xc3\\xb9b\\xc3\\xa1</a></li><li class=\"interlanguage-link interwiki-zh-yue\"><a href=\"https://zh-yue.wikipedia.org/wiki/%E6%AD%A6%E6%BC%A2%E8%82%BA%E7%82%8E\" title=\"\\xe6\\xad\\xa6\\xe6\\xbc\\xa2\\xe8\\x82\\xba\\xe7\\x82\\x8e \\xe2\\x80\\x93 Cantonese\" lang=\"yue\" hreflang=\"yue\" class=\"interlanguage-link-target\">\\xe7\\xb2\\xb5\\xe8\\xaa\\x9e</a></li><li class=\"interlanguage-link interwiki-diq\"><a href=\"https://diq.wikipedia.org/wiki/Covid_19\" title=\"Covid 19 \\xe2\\x80\\x93 Zazaki\" lang=\"diq\" hreflang=\"diq\" class=\"interlanguage-link-target\">Zazaki</a></li><li class=\"interlanguage-link interwiki-zh\"><a href=\"https://zh.wikipedia.org/wiki/2019%E5%86%A0%E7%8A%B6%E7%97%85%E6%AF%92%E7%97%85\" title=\"2019\\xe5\\x86\\xa0\\xe7\\x8a\\xb6\\xe7\\x97\\x85\\xe6\\xaf\\x92\\xe7\\x97\\x85 \\xe2\\x80\\x93 Chinese\" lang=\"zh\" hreflang=\"zh\" class=\"interlanguage-link-target\">\\xe4\\xb8\\xad\\xe6\\x96\\x87</a></li></ul>\\n\\t\\t<div class=\"after-portlet after-portlet-lang\"><span class=\"wb-langlinks-edit wb-langlinks-link\"><a href=\"https://www.wikidata.org/wiki/Special:EntityPage/Q84263196#sitelinks-wikipedia\" title=\"Edit interlanguage links\" class=\"wbc-editpage\">Edit links</a></span></div>\\n\\t</div>\\n</nav>\\n\\n</div>\\n\\n</div>\\n<footer id=\"footer\" class=\"mw-footer\" role=\"contentinfo\" >\\n\\t<ul id=\"footer-info\" >\\n\\t<li id=\"footer-info-lastmod\"> This page was last edited on 23 May 2021, at 11:09<span class=\"anonymous-show\">&#160;(UTC)</span>.</li>\\n\\t<li id=\"footer-info-copyright\">Text is available under the <a rel=\"license\" href=\"//en.wikipedia.org/wiki/Wikipedia:Text_of_Creative_Commons_Attribution-ShareAlike_3.0_Unported_License\">Creative Commons Attribution-ShareAlike License</a><a rel=\"license\" href=\"//creativecommons.org/licenses/by-sa/3.0/\" style=\"display:none;\"></a>;\\nadditional terms may apply.  By using this site, you agree to the <a href=\"//foundation.wikimedia.org/wiki/Terms_of_Use\">Terms of Use</a> and <a href=\"//foundation.wikimedia.org/wiki/Privacy_policy\">Privacy Policy</a>. Wikipedia\\xc2\\xae is a registered trademark of the <a href=\"//www.wikimediafoundation.org/\">Wikimedia Foundation, Inc.</a>, a non-profit organization.</li>\\n</ul>\\n\\n\\t<ul id=\"footer-places\" >\\n\\t<li id=\"footer-places-privacy\"><a href=\"https://foundation.wikimedia.org/wiki/Privacy_policy\" class=\"extiw\" title=\"wmf:Privacy policy\">Privacy policy</a></li>\\n\\t<li id=\"footer-places-about\"><a href=\"/wiki/Wikipedia:About\" title=\"Wikipedia:About\">About Wikipedia</a></li>\\n\\t<li id=\"footer-places-disclaimer\"><a href=\"/wiki/Wikipedia:General_disclaimer\" title=\"Wikipedia:General disclaimer\">Disclaimers</a></li>\\n\\t<li id=\"footer-places-contact\"><a href=\"//en.wikipedia.org/wiki/Wikipedia:Contact_us\">Contact Wikipedia</a></li>\\n\\t<li id=\"footer-places-mobileview\"><a href=\"//en.m.wikipedia.org/w/index.php?title=COVID-19&amp;mobileaction=toggle_view_mobile\" class=\"noprint stopMobileRedirectToggle\">Mobile view</a></li>\\n\\t<li id=\"footer-places-developers\"><a href=\"https://www.mediawiki.org/wiki/Special:MyLanguage/How_to_contribute\">Developers</a></li>\\n\\t<li id=\"footer-places-statslink\"><a href=\"https://stats.wikimedia.org/#/en.wikipedia.org\">Statistics</a></li>\\n\\t<li id=\"footer-places-cookiestatement\"><a href=\"https://foundation.wikimedia.org/wiki/Cookie_statement\">Cookie statement</a></li>\\n</ul>\\n\\n\\t<ul id=\"footer-icons\" class=\"noprint\">\\n\\t<li id=\"footer-copyrightico\"><a href=\"https://wikimediafoundation.org/\"><img src=\"/static/images/footer/wikimedia-button.png\" srcset=\"/static/images/footer/wikimedia-button-1.5x.png 1.5x, /static/images/footer/wikimedia-button-2x.png 2x\" width=\"88\" height=\"31\" alt=\"Wikimedia Foundation\" loading=\"lazy\" /></a></li>\\n\\t<li id=\"footer-poweredbyico\"><a href=\"https://www.mediawiki.org/\"><img src=\"/static/images/footer/poweredby_mediawiki_88x31.png\" alt=\"Powered by MediaWiki\" srcset=\"/static/images/footer/poweredby_mediawiki_132x47.png 1.5x, /static/images/footer/poweredby_mediawiki_176x62.png 2x\" width=\"88\" height=\"31\" loading=\"lazy\"/></a></li>\\n</ul>\\n\\n</footer>\\n\\n\\n<script>(RLQ=window.RLQ||[]).push(function(){mw.config.set({\"wgPageParseReport\":{\"limitreport\":{\"cputime\":\"7.832\",\"walltime\":\"8.442\",\"ppvisitednodes\":{\"value\":33064,\"limit\":1000000},\"postexpandincludesize\":{\"value\":1724916,\"limit\":2097152},\"templateargumentsize\":{\"value\":38823,\"limit\":2097152},\"expansiondepth\":{\"value\":22,\"limit\":40},\"expensivefunctioncount\":{\"value\":35,\"limit\":500},\"unstrip-depth\":{\"value\":1,\"limit\":20},\"unstrip-size\":{\"value\":1568631,\"limit\":5000000},\"entityaccesscount\":{\"value\":1,\"limit\":400},\"timingprofile\":[\"100.00% 6925.368      1 -total\",\" 59.77% 4139.097      2 Template:Reflist\",\" 29.99% 2077.020    207 Template:Cite_journal\",\" 12.53%  867.866    148 Template:Cite_web\",\" 11.34%  785.487      4 Template:Excerpt\",\"  4.34%  300.774     46 Template:Cite_news\",\"  3.67%  254.238      2 Template:Infobox\",\"  2.70%  186.706      1 Template:Authority_control\",\"  2.21%  153.149      1 Template:Infobox_medical_condition\",\"  2.16%  149.325      1 Template:Cite_OED\"]},\"scribunto\":{\"limitreport-timeusage\":{\"value\":\"4.766\",\"limit\":\"10.000\"},\"limitreport-memusage\":{\"value\":16985935,\"limit\":52428800},\"limitreport-logs\":\"table#1 {\\\\n  [\\\\\"size\\\\\"] = \\\\\"tiny\\\\\",\\\\n  [\\\\\"text\\\\\"] = \\\\\"COVID-19 portal\\\\\",\\\\n}\\\\ntable#1 {\\\\n}\\\\ntable#1 {\\\\n}\\\\ntable#1 {\\\\n}\\\\n\",\"limitreport-profile\":[[\"Scribunto_LuaSandboxCallback::match\",\"680\",\"13.7\"],[\"?\",\"620\",\"12.4\"],[\"Scribunto_LuaSandboxCallback::gsub\",\"440\",\"8.8\"],[\"Scribunto_LuaSandboxCallback::find\",\"360\",\"7.2\"],[\"dataWrapper \\\\u003Cmw.lua:668\\\\u003E\",\"320\",\"6.4\"],[\"Scribunto_LuaSandboxCallback::callParserFunction\",\"300\",\"6.0\"],[\"recursiveClone \\\\u003CmwInit.lua:41\\\\u003E\",\"200\",\"4.0\"],[\"Scribunto_LuaSandboxCallback::plain\",\"160\",\"3.2\"],[\"Scribunto_LuaSandboxCallback::getExpandedArgument\",\"140\",\"2.8\"],[\"Scribunto_LuaSandboxCallback::sub\",\"140\",\"2.8\"],[\"[others]\",\"1620\",\"32.5\"]]},\"cachereport\":{\"origin\":\"mw1324\",\"timestamp\":\"20210523163611\",\"ttl\":2592000,\"transientcontent\":false}}});});</script>\\n<script type=\"application/ld+json\">{\"@context\":\"https:\\\\/\\\\/schema.org\",\"@type\":\"Article\",\"name\":\"COVID-19\",\"url\":\"https:\\\\/\\\\/en.wikipedia.org\\\\/wiki\\\\/COVID-19\",\"sameAs\":\"http:\\\\/\\\\/www.wikidata.org\\\\/entity\\\\/Q84263196\",\"mainEntity\":\"http:\\\\/\\\\/www.wikidata.org\\\\/entity\\\\/Q84263196\",\"author\":{\"@type\":\"Organization\",\"name\":\"Contributors to Wikimedia projects\"},\"publisher\":{\"@type\":\"Organization\",\"name\":\"Wikimedia Foundation, Inc.\",\"logo\":{\"@type\":\"ImageObject\",\"url\":\"https:\\\\/\\\\/www.wikimedia.org\\\\/static\\\\/images\\\\/wmf-hor-googpub.png\"}},\"datePublished\":\"2020-02-05T12:30:37Z\",\"dateModified\":\"2021-05-23T11:09:28Z\",\"image\":\"https:\\\\/\\\\/upload.wikimedia.org\\\\/wikipedia\\\\/commons\\\\/4\\\\/48\\\\/Fphar-11-00937-g001.jpg\",\"headline\":\"respiratory syndrome and infectious disease in humans, caused by SARS coronavirus 2\"}</script>\\n<script>(RLQ=window.RLQ||[]).push(function(){mw.config.set({\"wgBackendResponseTime\":189,\"wgHostname\":\"mw1397\"});});</script>\\n</body></html>'"
            ]
          },
          "metadata": {},
          "execution_count": 68
        }
      ]
    },
    {
      "cell_type": "code",
      "metadata": {
        "id": "jvjNUghruM3j"
      },
      "source": [
        "# Get all the links\n",
        "p = soup.find(id=\"bodyContent\").find_all(\"p\") # \"a\""
      ],
      "execution_count": 69,
      "outputs": []
    },
    {
      "cell_type": "code",
      "metadata": {
        "colab": {
          "base_uri": "https://localhost:8080/",
          "height": 67
        },
        "id": "Hecg5C84vkzJ",
        "outputId": "6c25c4ce-f871-4284-b75b-b2ffd9ebcfd0"
      },
      "source": [
        "from IPython.core.display import HTML\n",
        "HTML(str(p[5]))"
      ],
      "execution_count": 70,
      "outputs": [
        {
          "output_type": "execute_result",
          "data": {
            "text/plain": [
              "<IPython.core.display.HTML object>"
            ],
            "text/html": "<p><a href=\"/wiki/Transmission_of_COVID-19\" title=\"Transmission of COVID-19\">Transmission of COVID-19</a> occurs when people are exposed to virus-containing <a href=\"/wiki/Respiratory_droplet\" title=\"Respiratory droplet\">respiratory droplets</a> and <a href=\"/wiki/Airborne_transmission\" title=\"Airborne transmission\">airborne</a> particles exhaled by an infected person.<sup class=\"reference\" id=\"cite_ref-:1023_16-0\"><a href=\"#cite_note-:1023-16\">[16]</a></sup><sup class=\"reference\" id=\"cite_ref-17\"><a href=\"#cite_note-17\">[17]</a></sup> Those particles may be inhaled or may reach the mouth, nose, or eyes of a person through touching or direct deposition (i.e. being coughed on).<sup class=\"reference\" id=\"cite_ref-:1023_16-1\"><a href=\"#cite_note-:1023-16\">[16]</a></sup> The risk of infection is highest when people are in close proximity for a long time, but particles can be inhaled over longer distances, particularly indoors in poorly ventilated and crowded spaces.<sup class=\"reference\" id=\"cite_ref-:1023_16-2\"><a href=\"#cite_note-:1023-16\">[16]</a></sup><sup class=\"reference\" id=\"cite_ref-18\"><a href=\"#cite_note-18\">[18]</a></sup> In those conditions small particles can remain suspended in the air for minutes to hours.<sup class=\"reference\" id=\"cite_ref-:1023_16-3\"><a href=\"#cite_note-:1023-16\">[16]</a></sup> Touching a <a href=\"/wiki/Fomite\" title=\"Fomite\">contaminated surface or object</a> may lead to infection although this does not contribute substantially to transmission.<sup class=\"reference\" id=\"cite_ref-:1023_16-4\"><a href=\"#cite_note-:1023-16\">[16]</a></sup><sup class=\"reference\" id=\"cite_ref-ecdc_transmission_19-0\"><a href=\"#cite_note-ecdc_transmission-19\">[19]</a></sup> People who are infected can transmit the virus to another person up to two days before they themselves show symptoms, as can people who do not experience symptoms.<sup class=\"reference\" id=\"cite_ref-20\"><a href=\"#cite_note-20\">[20]</a></sup><sup class=\"reference\" id=\"cite_ref-21\"><a href=\"#cite_note-21\">[21]</a></sup> People remain infectious for up to ten days after the onset of symptoms in moderate cases and up to twenty days in severe cases.<sup class=\"reference\" id=\"cite_ref-22\"><a href=\"#cite_note-22\">[22]</a></sup>\n</p>"
          },
          "metadata": {},
          "execution_count": 70
        }
      ]
    },
    {
      "cell_type": "code",
      "execution_count": 82,
      "metadata": {},
      "outputs": [
        {
          "output_type": "execute_result",
          "data": {
            "text/plain": [
              "<IPython.core.display.HTML object>"
            ],
            "text/html": "<p><a href=\"/wiki/Transmission_of_COVID-19\" title=\"Transmission of COVID-19\">Transmission of COVID-19</a> occurs when people are exposed to virus-containing <a href=\"/wiki/Respiratory_droplet\" title=\"Respiratory droplet\">respiratory droplets</a> and <a href=\"/wiki/Airborne_transmission\" title=\"Airborne transmission\">airborne</a> particles exhaled by an infected person.<sup class=\"reference\" id=\"cite_ref-:1023_16-0\"><a href=\"#cite_note-:1023-16\">[16]</a></sup><sup class=\"reference\" id=\"cite_ref-17\"><a href=\"#cite_note-17\">[17]</a></sup> Those particles may be inhaled or may reach the mouth, nose, or eyes of a person through touching or direct deposition (i.e. being coughed on).<sup class=\"reference\" id=\"cite_ref-:1023_16-1\"><a href=\"#cite_note-:1023-16\">[16]</a></sup> The risk of infection is highest when people are in close proximity for a long time, but particles can be inhaled over longer distances, particularly indoors in poorly ventilated and crowded spaces.<sup class=\"reference\" id=\"cite_ref-:1023_16-2\"><a href=\"#cite_note-:1023-16\">[16]</a></sup><sup class=\"reference\" id=\"cite_ref-18\"><a href=\"#cite_note-18\">[18]</a></sup> In those conditions small particles can remain suspended in the air for minutes to hours.<sup class=\"reference\" id=\"cite_ref-:1023_16-3\"><a href=\"#cite_note-:1023-16\">[16]</a></sup> Touching a <a href=\"/wiki/Fomite\" title=\"Fomite\">contaminated surface or object</a> may lead to infection although this does not contribute substantially to transmission.<sup class=\"reference\" id=\"cite_ref-:1023_16-4\"><a href=\"#cite_note-:1023-16\">[16]</a></sup><sup class=\"reference\" id=\"cite_ref-ecdc_transmission_19-0\"><a href=\"#cite_note-ecdc_transmission-19\">[19]</a></sup> People who are infected can transmit the virus to another person up to two days before they themselves show symptoms, as can people who do not experience symptoms.<sup class=\"reference\" id=\"cite_ref-20\"><a href=\"#cite_note-20\">[20]</a></sup><sup class=\"reference\" id=\"cite_ref-21\"><a href=\"#cite_note-21\">[21]</a></sup> People remain infectious for up to ten days after the onset of symptoms in moderate cases and up to twenty days in severe cases.<sup class=\"reference\" id=\"cite_ref-22\"><a href=\"#cite_note-22\">[22]</a></sup>\n</p>"
          },
          "metadata": {},
          "execution_count": 82
        }
      ],
      "source": [
        "u = HTML(str(p[5]))\n",
        "u"
      ]
    },
    {
      "cell_type": "markdown",
      "metadata": {
        "id": "d7YEfY3qqq10"
      },
      "source": [
        "### TODO #4\n",
        "1. Dùng function `send_email` in Excercise 1.1, thay phần 3 trong nội dùng email bằng thông tin COVID-19 từ Wikipedia gửi cho 1 địa chỉ email của bạn"
      ]
    },
    {
      "cell_type": "code",
      "execution_count": 75,
      "metadata": {},
      "outputs": [],
      "source": [
        "def send_email3(receiver_email, subject, part1, part2, part3):\n",
        "  # YOUR CODE\n",
        "  sender_email = os.environ['SENDER_EMAIL']\n",
        "  password = os.environ['PWD_EMAIL']\n",
        "\n",
        "  email = MIMEMultipart()\n",
        "  email[\"From\"] = sender_email\n",
        "  email[\"To\"] = receiver_email \n",
        "  email[\"Subject\"] = subject\n",
        "\n",
        "  # (2) Create Body part\n",
        "  # We use html, you can convert word to html: https://wordtohtml.net/\n",
        "\n",
        "  # Combine parts\n",
        "  part1 = MIMEText(part1, 'plain')\n",
        "  part2 = MIMEText(part2, 'plain')\n",
        "  part3 = MIMEText(part3, 'html')\n",
        "\n",
        "  email.attach(part1)\n",
        "  email.attach(part2)\n",
        "  email.attach(part3)\n",
        "\n",
        "  # (3) Create SMTP session for sending the mail\n",
        "  session = smtplib.SMTP('smtp.gmail.com', 587) #use gmail with port\n",
        "  session.starttls() #enable security\n",
        "  session.login(sender_email, password) #login with mail_id and password\n",
        "  text = email.as_string()\n",
        "  session.sendmail(sender_email, receiver_email, text)\n",
        "  session.quit()\n",
        "\n",
        "  print('DONE! Mail Sent'.format(sender_email, receiver_email))"
      ]
    },
    {
      "cell_type": "code",
      "execution_count": 84,
      "metadata": {},
      "outputs": [
        {
          "output_type": "stream",
          "name": "stdout",
          "text": [
            "DONE! Mail Sent\n"
          ]
        }
      ],
      "source": [
        "email3 = input()\n",
        "d = str(HTML(str(p[5])))\n",
        "send_email3(email3, subject, 'This email is ', 'sending ', d)"
      ]
    },
    {
      "cell_type": "markdown",
      "metadata": {
        "id": "kxfS-b_T2W0a"
      },
      "source": [
        "## CSV"
      ]
    },
    {
      "cell_type": "markdown",
      "metadata": {
        "id": "3ssJNK-0rUo4"
      },
      "source": [
        "### Concept CSV\n",
        "* CSV là dạng data có các cột được ngăn cách bằng dấu phẩy ([Comma-separated value](https://en.wikipedia.org/wiki/Comma-separated_values#:~:text=A%20comma%2Dseparated%20values%20(CSV,more%20fields%2C%20separated%20by%20commas.))\n",
        "* Đây là dạng data (bảng) cực kỳ phổ biến trong Data Analytics & Data Science\n",
        "* Có thể đọc, ghi, và xử lý bằng `pandas`"
      ]
    },
    {
      "cell_type": "code",
      "metadata": {
        "id": "36c89M5BymVw"
      },
      "source": [
        "csv = \"\"\"email,contents,city\n",
        "abc@gmail.com,News,Hanoi\n",
        "xyz@gmail.com,Weather,London\n",
        "\"\"\"\n",
        "f = open('email_list.csv','w') ## write to text file\n",
        "f.write(csv)\n",
        "f.close()"
      ],
      "execution_count": 86,
      "outputs": []
    },
    {
      "cell_type": "code",
      "metadata": {
        "colab": {
          "base_uri": "https://localhost:8080/"
        },
        "id": "-yNfErkP20Pt",
        "outputId": "aaf39923-3fe0-4b9a-c98d-909bc6cd8d52"
      },
      "source": [
        "!dir"
      ],
      "execution_count": 87,
      "outputs": [
        {
          "output_type": "stream",
          "name": "stdout",
          "text": [
            " Volume in drive C is System\n Volume Serial Number is 140C-D8FD\n\n Directory of c:\\Users\\Admin\\OneDrive\\Documents\\GitHub\\atom-assignments\\assignment_2\n\n05/19/2021  11:21 PM    <DIR>          .\n05/19/2021  11:21 PM    <DIR>          ..\n05/23/2021  11:50 PM                77 email_list.csv\n05/13/2021  10:44 PM               101 env_variable.py\n05/23/2021  06:20 PM               144 env_variable_1.json\n05/18/2021  09:59 PM               144 env_variable_test.json\n05/22/2021  10:43 AM            70,166 home_assignment_2.ipynb\n05/18/2021  09:59 PM               131 README.md\n05/23/2021  06:24 PM               114 weather.txt\n05/23/2021  11:38 PM                60 weather_abc.txt\n               8 File(s)         70,937 bytes\n               2 Dir(s)  10,711,257,088 bytes free\n"
          ]
        }
      ]
    },
    {
      "cell_type": "code",
      "metadata": {
        "id": "9BNju19j3B5d"
      },
      "source": [
        "import pandas as pd\n",
        "email_list = pd.read_csv('email_list.csv')"
      ],
      "execution_count": 88,
      "outputs": []
    },
    {
      "cell_type": "code",
      "metadata": {
        "colab": {
          "base_uri": "https://localhost:8080/",
          "height": 111
        },
        "id": "AsOSx3hT3Ih2",
        "outputId": "d88c855a-5a75-4be0-876b-939cad2e77f6"
      },
      "source": [
        "email_list"
      ],
      "execution_count": 89,
      "outputs": [
        {
          "output_type": "execute_result",
          "data": {
            "text/plain": [
              "           email contents    city\n",
              "0  abc@gmail.com     News   Hanoi\n",
              "1  xyz@gmail.com  Weather  London"
            ],
            "text/html": "<div>\n<style scoped>\n    .dataframe tbody tr th:only-of-type {\n        vertical-align: middle;\n    }\n\n    .dataframe tbody tr th {\n        vertical-align: top;\n    }\n\n    .dataframe thead th {\n        text-align: right;\n    }\n</style>\n<table border=\"1\" class=\"dataframe\">\n  <thead>\n    <tr style=\"text-align: right;\">\n      <th></th>\n      <th>email</th>\n      <th>contents</th>\n      <th>city</th>\n    </tr>\n  </thead>\n  <tbody>\n    <tr>\n      <td>0</td>\n      <td>abc@gmail.com</td>\n      <td>News</td>\n      <td>Hanoi</td>\n    </tr>\n    <tr>\n      <td>1</td>\n      <td>xyz@gmail.com</td>\n      <td>Weather</td>\n      <td>London</td>\n    </tr>\n  </tbody>\n</table>\n</div>"
          },
          "metadata": {},
          "execution_count": 89
        }
      ]
    },
    {
      "cell_type": "markdown",
      "metadata": {
        "id": "lDxNcYmxq3zr"
      },
      "source": [
        "### TODO #5\n",
        "* Add các địa chỉ email có ý nghĩa, và thêm dòng vào file csv (lưu ý không có dấu cách)\n",
        "* Dùng code để gửi email cho một list từ csv:\n",
        "  - Nếu email có contents = 'News' => Gửi thông tin COVID19\n",
        "  - Nếu email có contents = 'Weather' => Gửi thông tin thời tiết theo thành phố trong cột city (lưu ý check các city được hỗ trợ trong API)\n",
        "\n",
        "**Hints:**\n",
        "* Sử dụng loops for ... in \n",
        "* Sử dụng function `send_email`, `get_weather_data`"
      ]
    },
    {
      "cell_type": "code",
      "metadata": {
        "colab": {
          "base_uri": "https://localhost:8080/"
        },
        "id": "EQ9nMwc93KS8",
        "outputId": "03570269-1b07-41f7-f98b-0a8ec0b411bd"
      },
      "source": [
        "for i in list(range(2)):\n",
        "  print('Email #{}'.format(i))\n",
        "  if email_list['contents'][i] == 'News':\n",
        "    print('COVID To: {}'.format(email_list['email'][i]))\n",
        "    # TODO: Send a COVID News\n",
        "    send_email(email_list['email'][i], subject, part1, part2, part3)\n",
        "  elif email_list['contents'][i] == 'Weather':\n",
        "    print('Weather To: {}'.format(email_list['email'][i]))\n",
        "    # TODO: Send a Weather updates by the city\n",
        "    city2 = email_list['city'][i]\n",
        "    get_weather_data1(city2)\n",
        "    send_email2(email_list['email'][i], subject, get_weather_data1, part2, part3)\n",
        "  else:\n",
        "    print('Invalid Contents')\n",
        "print('DONE!')"
      ],
      "execution_count": 95,
      "outputs": [
        {
          "output_type": "stream",
          "name": "stdout",
          "text": [
            "Email #0\nCOVID To: abc@gmail.com\n"
          ]
        },
        {
          "output_type": "error",
          "ename": "AttributeError",
          "evalue": "'MIMEText' object has no attribute 'encode'",
          "traceback": [
            "\u001b[1;31m---------------------------------------------------------------------------\u001b[0m",
            "\u001b[1;31mAttributeError\u001b[0m                            Traceback (most recent call last)",
            "\u001b[1;32m<ipython-input-95-bc35fdd5006b>\u001b[0m in \u001b[0;36m<module>\u001b[1;34m\u001b[0m\n\u001b[0;32m      4\u001b[0m     \u001b[0mprint\u001b[0m\u001b[1;33m(\u001b[0m\u001b[1;34m'COVID To: {}'\u001b[0m\u001b[1;33m.\u001b[0m\u001b[0mformat\u001b[0m\u001b[1;33m(\u001b[0m\u001b[0memail_list\u001b[0m\u001b[1;33m[\u001b[0m\u001b[1;34m'email'\u001b[0m\u001b[1;33m]\u001b[0m\u001b[1;33m[\u001b[0m\u001b[0mi\u001b[0m\u001b[1;33m]\u001b[0m\u001b[1;33m)\u001b[0m\u001b[1;33m)\u001b[0m\u001b[1;33m\u001b[0m\u001b[1;33m\u001b[0m\u001b[0m\n\u001b[0;32m      5\u001b[0m     \u001b[1;31m# TODO: Send a COVID News\u001b[0m\u001b[1;33m\u001b[0m\u001b[1;33m\u001b[0m\u001b[1;33m\u001b[0m\u001b[0m\n\u001b[1;32m----> 6\u001b[1;33m     \u001b[0msend_email\u001b[0m\u001b[1;33m(\u001b[0m\u001b[0memail_list\u001b[0m\u001b[1;33m[\u001b[0m\u001b[1;34m'email'\u001b[0m\u001b[1;33m]\u001b[0m\u001b[1;33m[\u001b[0m\u001b[0mi\u001b[0m\u001b[1;33m]\u001b[0m\u001b[1;33m,\u001b[0m \u001b[0msubject\u001b[0m\u001b[1;33m,\u001b[0m \u001b[0mpart1\u001b[0m\u001b[1;33m,\u001b[0m \u001b[0mpart2\u001b[0m\u001b[1;33m,\u001b[0m \u001b[0mpart3\u001b[0m\u001b[1;33m)\u001b[0m\u001b[1;33m\u001b[0m\u001b[1;33m\u001b[0m\u001b[0m\n\u001b[0m\u001b[0;32m      7\u001b[0m   \u001b[1;32melif\u001b[0m \u001b[0memail_list\u001b[0m\u001b[1;33m[\u001b[0m\u001b[1;34m'contents'\u001b[0m\u001b[1;33m]\u001b[0m\u001b[1;33m[\u001b[0m\u001b[0mi\u001b[0m\u001b[1;33m]\u001b[0m \u001b[1;33m==\u001b[0m \u001b[1;34m'Weather'\u001b[0m\u001b[1;33m:\u001b[0m\u001b[1;33m\u001b[0m\u001b[1;33m\u001b[0m\u001b[0m\n\u001b[0;32m      8\u001b[0m     \u001b[0mprint\u001b[0m\u001b[1;33m(\u001b[0m\u001b[1;34m'Weather To: {}'\u001b[0m\u001b[1;33m.\u001b[0m\u001b[0mformat\u001b[0m\u001b[1;33m(\u001b[0m\u001b[0memail_list\u001b[0m\u001b[1;33m[\u001b[0m\u001b[1;34m'email'\u001b[0m\u001b[1;33m]\u001b[0m\u001b[1;33m[\u001b[0m\u001b[0mi\u001b[0m\u001b[1;33m]\u001b[0m\u001b[1;33m)\u001b[0m\u001b[1;33m)\u001b[0m\u001b[1;33m\u001b[0m\u001b[1;33m\u001b[0m\u001b[0m\n",
            "\u001b[1;32m<ipython-input-91-b06fb9960f88>\u001b[0m in \u001b[0;36msend_email\u001b[1;34m(receiver_email, subject, part1, part2, part3)\u001b[0m\n\u001b[0;32m     13\u001b[0m \u001b[1;33m\u001b[0m\u001b[0m\n\u001b[0;32m     14\u001b[0m   \u001b[1;31m# Combine parts\u001b[0m\u001b[1;33m\u001b[0m\u001b[1;33m\u001b[0m\u001b[1;33m\u001b[0m\u001b[0m\n\u001b[1;32m---> 15\u001b[1;33m   \u001b[0mpart1\u001b[0m \u001b[1;33m=\u001b[0m \u001b[0mMIMEText\u001b[0m\u001b[1;33m(\u001b[0m\u001b[0mpart1\u001b[0m\u001b[1;33m,\u001b[0m \u001b[1;34m'plain'\u001b[0m\u001b[1;33m)\u001b[0m \u001b[1;31m#Đổi html1 thành part 1 vì html là một biến đã khai báo\u001b[0m\u001b[1;33m\u001b[0m\u001b[1;33m\u001b[0m\u001b[0m\n\u001b[0m\u001b[0;32m     16\u001b[0m   \u001b[0mpart2\u001b[0m \u001b[1;33m=\u001b[0m \u001b[0mMIMEText\u001b[0m\u001b[1;33m(\u001b[0m\u001b[0mpart2\u001b[0m\u001b[1;33m,\u001b[0m \u001b[1;34m'plain'\u001b[0m\u001b[1;33m)\u001b[0m\u001b[1;33m\u001b[0m\u001b[1;33m\u001b[0m\u001b[0m\n\u001b[0;32m     17\u001b[0m   \u001b[0mpart3\u001b[0m \u001b[1;33m=\u001b[0m \u001b[0mMIMEText\u001b[0m\u001b[1;33m(\u001b[0m\u001b[0mpart3\u001b[0m\u001b[1;33m,\u001b[0m \u001b[1;34m'plain'\u001b[0m\u001b[1;33m)\u001b[0m\u001b[1;33m\u001b[0m\u001b[1;33m\u001b[0m\u001b[0m\n",
            "\u001b[1;32m~\\Anaconda3\\lib\\email\\mime\\text.py\u001b[0m in \u001b[0;36m__init__\u001b[1;34m(self, _text, _subtype, _charset, policy)\u001b[0m\n\u001b[0;32m     32\u001b[0m         \u001b[1;32mif\u001b[0m \u001b[0m_charset\u001b[0m \u001b[1;32mis\u001b[0m \u001b[1;32mNone\u001b[0m\u001b[1;33m:\u001b[0m\u001b[1;33m\u001b[0m\u001b[1;33m\u001b[0m\u001b[0m\n\u001b[0;32m     33\u001b[0m             \u001b[1;32mtry\u001b[0m\u001b[1;33m:\u001b[0m\u001b[1;33m\u001b[0m\u001b[1;33m\u001b[0m\u001b[0m\n\u001b[1;32m---> 34\u001b[1;33m                 \u001b[0m_text\u001b[0m\u001b[1;33m.\u001b[0m\u001b[0mencode\u001b[0m\u001b[1;33m(\u001b[0m\u001b[1;34m'us-ascii'\u001b[0m\u001b[1;33m)\u001b[0m\u001b[1;33m\u001b[0m\u001b[1;33m\u001b[0m\u001b[0m\n\u001b[0m\u001b[0;32m     35\u001b[0m                 \u001b[0m_charset\u001b[0m \u001b[1;33m=\u001b[0m \u001b[1;34m'us-ascii'\u001b[0m\u001b[1;33m\u001b[0m\u001b[1;33m\u001b[0m\u001b[0m\n\u001b[0;32m     36\u001b[0m             \u001b[1;32mexcept\u001b[0m \u001b[0mUnicodeEncodeError\u001b[0m\u001b[1;33m:\u001b[0m\u001b[1;33m\u001b[0m\u001b[1;33m\u001b[0m\u001b[0m\n",
            "\u001b[1;31mAttributeError\u001b[0m: 'MIMEText' object has no attribute 'encode'"
          ]
        }
      ]
    },
    {
      "cell_type": "code",
      "execution_count": null,
      "metadata": {},
      "outputs": [],
      "source": []
    }
  ]
}